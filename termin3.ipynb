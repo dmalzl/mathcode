{
 "cells": [
  {
   "cell_type": "markdown",
   "id": "f15f1098-16df-4022-bae6-9f1dee4641b6",
   "metadata": {},
   "source": [
    "# Vektoren und Matrizen\n",
    "Erstellen Sie zwei Vektoren $a$ und $b$, die die Zahlen {0,2,4,6,8} enthalten, auf zwei Arten: einmal mit arange und einmal mit linspace. Setzen Sie dann den ersten Eintrag in $b$ auf 1 und geben Sie beide Vektoren aus. Berechnen Sie nun $\\langle a,b \\rangle$ und $M = a*b^T$ und geben Sie das Resultat und jeweils die resultierende Dimension aus (Achtung: zur Erstellung von $M$ müssen Sie die Vektoren $a$ und $b$ als Matrizen auffassen, z.B. mit np.asmatrix()).  Ersetzen Sie die Diagonale von $M$ nun so, dass die Determinante nicht 0 ist und lösen Sie dann das Gleichungssystem $Mx=b$."
   ]
  },
  {
   "cell_type": "code",
   "execution_count": 1,
   "id": "167d79ab-4dbd-4736-af5e-22cbcb2b42b6",
   "metadata": {},
   "outputs": [
    {
     "name": "stdout",
     "output_type": "stream",
     "text": [
      "120.0 dims = ()\n",
      "[[ 0.  0.  0.  0.  0.]\n",
      " [ 2.  4.  8. 12. 16.]\n",
      " [ 4.  8. 16. 24. 32.]\n",
      " [ 6. 12. 24. 36. 48.]\n",
      " [ 8. 16. 32. 48. 64.]] dims = (5, 5)\n"
     ]
    }
   ],
   "source": [
    "import numpy as np\n",
    "a = np.arange(0, 9, 2)\n",
    "b = np.linspace(0, 8, 5)\n",
    "b[0] = 1\n",
    "x = a.dot(b)\n",
    "# alternatively also with a.reshape(-1, 1).dot(b.reshape(1, -1))\n",
    "M = np.outer(a, b)\n",
    "print(x, f'dims = {x.shape}')\n",
    "print(M, f'dims = {M.shape}')"
   ]
  },
  {
   "cell_type": "code",
   "execution_count": 2,
   "id": "37cbd0f4-2441-4224-b83b-f37c6e9e8fb0",
   "metadata": {},
   "outputs": [
    {
     "data": {
      "text/plain": [
       "-499808.0"
      ]
     },
     "execution_count": 2,
     "metadata": {},
     "output_type": "execute_result"
    }
   ],
   "source": [
    "M[np.diag_indices_from(M)] = 2\n",
    "np.linalg.det(M)"
   ]
  },
  {
   "cell_type": "code",
   "execution_count": 3,
   "id": "08cfd74c-5516-4f66-bdbe-a83ea3910723",
   "metadata": {},
   "outputs": [
    {
     "data": {
      "text/plain": [
       "array([0.5       , 0.11809335, 0.03374096, 0.02084   , 0.01523785])"
      ]
     },
     "execution_count": 3,
     "metadata": {},
     "output_type": "execute_result"
    }
   ],
   "source": [
    "np.linalg.solve(M, b)"
   ]
  },
  {
   "cell_type": "markdown",
   "id": "5b76555d-9319-4f15-9fd6-166a7489f69a",
   "metadata": {
    "tags": []
   },
   "source": [
    "# Matrix powers\n",
    "a) Definieren Sie zunächst eine Funktion, die die Matrix\n",
    "$$\n",
    "  A_x = \n",
    "  \\begin{pmatrix}\n",
    "  1 - \\cos(x)&\\sin(x) \\\\\n",
    "  \\sin(x)&1+\\cos(x) \\\\\n",
    "  \\end{pmatrix}\n",
    "$$\n",
    "\n",
    "für beliebige $x$ erstellt und zurückgibt. Schreiben Sie eine weitere Funktion `potenzen`, die $A^{n}_{x}$ numerisch für beliebige $n$ berechnet, einmal mithilfe von `matrix_power(A, power)` aus dem Untermodul `linalg` und einmal durch wiederholtes Anwenden von dot. Die Funktion soll beide Matrizen zurückgeben. Verwenden Sie nun den Befehl `np.finfo(np.float64).eps` um sich die Maschinengenauigkeit anzusehen mit welcher die Einträge abgespeichert sind."
   ]
  },
  {
   "cell_type": "code",
   "execution_count": 4,
   "id": "0e7b923a-e0bb-46d4-8e16-dee410c7b86f",
   "metadata": {},
   "outputs": [
    {
     "data": {
      "text/plain": [
       "2.220446049250313e-16"
      ]
     },
     "execution_count": 4,
     "metadata": {},
     "output_type": "execute_result"
    }
   ],
   "source": [
    "import numpy as np\n",
    "from IPython.display import display, Math\n",
    "from decimal import Decimal\n",
    "np.set_printoptions(precision=16)\n",
    "def generate_A(x):\n",
    "    A = np.array(\n",
    "        [\n",
    "            [1 - np.cos(x), np.sin(x)],\n",
    "            [np.sin(x), 1 + np.cos(x)]\n",
    "        ],\n",
    "        dtype = Decimal\n",
    "    )\n",
    "    return A\n",
    "\n",
    "def potenzen(M, n):\n",
    "    M_pow_linalg = np.linalg.matrix_power(M, n)\n",
    "    M_pow_dot = M.copy()\n",
    "    for i in range(n - 1):\n",
    "        M_pow_dot = M_pow_dot.dot(M.T)\n",
    "    \n",
    "    return M_pow_linalg, M_pow_dot\n",
    "\n",
    "np.finfo(np.float64).eps"
   ]
  },
  {
   "cell_type": "markdown",
   "id": "73853c76-0e36-49cb-b5de-97123011b43b",
   "metadata": {},
   "source": [
    "`np.finfo(np.float64).eps` gibt die Differenz zwischen 1 und der nächstkleinsten repräsentierbaren Floatzahl zurück. Das bedeutet mit einem eps-Wert von 2.220446049250313e-16 ist die nächste repräsentierbare float von 1, 1.0000000000000002220446... was umgekehrt auch bedeutet, dass alle Differenzen zwischen floats die kleiner als dieser eps-Wert sind nicht mehr informativ ist und damit die verglichenen Zahlen für diese Präzision gleich sind. "
   ]
  },
  {
   "cell_type": "markdown",
   "id": "77b0f309-dd9b-471d-a9e5-c22d90e278c8",
   "metadata": {},
   "source": [
    "Vergleichen Sie dann für $x=6$ und $n=2,\\ldots,30$ auf wieviele Nachkommastellen die beiden Berechnungen gleich sind (vergleichen Sie hierfür bis zur Maschinengenauigkeit)."
   ]
  },
  {
   "cell_type": "code",
   "execution_count": 5,
   "id": "ea35c031-9868-4486-8c57-83283cfb8677",
   "metadata": {},
   "outputs": [
    {
     "data": {
      "text/latex": [
       "$\\displaystyle \n",
       "            A^{2}_{6, matp} =\n",
       "            \\begin{pmatrix}\n",
       "                0.0796594266992680 & -0.5588309963978517 \\\\\n",
       "                -0.5588309963978517 & 3.9203405733007326 \\\\\n",
       "            \\end{pmatrix}\n",
       "        $"
      ],
      "text/plain": [
       "<IPython.core.display.Math object>"
      ]
     },
     "metadata": {},
     "output_type": "display_data"
    },
    {
     "data": {
      "text/latex": [
       "$\\displaystyle \n",
       "            A^{2}_{6, dotp} =\n",
       "            \\begin{pmatrix}\n",
       "                0.0796594266992680 & -0.5588309963978517 \\\\\n",
       "                -0.5588309963978517 & 3.9203405733007326 \\\\\n",
       "            \\end{pmatrix}\n",
       "        $"
      ],
      "text/plain": [
       "<IPython.core.display.Math object>"
      ]
     },
     "metadata": {},
     "output_type": "display_data"
    },
    {
     "name": "stdout",
     "output_type": "stream",
     "text": [
      "equal decimal places for all values [16, 16, 16, 16] \n",
      "\n"
     ]
    },
    {
     "data": {
      "text/latex": [
       "$\\displaystyle \n",
       "            A^{3}_{6, matp} =\n",
       "            \\begin{pmatrix}\n",
       "                0.1593188533985359 & -1.1176619927957034 \\\\\n",
       "                -1.1176619927957034 & 7.8406811466014661 \\\\\n",
       "            \\end{pmatrix}\n",
       "        $"
      ],
      "text/plain": [
       "<IPython.core.display.Math object>"
      ]
     },
     "metadata": {},
     "output_type": "display_data"
    },
    {
     "data": {
      "text/latex": [
       "$\\displaystyle \n",
       "            A^{3}_{6, dotp} =\n",
       "            \\begin{pmatrix}\n",
       "                0.1593188533985359 & -1.1176619927957034 \\\\\n",
       "                -1.1176619927957034 & 7.8406811466014661 \\\\\n",
       "            \\end{pmatrix}\n",
       "        $"
      ],
      "text/plain": [
       "<IPython.core.display.Math object>"
      ]
     },
     "metadata": {},
     "output_type": "display_data"
    },
    {
     "name": "stdout",
     "output_type": "stream",
     "text": [
      "equal decimal places for all values [16, 16, 16, 16] \n",
      "\n"
     ]
    },
    {
     "data": {
      "text/latex": [
       "$\\displaystyle \n",
       "            A^{4}_{6, matp} =\n",
       "            \\begin{pmatrix}\n",
       "                0.3186377067970718 & -2.2353239855914069 \\\\\n",
       "                -2.2353239855914069 & 15.6813622932029340 \\\\\n",
       "            \\end{pmatrix}\n",
       "        $"
      ],
      "text/plain": [
       "<IPython.core.display.Math object>"
      ]
     },
     "metadata": {},
     "output_type": "display_data"
    },
    {
     "data": {
      "text/latex": [
       "$\\displaystyle \n",
       "            A^{4}_{6, dotp} =\n",
       "            \\begin{pmatrix}\n",
       "                0.3186377067970718 & -2.2353239855914069 \\\\\n",
       "                -2.2353239855914073 & 15.6813622932029340 \\\\\n",
       "            \\end{pmatrix}\n",
       "        $"
      ],
      "text/plain": [
       "<IPython.core.display.Math object>"
      ]
     },
     "metadata": {},
     "output_type": "display_data"
    },
    {
     "name": "stdout",
     "output_type": "stream",
     "text": [
      "equal decimal places for all values [16, 16, 14, 16] \n",
      "\n"
     ]
    },
    {
     "data": {
      "text/latex": [
       "$\\displaystyle \n",
       "            A^{5}_{6, matp} =\n",
       "            \\begin{pmatrix}\n",
       "                0.6372754135941436 & -4.4706479711828147 \\\\\n",
       "                -4.4706479711828138 & 31.3627245864058715 \\\\\n",
       "            \\end{pmatrix}\n",
       "        $"
      ],
      "text/plain": [
       "<IPython.core.display.Math object>"
      ]
     },
     "metadata": {},
     "output_type": "display_data"
    },
    {
     "data": {
      "text/latex": [
       "$\\displaystyle \n",
       "            A^{5}_{6, dotp} =\n",
       "            \\begin{pmatrix}\n",
       "                0.6372754135941436 & -4.4706479711828138 \\\\\n",
       "                -4.4706479711828147 & 31.3627245864058715 \\\\\n",
       "            \\end{pmatrix}\n",
       "        $"
      ],
      "text/plain": [
       "<IPython.core.display.Math object>"
      ]
     },
     "metadata": {},
     "output_type": "display_data"
    },
    {
     "name": "stdout",
     "output_type": "stream",
     "text": [
      "equal decimal places for all values [16, 14, 14, 16] \n",
      "\n"
     ]
    },
    {
     "data": {
      "text/latex": [
       "$\\displaystyle \n",
       "            A^{6}_{6, matp} =\n",
       "            \\begin{pmatrix}\n",
       "                1.2745508271882873 & -8.9412959423656293 \\\\\n",
       "                -8.9412959423656275 & 62.7254491728117500 \\\\\n",
       "            \\end{pmatrix}\n",
       "        $"
      ],
      "text/plain": [
       "<IPython.core.display.Math object>"
      ]
     },
     "metadata": {},
     "output_type": "display_data"
    },
    {
     "data": {
      "text/latex": [
       "$\\displaystyle \n",
       "            A^{6}_{6, dotp} =\n",
       "            \\begin{pmatrix}\n",
       "                1.2745508271882873 & -8.9412959423656275 \\\\\n",
       "                -8.9412959423656311 & 62.7254491728117500 \\\\\n",
       "            \\end{pmatrix}\n",
       "        $"
      ],
      "text/plain": [
       "<IPython.core.display.Math object>"
      ]
     },
     "metadata": {},
     "output_type": "display_data"
    },
    {
     "name": "stdout",
     "output_type": "stream",
     "text": [
      "equal decimal places for all values [16, 14, 13, 16] \n",
      "\n"
     ]
    },
    {
     "data": {
      "text/latex": [
       "$\\displaystyle \n",
       "            A^{7}_{6, matp} =\n",
       "            \\begin{pmatrix}\n",
       "                2.5491016543765745 & -17.8825918847312586 \\\\\n",
       "                -17.8825918847312586 & 125.4508983456235001 \\\\\n",
       "            \\end{pmatrix}\n",
       "        $"
      ],
      "text/plain": [
       "<IPython.core.display.Math object>"
      ]
     },
     "metadata": {},
     "output_type": "display_data"
    },
    {
     "data": {
      "text/latex": [
       "$\\displaystyle \n",
       "            A^{7}_{6, dotp} =\n",
       "            \\begin{pmatrix}\n",
       "                2.5491016543765745 & -17.8825918847312550 \\\\\n",
       "                -17.8825918847312622 & 125.4508983456235001 \\\\\n",
       "            \\end{pmatrix}\n",
       "        $"
      ],
      "text/plain": [
       "<IPython.core.display.Math object>"
      ]
     },
     "metadata": {},
     "output_type": "display_data"
    },
    {
     "name": "stdout",
     "output_type": "stream",
     "text": [
      "equal decimal places for all values [16, 14, 13, 16] \n",
      "\n"
     ]
    },
    {
     "data": {
      "text/latex": [
       "$\\displaystyle \n",
       "            A^{8}_{6, matp} =\n",
       "            \\begin{pmatrix}\n",
       "                5.0982033087531491 & -35.7651837694625172 \\\\\n",
       "                -35.7651837694625172 & 250.9017966912470285 \\\\\n",
       "            \\end{pmatrix}\n",
       "        $"
      ],
      "text/plain": [
       "<IPython.core.display.Math object>"
      ]
     },
     "metadata": {},
     "output_type": "display_data"
    },
    {
     "data": {
      "text/latex": [
       "$\\displaystyle \n",
       "            A^{8}_{6, dotp} =\n",
       "            \\begin{pmatrix}\n",
       "                5.0982033087531491 & -35.7651837694625101 \\\\\n",
       "                -35.7651837694625243 & 250.9017966912470001 \\\\\n",
       "            \\end{pmatrix}\n",
       "        $"
      ],
      "text/plain": [
       "<IPython.core.display.Math object>"
      ]
     },
     "metadata": {},
     "output_type": "display_data"
    },
    {
     "name": "stdout",
     "output_type": "stream",
     "text": [
      "equal decimal places for all values [16, 14, 13, 13] \n",
      "\n"
     ]
    },
    {
     "data": {
      "text/latex": [
       "$\\displaystyle \n",
       "            A^{9}_{6, matp} =\n",
       "            \\begin{pmatrix}\n",
       "                10.1964066175063000 & -71.5303675389250628 \\\\\n",
       "                -71.5303675389250344 & 501.8035933824940571 \\\\\n",
       "            \\end{pmatrix}\n",
       "        $"
      ],
      "text/plain": [
       "<IPython.core.display.Math object>"
      ]
     },
     "metadata": {},
     "output_type": "display_data"
    },
    {
     "data": {
      "text/latex": [
       "$\\displaystyle \n",
       "            A^{9}_{6, dotp} =\n",
       "            \\begin{pmatrix}\n",
       "                10.1964066175062982 & -71.5303675389250202 \\\\\n",
       "                -71.5303675389250486 & 501.8035933824940003 \\\\\n",
       "            \\end{pmatrix}\n",
       "        $"
      ],
      "text/plain": [
       "<IPython.core.display.Math object>"
      ]
     },
     "metadata": {},
     "output_type": "display_data"
    },
    {
     "name": "stdout",
     "output_type": "stream",
     "text": [
      "equal decimal places for all values [14, 13, 13, 13] \n",
      "\n"
     ]
    },
    {
     "data": {
      "text/latex": [
       "$\\displaystyle \n",
       "            A^{10}_{6, matp} =\n",
       "            \\begin{pmatrix}\n",
       "                20.3928132350125999 & -143.0607350778501257 \\\\\n",
       "                -143.0607350778500688 & 1003.6071867649882279 \\\\\n",
       "            \\end{pmatrix}\n",
       "        $"
      ],
      "text/plain": [
       "<IPython.core.display.Math object>"
      ]
     },
     "metadata": {},
     "output_type": "display_data"
    },
    {
     "data": {
      "text/latex": [
       "$\\displaystyle \n",
       "            A^{10}_{6, dotp} =\n",
       "            \\begin{pmatrix}\n",
       "                20.3928132350125964 & -143.0607350778500404 \\\\\n",
       "                -143.0607350778500972 & 1003.6071867649880005 \\\\\n",
       "            \\end{pmatrix}\n",
       "        $"
      ],
      "text/plain": [
       "<IPython.core.display.Math object>"
      ]
     },
     "metadata": {},
     "output_type": "display_data"
    },
    {
     "name": "stdout",
     "output_type": "stream",
     "text": [
      "equal decimal places for all values [14, 12, 13, 12] \n",
      "\n"
     ]
    },
    {
     "data": {
      "text/latex": [
       "$\\displaystyle \n",
       "            A^{11}_{6, matp} =\n",
       "            \\begin{pmatrix}\n",
       "                40.7856264700251998 & -286.1214701557002513 \\\\\n",
       "                -286.1214701557001945 & 2007.2143735299766831 \\\\\n",
       "            \\end{pmatrix}\n",
       "        $"
      ],
      "text/plain": [
       "<IPython.core.display.Math object>"
      ]
     },
     "metadata": {},
     "output_type": "display_data"
    },
    {
     "data": {
      "text/latex": [
       "$\\displaystyle \n",
       "            A^{11}_{6, dotp} =\n",
       "            \\begin{pmatrix}\n",
       "                40.7856264700251927 & -286.1214701557000808 \\\\\n",
       "                -286.1214701557001945 & 2007.2143735299760010 \\\\\n",
       "            \\end{pmatrix}\n",
       "        $"
      ],
      "text/plain": [
       "<IPython.core.display.Math object>"
      ]
     },
     "metadata": {},
     "output_type": "display_data"
    },
    {
     "name": "stdout",
     "output_type": "stream",
     "text": [
      "equal decimal places for all values [14, 12, 16, 12] \n",
      "\n"
     ]
    },
    {
     "data": {
      "text/latex": [
       "$\\displaystyle \n",
       "            A^{12}_{6, matp} =\n",
       "            \\begin{pmatrix}\n",
       "                81.5712529400503996 & -572.2429403114005027 \\\\\n",
       "                -572.2429403114003890 & 4014.4287470599538210 \\\\\n",
       "            \\end{pmatrix}\n",
       "        $"
      ],
      "text/plain": [
       "<IPython.core.display.Math object>"
      ]
     },
     "metadata": {},
     "output_type": "display_data"
    },
    {
     "data": {
      "text/latex": [
       "$\\displaystyle \n",
       "            A^{12}_{6, dotp} =\n",
       "            \\begin{pmatrix}\n",
       "                81.5712529400503854 & -572.2429403114001616 \\\\\n",
       "                -572.2429403114003890 & 4014.4287470599520020 \\\\\n",
       "            \\end{pmatrix}\n",
       "        $"
      ],
      "text/plain": [
       "<IPython.core.display.Math object>"
      ]
     },
     "metadata": {},
     "output_type": "display_data"
    },
    {
     "name": "stdout",
     "output_type": "stream",
     "text": [
      "equal decimal places for all values [13, 12, 16, 11] \n",
      "\n"
     ]
    },
    {
     "data": {
      "text/latex": [
       "$\\displaystyle \n",
       "            A^{13}_{6, matp} =\n",
       "            \\begin{pmatrix}\n",
       "                163.1425058801008277 & -1144.4858806228012327 \\\\\n",
       "                -1144.4858806228010053 & 8028.8574941199085515 \\\\\n",
       "            \\end{pmatrix}\n",
       "        $"
      ],
      "text/plain": [
       "<IPython.core.display.Math object>"
      ]
     },
     "metadata": {},
     "output_type": "display_data"
    },
    {
     "data": {
      "text/latex": [
       "$\\displaystyle \n",
       "            A^{13}_{6, dotp} =\n",
       "            \\begin{pmatrix}\n",
       "                163.1425058801007708 & -1144.4858806228003232 \\\\\n",
       "                -1144.4858806228007779 & 8028.8574941199040040 \\\\\n",
       "            \\end{pmatrix}\n",
       "        $"
      ],
      "text/plain": [
       "<IPython.core.display.Math object>"
      ]
     },
     "metadata": {},
     "output_type": "display_data"
    },
    {
     "name": "stdout",
     "output_type": "stream",
     "text": [
      "equal decimal places for all values [12, 11, 11, 11] \n",
      "\n"
     ]
    },
    {
     "data": {
      "text/latex": [
       "$\\displaystyle \n",
       "            A^{14}_{6, matp} =\n",
       "            \\begin{pmatrix}\n",
       "                326.2850117602016553 & -2288.9717612456024654 \\\\\n",
       "                -2288.9717612456020106 & 16057.7149882398189220 \\\\\n",
       "            \\end{pmatrix}\n",
       "        $"
      ],
      "text/plain": [
       "<IPython.core.display.Math object>"
      ]
     },
     "metadata": {},
     "output_type": "display_data"
    },
    {
     "data": {
      "text/latex": [
       "$\\displaystyle \n",
       "            A^{14}_{6, dotp} =\n",
       "            \\begin{pmatrix}\n",
       "                326.2850117602015416 & -2288.9717612456006464 \\\\\n",
       "                -2288.9717612456015559 & 16057.7149882398080081 \\\\\n",
       "            \\end{pmatrix}\n",
       "        $"
      ],
      "text/plain": [
       "<IPython.core.display.Math object>"
      ]
     },
     "metadata": {},
     "output_type": "display_data"
    },
    {
     "name": "stdout",
     "output_type": "stream",
     "text": [
      "equal decimal places for all values [12, 11, 11, 10] \n",
      "\n"
     ]
    },
    {
     "data": {
      "text/latex": [
       "$\\displaystyle \n",
       "            A^{15}_{6, matp} =\n",
       "            \\begin{pmatrix}\n",
       "                652.5700235204033106 & -4577.9435224912049307 \\\\\n",
       "                -4577.9435224912040212 & 32115.4299764796378440 \\\\\n",
       "            \\end{pmatrix}\n",
       "        $"
      ],
      "text/plain": [
       "<IPython.core.display.Math object>"
      ]
     },
     "metadata": {},
     "output_type": "display_data"
    },
    {
     "data": {
      "text/latex": [
       "$\\displaystyle \n",
       "            A^{15}_{6, dotp} =\n",
       "            \\begin{pmatrix}\n",
       "                652.5700235204030832 & -4577.9435224912012927 \\\\\n",
       "                -4577.9435224912031117 & 32115.4299764796160161 \\\\\n",
       "            \\end{pmatrix}\n",
       "        $"
      ],
      "text/plain": [
       "<IPython.core.display.Math object>"
      ]
     },
     "metadata": {},
     "output_type": "display_data"
    },
    {
     "name": "stdout",
     "output_type": "stream",
     "text": [
      "equal decimal places for all values [12, 11, 11, 10] \n",
      "\n"
     ]
    },
    {
     "data": {
      "text/latex": [
       "$\\displaystyle \n",
       "            A^{16}_{6, matp} =\n",
       "            \\begin{pmatrix}\n",
       "                1305.1400470408066212 & -9155.8870449824098614 \\\\\n",
       "                -9155.8870449824098614 & 64230.8599529592829640 \\\\\n",
       "            \\end{pmatrix}\n",
       "        $"
      ],
      "text/plain": [
       "<IPython.core.display.Math object>"
      ]
     },
     "metadata": {},
     "output_type": "display_data"
    },
    {
     "data": {
      "text/latex": [
       "$\\displaystyle \n",
       "            A^{16}_{6, dotp} =\n",
       "            \\begin{pmatrix}\n",
       "                1305.1400470408061665 & -9155.8870449824025854 \\\\\n",
       "                -9155.8870449824062234 & 64230.8599529592320323 \\\\\n",
       "            \\end{pmatrix}\n",
       "        $"
      ],
      "text/plain": [
       "<IPython.core.display.Math object>"
      ]
     },
     "metadata": {},
     "output_type": "display_data"
    },
    {
     "name": "stdout",
     "output_type": "stream",
     "text": [
      "equal decimal places for all values [12, 11, 11, 10] \n",
      "\n"
     ]
    },
    {
     "data": {
      "text/latex": [
       "$\\displaystyle \n",
       "            A^{17}_{6, matp} =\n",
       "            \\begin{pmatrix}\n",
       "                2610.2800940816141519 & -18311.7740899648269988 \\\\\n",
       "                -18311.7740899648197228 & 128461.7199059185659280 \\\\\n",
       "            \\end{pmatrix}\n",
       "        $"
      ],
      "text/plain": [
       "<IPython.core.display.Math object>"
      ]
     },
     "metadata": {},
     "output_type": "display_data"
    },
    {
     "data": {
      "text/latex": [
       "$\\displaystyle \n",
       "            A^{17}_{6, dotp} =\n",
       "            \\begin{pmatrix}\n",
       "                2610.2800940816123330 & -18311.7740899648051709 \\\\\n",
       "                -18311.7740899648124469 & 128461.7199059184640646 \\\\\n",
       "            \\end{pmatrix}\n",
       "        $"
      ],
      "text/plain": [
       "<IPython.core.display.Math object>"
      ]
     },
     "metadata": {},
     "output_type": "display_data"
    },
    {
     "name": "stdout",
     "output_type": "stream",
     "text": [
      "equal decimal places for all values [11, 10, 11, 9] \n",
      "\n"
     ]
    },
    {
     "data": {
      "text/latex": [
       "$\\displaystyle \n",
       "            A^{18}_{6, matp} =\n",
       "            \\begin{pmatrix}\n",
       "                5220.5601881632283039 & -36623.5481799296612735 \\\\\n",
       "                -36623.5481799296394456 & 256923.4398118371609598 \\\\\n",
       "            \\end{pmatrix}\n",
       "        $"
      ],
      "text/plain": [
       "<IPython.core.display.Math object>"
      ]
     },
     "metadata": {},
     "output_type": "display_data"
    },
    {
     "data": {
      "text/latex": [
       "$\\displaystyle \n",
       "            A^{18}_{6, dotp} =\n",
       "            \\begin{pmatrix}\n",
       "                5220.5601881632246659 & -36623.5481799296103418 \\\\\n",
       "                -36623.5481799296248937 & 256923.4398118369281292 \\\\\n",
       "            \\end{pmatrix}\n",
       "        $"
      ],
      "text/plain": [
       "<IPython.core.display.Math object>"
      ]
     },
     "metadata": {},
     "output_type": "display_data"
    },
    {
     "name": "stdout",
     "output_type": "stream",
     "text": [
      "equal decimal places for all values [11, 10, 10, 8] \n",
      "\n"
     ]
    },
    {
     "data": {
      "text/latex": [
       "$\\displaystyle \n",
       "            A^{19}_{6, matp} =\n",
       "            \\begin{pmatrix}\n",
       "                10441.1203763264566078 & -73247.0963598593225470 \\\\\n",
       "                -73247.0963598593079951 & 513846.8796236743801273 \\\\\n",
       "            \\end{pmatrix}\n",
       "        $"
      ],
      "text/plain": [
       "<IPython.core.display.Math object>"
      ]
     },
     "metadata": {},
     "output_type": "display_data"
    },
    {
     "data": {
      "text/latex": [
       "$\\displaystyle \n",
       "            A^{19}_{6, dotp} =\n",
       "            \\begin{pmatrix}\n",
       "                10441.1203763264493318 & -73247.0963598592206836 \\\\\n",
       "                -73247.0963598592497874 & 513846.8796236738562584 \\\\\n",
       "            \\end{pmatrix}\n",
       "        $"
      ],
      "text/plain": [
       "<IPython.core.display.Math object>"
      ]
     },
     "metadata": {},
     "output_type": "display_data"
    },
    {
     "name": "stdout",
     "output_type": "stream",
     "text": [
      "equal decimal places for all values [10, 9, 9, 8] \n",
      "\n"
     ]
    },
    {
     "data": {
      "text/latex": [
       "$\\displaystyle \n",
       "            A^{20}_{6, matp} =\n",
       "            \\begin{pmatrix}\n",
       "                20882.2407526529132156 & -146494.1927197186450940 \\\\\n",
       "                -146494.1927197186159901 & 1027693.7592473488766700 \\\\\n",
       "            \\end{pmatrix}\n",
       "        $"
      ],
      "text/plain": [
       "<IPython.core.display.Math object>"
      ]
     },
     "metadata": {},
     "output_type": "display_data"
    },
    {
     "data": {
      "text/latex": [
       "$\\displaystyle \n",
       "            A^{20}_{6, dotp} =\n",
       "            \\begin{pmatrix}\n",
       "                20882.2407526528986637 & -146494.1927197184413671 \\\\\n",
       "                -146494.1927197184995748 & 1027693.7592473477125168 \\\\\n",
       "            \\end{pmatrix}\n",
       "        $"
      ],
      "text/plain": [
       "<IPython.core.display.Math object>"
      ]
     },
     "metadata": {},
     "output_type": "display_data"
    },
    {
     "name": "stdout",
     "output_type": "stream",
     "text": [
      "equal decimal places for all values [9, 9, 9, 8] \n",
      "\n"
     ]
    },
    {
     "data": {
      "text/latex": [
       "$\\displaystyle \n",
       "            A^{21}_{6, matp} =\n",
       "            \\begin{pmatrix}\n",
       "                41764.4815053058337071 & -292988.3854394373483956 \\\\\n",
       "                -292988.3854394372319803 & 2055387.5184946979861706 \\\\\n",
       "            \\end{pmatrix}\n",
       "        $"
      ],
      "text/plain": [
       "<IPython.core.display.Math object>"
      ]
     },
     "metadata": {},
     "output_type": "display_data"
    },
    {
     "data": {
      "text/latex": [
       "$\\displaystyle \n",
       "            A^{21}_{6, dotp} =\n",
       "            \\begin{pmatrix}\n",
       "                41764.4815053057973273 & -292988.3854394368827343 \\\\\n",
       "                -292988.3854394369991496 & 2055387.5184946954250336 \\\\\n",
       "            \\end{pmatrix}\n",
       "        $"
      ],
      "text/plain": [
       "<IPython.core.display.Math object>"
      ]
     },
     "metadata": {},
     "output_type": "display_data"
    },
    {
     "name": "stdout",
     "output_type": "stream",
     "text": [
      "equal decimal places for all values [9, 8, 8, 8] \n",
      "\n"
     ]
    },
    {
     "data": {
      "text/latex": [
       "$\\displaystyle \n",
       "            A^{22}_{6, matp} =\n",
       "            \\begin{pmatrix}\n",
       "                83528.9630106116674142 & -585976.7708788746967912 \\\\\n",
       "                -585976.7708788744639605 & 4110775.0369893964380026 \\\\\n",
       "            \\end{pmatrix}\n",
       "        $"
      ],
      "text/plain": [
       "<IPython.core.display.Math object>"
      ]
     },
     "metadata": {},
     "output_type": "display_data"
    },
    {
     "data": {
      "text/latex": [
       "$\\displaystyle \n",
       "            A^{22}_{6, dotp} =\n",
       "            \\begin{pmatrix}\n",
       "                83528.9630106115946546 & -585976.7708788737654686 \\\\\n",
       "                -585976.7708788739982992 & 4110775.0369893908500671 \\\\\n",
       "            \\end{pmatrix}\n",
       "        $"
      ],
      "text/plain": [
       "<IPython.core.display.Math object>"
      ]
     },
     "metadata": {},
     "output_type": "display_data"
    },
    {
     "name": "stdout",
     "output_type": "stream",
     "text": [
      "equal decimal places for all values [9, 8, 8, 8] \n",
      "\n"
     ]
    },
    {
     "data": {
      "text/latex": [
       "$\\displaystyle \n",
       "            A^{23}_{6, matp} =\n",
       "            \\begin{pmatrix}\n",
       "                167057.9260212233348284 & -1171953.5417577493935823 \\\\\n",
       "                -1171953.5417577491607517 & 8221550.0739787928760052 \\\\\n",
       "            \\end{pmatrix}\n",
       "        $"
      ],
      "text/plain": [
       "<IPython.core.display.Math object>"
      ]
     },
     "metadata": {},
     "output_type": "display_data"
    },
    {
     "data": {
      "text/latex": [
       "$\\displaystyle \n",
       "            A^{23}_{6, dotp} =\n",
       "            \\begin{pmatrix}\n",
       "                167057.9260212231893092 & -1171953.5417577475309372 \\\\\n",
       "                -1171953.5417577479965985 & 8221550.0739787817001343 \\\\\n",
       "            \\end{pmatrix}\n",
       "        $"
      ],
      "text/plain": [
       "<IPython.core.display.Math object>"
      ]
     },
     "metadata": {},
     "output_type": "display_data"
    },
    {
     "name": "stdout",
     "output_type": "stream",
     "text": [
      "equal decimal places for all values [9, 8, 8, 7] \n",
      "\n"
     ]
    },
    {
     "data": {
      "text/latex": [
       "$\\displaystyle \n",
       "            A^{24}_{6, matp} =\n",
       "            \\begin{pmatrix}\n",
       "                334115.8520424466696568 & -2343907.0835154987871647 \\\\\n",
       "                -2343907.0835154987871647 & 16443100.1479575876146555 \\\\\n",
       "            \\end{pmatrix}\n",
       "        $"
      ],
      "text/plain": [
       "<IPython.core.display.Math object>"
      ]
     },
     "metadata": {},
     "output_type": "display_data"
    },
    {
     "data": {
      "text/latex": [
       "$\\displaystyle \n",
       "            A^{24}_{6, dotp} =\n",
       "            \\begin{pmatrix}\n",
       "                334115.8520424463786185 & -2343907.0835154950618744 \\\\\n",
       "                -2343907.0835154959931970 & 16443100.1479575634002686 \\\\\n",
       "            \\end{pmatrix}\n",
       "        $"
      ],
      "text/plain": [
       "<IPython.core.display.Math object>"
      ]
     },
     "metadata": {},
     "output_type": "display_data"
    },
    {
     "name": "stdout",
     "output_type": "stream",
     "text": [
      "equal decimal places for all values [9, 8, 8, 7] \n",
      "\n"
     ]
    },
    {
     "data": {
      "text/latex": [
       "$\\displaystyle \n",
       "            A^{25}_{6, matp} =\n",
       "            \\begin{pmatrix}\n",
       "                668231.7040848936885595 & -4687814.1670309994369745 \\\\\n",
       "                -4687814.1670309975743294 & 32886200.2959151752293110 \\\\\n",
       "            \\end{pmatrix}\n",
       "        $"
      ],
      "text/plain": [
       "<IPython.core.display.Math object>"
      ]
     },
     "metadata": {},
     "output_type": "display_data"
    },
    {
     "data": {
      "text/latex": [
       "$\\displaystyle \n",
       "            A^{25}_{6, dotp} =\n",
       "            \\begin{pmatrix}\n",
       "                668231.7040848927572370 & -4687814.1670309901237488 \\\\\n",
       "                -4687814.1670309919863939 & 32886200.2959151268005371 \\\\\n",
       "            \\end{pmatrix}\n",
       "        $"
      ],
      "text/plain": [
       "<IPython.core.display.Math object>"
      ]
     },
     "metadata": {},
     "output_type": "display_data"
    },
    {
     "name": "stdout",
     "output_type": "stream",
     "text": [
      "equal decimal places for all values [8, 8, 8, 7] \n",
      "\n"
     ]
    },
    {
     "data": {
      "text/latex": [
       "$\\displaystyle \n",
       "            A^{26}_{6, matp} =\n",
       "            \\begin{pmatrix}\n",
       "                1336463.4081697873771191 & -9375628.3340619988739491 \\\\\n",
       "                -9375628.3340619970113039 & 65772400.5918303579092026 \\\\\n",
       "            \\end{pmatrix}\n",
       "        $"
      ],
      "text/plain": [
       "<IPython.core.display.Math object>"
      ]
     },
     "metadata": {},
     "output_type": "display_data"
    },
    {
     "data": {
      "text/latex": [
       "$\\displaystyle \n",
       "            A^{26}_{6, dotp} =\n",
       "            \\begin{pmatrix}\n",
       "                1336463.4081697855144739 & -9375628.3340619802474976 \\\\\n",
       "                -9375628.3340619839727879 & 65772400.5918302536010742 \\\\\n",
       "            \\end{pmatrix}\n",
       "        $"
      ],
      "text/plain": [
       "<IPython.core.display.Math object>"
      ]
     },
     "metadata": {},
     "output_type": "display_data"
    },
    {
     "name": "stdout",
     "output_type": "stream",
     "text": [
      "equal decimal places for all values [8, 7, 7, 6] \n",
      "\n"
     ]
    },
    {
     "data": {
      "text/latex": [
       "$\\displaystyle \n",
       "            A^{27}_{6, matp} =\n",
       "            \\begin{pmatrix}\n",
       "                2672926.8163395747542381 & -18751256.6681239977478981 \\\\\n",
       "                -18751256.6681239940226078 & 131544801.1836607307195663 \\\\\n",
       "            \\end{pmatrix}\n",
       "        $"
      ],
      "text/plain": [
       "<IPython.core.display.Math object>"
      ]
     },
     "metadata": {},
     "output_type": "display_data"
    },
    {
     "data": {
      "text/latex": [
       "$\\displaystyle \n",
       "            A^{27}_{6, dotp} =\n",
       "            \\begin{pmatrix}\n",
       "                2672926.8163395710289478 & -18751256.6681239604949951 \\\\\n",
       "                -18751256.6681239679455757 & 131544801.1836605072021484 \\\\\n",
       "            \\end{pmatrix}\n",
       "        $"
      ],
      "text/plain": [
       "<IPython.core.display.Math object>"
      ]
     },
     "metadata": {},
     "output_type": "display_data"
    },
    {
     "name": "stdout",
     "output_type": "stream",
     "text": [
      "equal decimal places for all values [8, 7, 7, 6] \n",
      "\n"
     ]
    },
    {
     "data": {
      "text/latex": [
       "$\\displaystyle \n",
       "            A^{28}_{6, matp} =\n",
       "            \\begin{pmatrix}\n",
       "                5345853.6326791495084763 & -37502513.3362479954957962 \\\\\n",
       "                -37502513.3362479954957962 & 263089602.3673214912414551 \\\\\n",
       "            \\end{pmatrix}\n",
       "        $"
      ],
      "text/plain": [
       "<IPython.core.display.Math object>"
      ]
     },
     "metadata": {},
     "output_type": "display_data"
    },
    {
     "data": {
      "text/latex": [
       "$\\displaystyle \n",
       "            A^{28}_{6, dotp} =\n",
       "            \\begin{pmatrix}\n",
       "                5345853.6326791420578957 & -37502513.3362479209899902 \\\\\n",
       "                -37502513.3362479358911514 & 263089602.3673210144042969 \\\\\n",
       "            \\end{pmatrix}\n",
       "        $"
      ],
      "text/plain": [
       "<IPython.core.display.Math object>"
      ]
     },
     "metadata": {},
     "output_type": "display_data"
    },
    {
     "name": "stdout",
     "output_type": "stream",
     "text": [
      "equal decimal places for all values [8, 7, 7, 6] \n",
      "\n"
     ]
    },
    {
     "data": {
      "text/latex": [
       "$\\displaystyle \n",
       "            A^{29}_{6, matp} =\n",
       "            \\begin{pmatrix}\n",
       "                10691707.2653583008795977 & -75005026.6724960058927536 \\\\\n",
       "                -75005026.6724959909915924 & 526179204.7346430420875549 \\\\\n",
       "            \\end{pmatrix}\n",
       "        $"
      ],
      "text/plain": [
       "<IPython.core.display.Math object>"
      ]
     },
     "metadata": {},
     "output_type": "display_data"
    },
    {
     "data": {
      "text/latex": [
       "$\\displaystyle \n",
       "            A^{29}_{6, dotp} =\n",
       "            \\begin{pmatrix}\n",
       "                10691707.2653582841157913 & -75005026.6724958419799805 \\\\\n",
       "                -75005026.6724958717823029 & 526179204.7346420288085938 \\\\\n",
       "            \\end{pmatrix}\n",
       "        $"
      ],
      "text/plain": [
       "<IPython.core.display.Math object>"
      ]
     },
     "metadata": {},
     "output_type": "display_data"
    },
    {
     "name": "stdout",
     "output_type": "stream",
     "text": [
      "equal decimal places for all values [6, 5, 6, 5] \n",
      "\n"
     ]
    },
    {
     "data": {
      "text/latex": [
       "$\\displaystyle \n",
       "            A^{30}_{6, matp} =\n",
       "            \\begin{pmatrix}\n",
       "                21383414.5307166017591953 & -150010053.3449920117855072 \\\\\n",
       "                -150010053.3449920117855072 & 1052358409.4692862033843994 \\\\\n",
       "            \\end{pmatrix}\n",
       "        $"
      ],
      "text/plain": [
       "<IPython.core.display.Math object>"
      ]
     },
     "metadata": {},
     "output_type": "display_data"
    },
    {
     "data": {
      "text/latex": [
       "$\\displaystyle \n",
       "            A^{30}_{6, dotp} =\n",
       "            \\begin{pmatrix}\n",
       "                21383414.5307165682315826 & -150010053.3449916839599609 \\\\\n",
       "                -150010053.3449917435646057 & 1052358409.4692840576171875 \\\\\n",
       "            \\end{pmatrix}\n",
       "        $"
      ],
      "text/plain": [
       "<IPython.core.display.Math object>"
      ]
     },
     "metadata": {},
     "output_type": "display_data"
    },
    {
     "name": "stdout",
     "output_type": "stream",
     "text": [
      "equal decimal places for all values [6, 5, 5, 5] \n",
      "\n"
     ]
    }
   ],
   "source": [
    "def equal_decimal_places(a, b, precision = np.finfo(np.float64).eps):\n",
    "    prec_lim_decimal_place = int(np.ceil(np.abs(np.log10(precision))))\n",
    "    format_string = f'%.{prec_lim_decimal_place + 1}f'\n",
    "    diff = np.abs(a - b)\n",
    "    if  diff < precision:\n",
    "        return prec_lim_decimal_place\n",
    "\n",
    "    else:\n",
    "        a_dec = (format_string % a).split('.')[-1][:-1]\n",
    "        b_dec = (format_string % b).split('.')[-1][:-1]\n",
    "        for i, (d1, d2) in enumerate(zip(a_dec, b_dec)):\n",
    "            if d1 == d2:\n",
    "                continue\n",
    "            \n",
    "            else:\n",
    "                return i\n",
    "            \n",
    "def get_equal_decimal_places(m1, m2):\n",
    "    decimal_places = []\n",
    "    reshape_dim = m1.shape[0] * m1.shape[1]\n",
    "    return [equal_decimal_places(val1, val2) for val1, val2 in zip(m1.reshape(reshape_dim), m2.reshape(reshape_dim))]\n",
    "\n",
    "def format_latex(mat, matvar, x = '', n = '', label = ''):\n",
    "    if label:\n",
    "        latex_string = r'''\n",
    "            %s^{%s}_{%s, %s} =\n",
    "            \\begin{pmatrix}\n",
    "                %.16f & %.16f \\\\\n",
    "                %.16f & %.16f \\\\\n",
    "            \\end{pmatrix}\n",
    "        ''' % (matvar, n, x, label, *mat.reshape(4))\n",
    "    \n",
    "    else:\n",
    "        latex_string = r'''\n",
    "            %s^{%s}_{%s} =\n",
    "            \\begin{pmatrix}\n",
    "                %.16f & %.16f \\\\\n",
    "                %.16f & %.16f \\\\\n",
    "            \\end{pmatrix}\n",
    "        ''' % (matvar, n, x, *mat.reshape(4))\n",
    "    return latex_string\n",
    "\n",
    "A = generate_A(6)\n",
    "for n in np.arange(2, 31):\n",
    "    for label, A_pow in zip(['matp', 'dotp'], potenzen(A, n)):\n",
    "        display(\n",
    "            Math(\n",
    "                format_latex(A_pow, 'A', str(6), str(n), label)\n",
    "            )\n",
    "        )\n",
    "    print(\n",
    "        'equal decimal places for all values', \n",
    "        get_equal_decimal_places(\n",
    "            *potenzen(A, n)\n",
    "        ),\n",
    "        '\\n'\n",
    "    )"
   ]
  },
  {
   "cell_type": "markdown",
   "id": "2a11578c-eef6-40c4-be5d-23b1d4ae9491",
   "metadata": {},
   "source": [
    "Vergleichen Sie auch für weitere Werte von $x$."
   ]
  },
  {
   "cell_type": "markdown",
   "id": "2115278d-4059-48fb-b54e-fec7f67092ea",
   "metadata": {},
   "source": [
    "b) Berechnen Sie $A^{n}_{6}$ für $n=1,\\ldots,4$. Untersuchen sie nun genauso die Matrix $B_x=\\frac{1}{2}A_x$, was fällt Ihnen dabei auf?"
   ]
  },
  {
   "cell_type": "code",
   "execution_count": 6,
   "id": "cb4a0778-ee7c-4bac-ad1a-65222373ad85",
   "metadata": {},
   "outputs": [
    {
     "data": {
      "text/latex": [
       "$\\displaystyle \n",
       "            A^{1}_{6, matp} =\n",
       "            \\begin{pmatrix}\n",
       "                0.0398297133496339 & -0.2794154981989259 \\\\\n",
       "                -0.2794154981989259 & 1.9601702866503661 \\\\\n",
       "            \\end{pmatrix}\n",
       "        $"
      ],
      "text/plain": [
       "<IPython.core.display.Math object>"
      ]
     },
     "metadata": {},
     "output_type": "display_data"
    },
    {
     "data": {
      "text/latex": [
       "$\\displaystyle \n",
       "            A^{1}_{6, dotp} =\n",
       "            \\begin{pmatrix}\n",
       "                0.0398297133496339 & -0.2794154981989259 \\\\\n",
       "                -0.2794154981989259 & 1.9601702866503661 \\\\\n",
       "            \\end{pmatrix}\n",
       "        $"
      ],
      "text/plain": [
       "<IPython.core.display.Math object>"
      ]
     },
     "metadata": {},
     "output_type": "display_data"
    },
    {
     "name": "stdout",
     "output_type": "stream",
     "text": [
      "\n"
     ]
    },
    {
     "data": {
      "text/latex": [
       "$\\displaystyle \n",
       "            A^{2}_{6, matp} =\n",
       "            \\begin{pmatrix}\n",
       "                0.0796594266992680 & -0.5588309963978517 \\\\\n",
       "                -0.5588309963978517 & 3.9203405733007326 \\\\\n",
       "            \\end{pmatrix}\n",
       "        $"
      ],
      "text/plain": [
       "<IPython.core.display.Math object>"
      ]
     },
     "metadata": {},
     "output_type": "display_data"
    },
    {
     "data": {
      "text/latex": [
       "$\\displaystyle \n",
       "            A^{2}_{6, dotp} =\n",
       "            \\begin{pmatrix}\n",
       "                0.0796594266992680 & -0.5588309963978517 \\\\\n",
       "                -0.5588309963978517 & 3.9203405733007326 \\\\\n",
       "            \\end{pmatrix}\n",
       "        $"
      ],
      "text/plain": [
       "<IPython.core.display.Math object>"
      ]
     },
     "metadata": {},
     "output_type": "display_data"
    },
    {
     "name": "stdout",
     "output_type": "stream",
     "text": [
      "\n"
     ]
    },
    {
     "data": {
      "text/latex": [
       "$\\displaystyle \n",
       "            A^{3}_{6, matp} =\n",
       "            \\begin{pmatrix}\n",
       "                0.1593188533985359 & -1.1176619927957034 \\\\\n",
       "                -1.1176619927957034 & 7.8406811466014661 \\\\\n",
       "            \\end{pmatrix}\n",
       "        $"
      ],
      "text/plain": [
       "<IPython.core.display.Math object>"
      ]
     },
     "metadata": {},
     "output_type": "display_data"
    },
    {
     "data": {
      "text/latex": [
       "$\\displaystyle \n",
       "            A^{3}_{6, dotp} =\n",
       "            \\begin{pmatrix}\n",
       "                0.1593188533985359 & -1.1176619927957034 \\\\\n",
       "                -1.1176619927957034 & 7.8406811466014661 \\\\\n",
       "            \\end{pmatrix}\n",
       "        $"
      ],
      "text/plain": [
       "<IPython.core.display.Math object>"
      ]
     },
     "metadata": {},
     "output_type": "display_data"
    },
    {
     "name": "stdout",
     "output_type": "stream",
     "text": [
      "\n"
     ]
    },
    {
     "data": {
      "text/latex": [
       "$\\displaystyle \n",
       "            A^{4}_{6, matp} =\n",
       "            \\begin{pmatrix}\n",
       "                0.3186377067970718 & -2.2353239855914069 \\\\\n",
       "                -2.2353239855914069 & 15.6813622932029340 \\\\\n",
       "            \\end{pmatrix}\n",
       "        $"
      ],
      "text/plain": [
       "<IPython.core.display.Math object>"
      ]
     },
     "metadata": {},
     "output_type": "display_data"
    },
    {
     "data": {
      "text/latex": [
       "$\\displaystyle \n",
       "            A^{4}_{6, dotp} =\n",
       "            \\begin{pmatrix}\n",
       "                0.3186377067970718 & -2.2353239855914069 \\\\\n",
       "                -2.2353239855914073 & 15.6813622932029340 \\\\\n",
       "            \\end{pmatrix}\n",
       "        $"
      ],
      "text/plain": [
       "<IPython.core.display.Math object>"
      ]
     },
     "metadata": {},
     "output_type": "display_data"
    },
    {
     "name": "stdout",
     "output_type": "stream",
     "text": [
      "\n"
     ]
    },
    {
     "data": {
      "text/latex": [
       "$\\displaystyle \n",
       "            B^{1}_{6, matp} =\n",
       "            \\begin{pmatrix}\n",
       "                0.0199148566748170 & -0.1397077490994629 \\\\\n",
       "                -0.1397077490994629 & 0.9800851433251830 \\\\\n",
       "            \\end{pmatrix}\n",
       "        $"
      ],
      "text/plain": [
       "<IPython.core.display.Math object>"
      ]
     },
     "metadata": {},
     "output_type": "display_data"
    },
    {
     "data": {
      "text/latex": [
       "$\\displaystyle \n",
       "            B^{1}_{6, dotp} =\n",
       "            \\begin{pmatrix}\n",
       "                0.0199148566748170 & -0.1397077490994629 \\\\\n",
       "                -0.1397077490994629 & 0.9800851433251830 \\\\\n",
       "            \\end{pmatrix}\n",
       "        $"
      ],
      "text/plain": [
       "<IPython.core.display.Math object>"
      ]
     },
     "metadata": {},
     "output_type": "display_data"
    },
    {
     "data": {
      "text/latex": [
       "$\\displaystyle \n",
       "            B^{2}_{6, matp} =\n",
       "            \\begin{pmatrix}\n",
       "                0.0199148566748170 & -0.1397077490994629 \\\\\n",
       "                -0.1397077490994629 & 0.9800851433251832 \\\\\n",
       "            \\end{pmatrix}\n",
       "        $"
      ],
      "text/plain": [
       "<IPython.core.display.Math object>"
      ]
     },
     "metadata": {},
     "output_type": "display_data"
    },
    {
     "data": {
      "text/latex": [
       "$\\displaystyle \n",
       "            B^{2}_{6, dotp} =\n",
       "            \\begin{pmatrix}\n",
       "                0.0199148566748170 & -0.1397077490994629 \\\\\n",
       "                -0.1397077490994629 & 0.9800851433251832 \\\\\n",
       "            \\end{pmatrix}\n",
       "        $"
      ],
      "text/plain": [
       "<IPython.core.display.Math object>"
      ]
     },
     "metadata": {},
     "output_type": "display_data"
    },
    {
     "data": {
      "text/latex": [
       "$\\displaystyle \n",
       "            B^{3}_{6, matp} =\n",
       "            \\begin{pmatrix}\n",
       "                0.0199148566748170 & -0.1397077490994629 \\\\\n",
       "                -0.1397077490994629 & 0.9800851433251833 \\\\\n",
       "            \\end{pmatrix}\n",
       "        $"
      ],
      "text/plain": [
       "<IPython.core.display.Math object>"
      ]
     },
     "metadata": {},
     "output_type": "display_data"
    },
    {
     "data": {
      "text/latex": [
       "$\\displaystyle \n",
       "            B^{3}_{6, dotp} =\n",
       "            \\begin{pmatrix}\n",
       "                0.0199148566748170 & -0.1397077490994629 \\\\\n",
       "                -0.1397077490994629 & 0.9800851433251833 \\\\\n",
       "            \\end{pmatrix}\n",
       "        $"
      ],
      "text/plain": [
       "<IPython.core.display.Math object>"
      ]
     },
     "metadata": {},
     "output_type": "display_data"
    },
    {
     "data": {
      "text/latex": [
       "$\\displaystyle \n",
       "            B^{4}_{6, matp} =\n",
       "            \\begin{pmatrix}\n",
       "                0.0199148566748170 & -0.1397077490994629 \\\\\n",
       "                -0.1397077490994629 & 0.9800851433251834 \\\\\n",
       "            \\end{pmatrix}\n",
       "        $"
      ],
      "text/plain": [
       "<IPython.core.display.Math object>"
      ]
     },
     "metadata": {},
     "output_type": "display_data"
    },
    {
     "data": {
      "text/latex": [
       "$\\displaystyle \n",
       "            B^{4}_{6, dotp} =\n",
       "            \\begin{pmatrix}\n",
       "                0.0199148566748170 & -0.1397077490994629 \\\\\n",
       "                -0.1397077490994630 & 0.9800851433251834 \\\\\n",
       "            \\end{pmatrix}\n",
       "        $"
      ],
      "text/plain": [
       "<IPython.core.display.Math object>"
      ]
     },
     "metadata": {},
     "output_type": "display_data"
    }
   ],
   "source": [
    "for n in np.arange(1, 5):\n",
    "    for label, A_pow in zip(['matp', 'dotp'], potenzen(A, n)):\n",
    "        display(\n",
    "            Math(\n",
    "                format_latex(A_pow, 'A', str(6), str(n), label)\n",
    "            )\n",
    "        )\n",
    "    \n",
    "    print()\n",
    "\n",
    "B = 0.5*A\n",
    "for n in np.arange(1, 5):\n",
    "    for label, B_pow in zip(['matp', 'dotp'], potenzen(B, n)):\n",
    "        display(\n",
    "            Math(\n",
    "                format_latex(B_pow, 'B', str(6), str(n), label)\n",
    "            )\n",
    "        )"
   ]
  },
  {
   "cell_type": "markdown",
   "id": "9900d8db-b71c-448a-8312-538fec359315",
   "metadata": {},
   "source": [
    "Belegen Sie Ihre Vermutung indem Sie $B^{2}_{x}$ für beliebige $x$ berechnen (verwenden Sie hierfür sympy Routinen)."
   ]
  },
  {
   "cell_type": "code",
   "execution_count": 7,
   "id": "807b4fe4-ea69-44a8-9f24-0ad65ef8ac56",
   "metadata": {},
   "outputs": [
    {
     "data": {
      "text/latex": [
       "$\\displaystyle \n",
       "            B^{}_{1} =\n",
       "            \\begin{pmatrix}\n",
       "                0.2298488470659301 & 0.4207354924039483 \\\\\n",
       "                0.4207354924039483 & 0.7701511529340699 \\\\\n",
       "            \\end{pmatrix}\n",
       "        $"
      ],
      "text/plain": [
       "<IPython.core.display.Math object>"
      ]
     },
     "metadata": {},
     "output_type": "display_data"
    },
    {
     "data": {
      "text/latex": [
       "$\\displaystyle \n",
       "            B^{2}_{1} =\n",
       "            \\begin{pmatrix}\n",
       "                0.2298488470659301 & 0.4207354924039483 \\\\\n",
       "                0.4207354924039483 & 0.7701511529340699 \\\\\n",
       "            \\end{pmatrix}\n",
       "        $"
      ],
      "text/plain": [
       "<IPython.core.display.Math object>"
      ]
     },
     "metadata": {},
     "output_type": "display_data"
    },
    {
     "data": {
      "text/latex": [
       "$\\displaystyle \n",
       "            B^{}_{2} =\n",
       "            \\begin{pmatrix}\n",
       "                0.7080734182735712 & 0.4546487134128409 \\\\\n",
       "                0.4546487134128409 & 0.2919265817264288 \\\\\n",
       "            \\end{pmatrix}\n",
       "        $"
      ],
      "text/plain": [
       "<IPython.core.display.Math object>"
      ]
     },
     "metadata": {},
     "output_type": "display_data"
    },
    {
     "data": {
      "text/latex": [
       "$\\displaystyle \n",
       "            B^{2}_{2} =\n",
       "            \\begin{pmatrix}\n",
       "                0.7080734182735712 & 0.4546487134128409 \\\\\n",
       "                0.4546487134128409 & 0.2919265817264288 \\\\\n",
       "            \\end{pmatrix}\n",
       "        $"
      ],
      "text/plain": [
       "<IPython.core.display.Math object>"
      ]
     },
     "metadata": {},
     "output_type": "display_data"
    },
    {
     "data": {
      "text/latex": [
       "$\\displaystyle \n",
       "            B^{}_{3} =\n",
       "            \\begin{pmatrix}\n",
       "                0.9949962483002227 & 0.0705600040299336 \\\\\n",
       "                0.0705600040299336 & 0.0050037516997773 \\\\\n",
       "            \\end{pmatrix}\n",
       "        $"
      ],
      "text/plain": [
       "<IPython.core.display.Math object>"
      ]
     },
     "metadata": {},
     "output_type": "display_data"
    },
    {
     "data": {
      "text/latex": [
       "$\\displaystyle \n",
       "            B^{2}_{3} =\n",
       "            \\begin{pmatrix}\n",
       "                0.9949962483002227 & 0.0705600040299336 \\\\\n",
       "                0.0705600040299336 & 0.0050037516997773 \\\\\n",
       "            \\end{pmatrix}\n",
       "        $"
      ],
      "text/plain": [
       "<IPython.core.display.Math object>"
      ]
     },
     "metadata": {},
     "output_type": "display_data"
    },
    {
     "data": {
      "text/latex": [
       "$\\displaystyle \n",
       "            B^{}_{4} =\n",
       "            \\begin{pmatrix}\n",
       "                0.8268218104318059 & -0.3784012476539641 \\\\\n",
       "                -0.3784012476539641 & 0.1731781895681940 \\\\\n",
       "            \\end{pmatrix}\n",
       "        $"
      ],
      "text/plain": [
       "<IPython.core.display.Math object>"
      ]
     },
     "metadata": {},
     "output_type": "display_data"
    },
    {
     "data": {
      "text/latex": [
       "$\\displaystyle \n",
       "            B^{2}_{4} =\n",
       "            \\begin{pmatrix}\n",
       "                0.8268218104318059 & -0.3784012476539641 \\\\\n",
       "                -0.3784012476539641 & 0.1731781895681940 \\\\\n",
       "            \\end{pmatrix}\n",
       "        $"
      ],
      "text/plain": [
       "<IPython.core.display.Math object>"
      ]
     },
     "metadata": {},
     "output_type": "display_data"
    },
    {
     "data": {
      "text/latex": [
       "$\\displaystyle \n",
       "            B^{}_{5} =\n",
       "            \\begin{pmatrix}\n",
       "                0.3581689072683868 & -0.4794621373315692 \\\\\n",
       "                -0.4794621373315692 & 0.6418310927316131 \\\\\n",
       "            \\end{pmatrix}\n",
       "        $"
      ],
      "text/plain": [
       "<IPython.core.display.Math object>"
      ]
     },
     "metadata": {},
     "output_type": "display_data"
    },
    {
     "data": {
      "text/latex": [
       "$\\displaystyle \n",
       "            B^{2}_{5} =\n",
       "            \\begin{pmatrix}\n",
       "                0.3581689072683868 & -0.4794621373315692 \\\\\n",
       "                -0.4794621373315692 & 0.6418310927316131 \\\\\n",
       "            \\end{pmatrix}\n",
       "        $"
      ],
      "text/plain": [
       "<IPython.core.display.Math object>"
      ]
     },
     "metadata": {},
     "output_type": "display_data"
    },
    {
     "data": {
      "text/latex": [
       "$\\displaystyle \n",
       "            B^{}_{6} =\n",
       "            \\begin{pmatrix}\n",
       "                0.0199148566748170 & -0.1397077490994629 \\\\\n",
       "                -0.1397077490994629 & 0.9800851433251830 \\\\\n",
       "            \\end{pmatrix}\n",
       "        $"
      ],
      "text/plain": [
       "<IPython.core.display.Math object>"
      ]
     },
     "metadata": {},
     "output_type": "display_data"
    },
    {
     "data": {
      "text/latex": [
       "$\\displaystyle \n",
       "            B^{2}_{6} =\n",
       "            \\begin{pmatrix}\n",
       "                0.0199148566748170 & -0.1397077490994629 \\\\\n",
       "                -0.1397077490994629 & 0.9800851433251830 \\\\\n",
       "            \\end{pmatrix}\n",
       "        $"
      ],
      "text/plain": [
       "<IPython.core.display.Math object>"
      ]
     },
     "metadata": {},
     "output_type": "display_data"
    },
    {
     "data": {
      "text/latex": [
       "$\\displaystyle \n",
       "            B^{}_{7} =\n",
       "            \\begin{pmatrix}\n",
       "                0.1230488728283477 & 0.3284932993593945 \\\\\n",
       "                0.3284932993593945 & 0.8769511271716524 \\\\\n",
       "            \\end{pmatrix}\n",
       "        $"
      ],
      "text/plain": [
       "<IPython.core.display.Math object>"
      ]
     },
     "metadata": {},
     "output_type": "display_data"
    },
    {
     "data": {
      "text/latex": [
       "$\\displaystyle \n",
       "            B^{2}_{7} =\n",
       "            \\begin{pmatrix}\n",
       "                0.1230488728283477 & 0.3284932993593945 \\\\\n",
       "                0.3284932993593945 & 0.8769511271716524 \\\\\n",
       "            \\end{pmatrix}\n",
       "        $"
      ],
      "text/plain": [
       "<IPython.core.display.Math object>"
      ]
     },
     "metadata": {},
     "output_type": "display_data"
    },
    {
     "data": {
      "text/latex": [
       "$\\displaystyle \n",
       "            B^{}_{8} =\n",
       "            \\begin{pmatrix}\n",
       "                0.5727500169043067 & 0.4946791233116909 \\\\\n",
       "                0.4946791233116909 & 0.4272499830956932 \\\\\n",
       "            \\end{pmatrix}\n",
       "        $"
      ],
      "text/plain": [
       "<IPython.core.display.Math object>"
      ]
     },
     "metadata": {},
     "output_type": "display_data"
    },
    {
     "data": {
      "text/latex": [
       "$\\displaystyle \n",
       "            B^{2}_{8} =\n",
       "            \\begin{pmatrix}\n",
       "                0.5727500169043067 & 0.4946791233116908 \\\\\n",
       "                0.4946791233116908 & 0.4272499830956932 \\\\\n",
       "            \\end{pmatrix}\n",
       "        $"
      ],
      "text/plain": [
       "<IPython.core.display.Math object>"
      ]
     },
     "metadata": {},
     "output_type": "display_data"
    },
    {
     "data": {
      "text/latex": [
       "$\\displaystyle \n",
       "            B^{}_{9} =\n",
       "            \\begin{pmatrix}\n",
       "                0.9555651309423385 & 0.2060592426208783 \\\\\n",
       "                0.2060592426208783 & 0.0444348690576615 \\\\\n",
       "            \\end{pmatrix}\n",
       "        $"
      ],
      "text/plain": [
       "<IPython.core.display.Math object>"
      ]
     },
     "metadata": {},
     "output_type": "display_data"
    },
    {
     "data": {
      "text/latex": [
       "$\\displaystyle \n",
       "            B^{2}_{9} =\n",
       "            \\begin{pmatrix}\n",
       "                0.9555651309423385 & 0.2060592426208783 \\\\\n",
       "                0.2060592426208783 & 0.0444348690576615 \\\\\n",
       "            \\end{pmatrix}\n",
       "        $"
      ],
      "text/plain": [
       "<IPython.core.display.Math object>"
      ]
     },
     "metadata": {},
     "output_type": "display_data"
    },
    {
     "data": {
      "text/latex": [
       "$\\displaystyle \n",
       "            B^{}_{10} =\n",
       "            \\begin{pmatrix}\n",
       "                0.9195357645382263 & -0.2720105554446849 \\\\\n",
       "                -0.2720105554446849 & 0.0804642354617738 \\\\\n",
       "            \\end{pmatrix}\n",
       "        $"
      ],
      "text/plain": [
       "<IPython.core.display.Math object>"
      ]
     },
     "metadata": {},
     "output_type": "display_data"
    },
    {
     "data": {
      "text/latex": [
       "$\\displaystyle \n",
       "            B^{2}_{10} =\n",
       "            \\begin{pmatrix}\n",
       "                0.9195357645382264 & -0.2720105554446849 \\\\\n",
       "                -0.2720105554446849 & 0.0804642354617738 \\\\\n",
       "            \\end{pmatrix}\n",
       "        $"
      ],
      "text/plain": [
       "<IPython.core.display.Math object>"
      ]
     },
     "metadata": {},
     "output_type": "display_data"
    }
   ],
   "source": [
    "from sympy import Matrix\n",
    "from sympy.abc import a, b, c, d\n",
    "B = Matrix(\n",
    "    [\n",
    "        [a, b],\n",
    "        [c, d]\n",
    "    ]\n",
    ")\n",
    "\n",
    "for x in range(1, 11):\n",
    "    latex_string_base = format_latex(\n",
    "        np.asarray(\n",
    "            B.evalf(subs = {k: v for k, v in zip('abcd', 0.5 * generate_A(x).reshape(4))})\n",
    "        ),\n",
    "        'B',\n",
    "        str(x)\n",
    "    )\n",
    "    latex_string_pow = format_latex(\n",
    "        np.asarray(\n",
    "            (B*B).evalf(subs = {k: v for k, v in zip('abcd', 0.5 * generate_A(x).reshape(4))}), \n",
    "            dtype = np.float64\n",
    "        ),\n",
    "        'B',\n",
    "        str(x),\n",
    "        str(2)\n",
    "    )\n",
    "    \n",
    "    for latex_string in [latex_string_base, latex_string_pow]:\n",
    "        display(\n",
    "            Math(\n",
    "                latex_string\n",
    "            )\n",
    "        )"
   ]
  },
  {
   "cell_type": "markdown",
   "id": "c973e7b7-181c-4ac1-a190-b835e9ed0e6d",
   "metadata": {},
   "source": [
    "c) Die besondere Struktur von $B_x$ können wir zur Evaluation der Methoden `dot` und `np.matrix_power` verwenden.  Rufen Sie Ihre Funktion `potenzen` für $B^{20}_{6}$ auf und vergleichen Sie die beiden Berechnungen mit $B$. Wählen Sie dafür die Ausgabegenauigkeit hoch genug (zB mit `np.set_printoptions(precision=16)`)."
   ]
  },
  {
   "cell_type": "code",
   "execution_count": 8,
   "id": "d60a0a97-1057-4857-8d1c-92bc6fba0608",
   "metadata": {},
   "outputs": [
    {
     "data": {
      "text/latex": [
       "$\\displaystyle \n",
       "            B^{}_{6} =\n",
       "            \\begin{pmatrix}\n",
       "                0.0199148566748170 & -0.1397077490994629 \\\\\n",
       "                -0.1397077490994629 & 0.9800851433251830 \\\\\n",
       "            \\end{pmatrix}\n",
       "        $"
      ],
      "text/plain": [
       "<IPython.core.display.Math object>"
      ]
     },
     "metadata": {},
     "output_type": "display_data"
    },
    {
     "data": {
      "text/latex": [
       "$\\displaystyle \n",
       "            B^{20}_{6, matp} =\n",
       "            \\begin{pmatrix}\n",
       "                0.0199148566748170 & -0.1397077490994631 \\\\\n",
       "                -0.1397077490994631 & 0.9800851433251847 \\\\\n",
       "            \\end{pmatrix}\n",
       "        $"
      ],
      "text/plain": [
       "<IPython.core.display.Math object>"
      ]
     },
     "metadata": {},
     "output_type": "display_data"
    },
    {
     "data": {
      "text/latex": [
       "$\\displaystyle \n",
       "            B^{20}_{6, dotp} =\n",
       "            \\begin{pmatrix}\n",
       "                0.0199148566748170 & -0.1397077490994629 \\\\\n",
       "                -0.1397077490994630 & 0.9800851433251836 \\\\\n",
       "            \\end{pmatrix}\n",
       "        $"
      ],
      "text/plain": [
       "<IPython.core.display.Math object>"
      ]
     },
     "metadata": {},
     "output_type": "display_data"
    }
   ],
   "source": [
    "B = 0.5*generate_A(6)\n",
    "np.set_printoptions(precision=16)\n",
    "display(\n",
    "    Math(\n",
    "        format_latex(B, 'B', str(6))\n",
    "    )\n",
    ")\n",
    "\n",
    "for label, B_pow in zip(['matp', 'dotp'], potenzen(B, 20)):\n",
    "    display(\n",
    "        Math(\n",
    "            format_latex(B_pow, 'B', str(6), str(20), label)\n",
    "        )\n",
    "    )"
   ]
  },
  {
   "cell_type": "markdown",
   "id": "bf80363f-17e3-4af0-bc03-7d38152acaf5",
   "metadata": {},
   "source": [
    "Wiederholen Sie dies für mehrere Werte $x$ und stellen Sie eine Vermutung auf, welche der beiden Methoden exakter rechnet."
   ]
  },
  {
   "cell_type": "code",
   "execution_count": 9,
   "id": "a6c1b815-0a63-473a-a915-069058cb0207",
   "metadata": {},
   "outputs": [
    {
     "data": {
      "text/latex": [
       "$\\displaystyle \n",
       "            B^{20}_{1, matp} =\n",
       "            \\begin{pmatrix}\n",
       "                0.2298488470659301 & 0.4207354924039483 \\\\\n",
       "                0.4207354924039483 & 0.7701511529340699 \\\\\n",
       "            \\end{pmatrix}\n",
       "        $"
      ],
      "text/plain": [
       "<IPython.core.display.Math object>"
      ]
     },
     "metadata": {},
     "output_type": "display_data"
    },
    {
     "data": {
      "text/latex": [
       "$\\displaystyle \n",
       "            B^{20}_{1, dotp} =\n",
       "            \\begin{pmatrix}\n",
       "                0.2298488470659301 & 0.4207354924039483 \\\\\n",
       "                0.4207354924039483 & 0.7701511529340699 \\\\\n",
       "            \\end{pmatrix}\n",
       "        $"
      ],
      "text/plain": [
       "<IPython.core.display.Math object>"
      ]
     },
     "metadata": {},
     "output_type": "display_data"
    },
    {
     "data": {
      "text/latex": [
       "$\\displaystyle \n",
       "            B^{20}_{2, matp} =\n",
       "            \\begin{pmatrix}\n",
       "                0.7080734182735712 & 0.4546487134128409 \\\\\n",
       "                0.4546487134128409 & 0.2919265817264288 \\\\\n",
       "            \\end{pmatrix}\n",
       "        $"
      ],
      "text/plain": [
       "<IPython.core.display.Math object>"
      ]
     },
     "metadata": {},
     "output_type": "display_data"
    },
    {
     "data": {
      "text/latex": [
       "$\\displaystyle \n",
       "            B^{20}_{2, dotp} =\n",
       "            \\begin{pmatrix}\n",
       "                0.7080734182735712 & 0.4546487134128409 \\\\\n",
       "                0.4546487134128409 & 0.2919265817264288 \\\\\n",
       "            \\end{pmatrix}\n",
       "        $"
      ],
      "text/plain": [
       "<IPython.core.display.Math object>"
      ]
     },
     "metadata": {},
     "output_type": "display_data"
    },
    {
     "data": {
      "text/latex": [
       "$\\displaystyle \n",
       "            B^{20}_{3, matp} =\n",
       "            \\begin{pmatrix}\n",
       "                0.9949962483002216 & 0.0705600040299336 \\\\\n",
       "                0.0705600040299336 & 0.0050037516997773 \\\\\n",
       "            \\end{pmatrix}\n",
       "        $"
      ],
      "text/plain": [
       "<IPython.core.display.Math object>"
      ]
     },
     "metadata": {},
     "output_type": "display_data"
    },
    {
     "data": {
      "text/latex": [
       "$\\displaystyle \n",
       "            B^{20}_{3, dotp} =\n",
       "            \\begin{pmatrix}\n",
       "                0.9949962483002226 & 0.0705600040299336 \\\\\n",
       "                0.0705600040299336 & 0.0050037516997773 \\\\\n",
       "            \\end{pmatrix}\n",
       "        $"
      ],
      "text/plain": [
       "<IPython.core.display.Math object>"
      ]
     },
     "metadata": {},
     "output_type": "display_data"
    },
    {
     "data": {
      "text/latex": [
       "$\\displaystyle \n",
       "            B^{20}_{4, matp} =\n",
       "            \\begin{pmatrix}\n",
       "                0.8268218104318050 & -0.3784012476539637 \\\\\n",
       "                -0.3784012476539636 & 0.1731781895681938 \\\\\n",
       "            \\end{pmatrix}\n",
       "        $"
      ],
      "text/plain": [
       "<IPython.core.display.Math object>"
      ]
     },
     "metadata": {},
     "output_type": "display_data"
    },
    {
     "data": {
      "text/latex": [
       "$\\displaystyle \n",
       "            B^{20}_{4, dotp} =\n",
       "            \\begin{pmatrix}\n",
       "                0.8268218104318056 & -0.3784012476539639 \\\\\n",
       "                -0.3784012476539640 & 0.1731781895681940 \\\\\n",
       "            \\end{pmatrix}\n",
       "        $"
      ],
      "text/plain": [
       "<IPython.core.display.Math object>"
      ]
     },
     "metadata": {},
     "output_type": "display_data"
    },
    {
     "data": {
      "text/latex": [
       "$\\displaystyle \n",
       "            B^{20}_{5, matp} =\n",
       "            \\begin{pmatrix}\n",
       "                0.3581689072683868 & -0.4794621373315692 \\\\\n",
       "                -0.4794621373315692 & 0.6418310927316131 \\\\\n",
       "            \\end{pmatrix}\n",
       "        $"
      ],
      "text/plain": [
       "<IPython.core.display.Math object>"
      ]
     },
     "metadata": {},
     "output_type": "display_data"
    },
    {
     "data": {
      "text/latex": [
       "$\\displaystyle \n",
       "            B^{20}_{5, dotp} =\n",
       "            \\begin{pmatrix}\n",
       "                0.3581689072683868 & -0.4794621373315692 \\\\\n",
       "                -0.4794621373315692 & 0.6418310927316131 \\\\\n",
       "            \\end{pmatrix}\n",
       "        $"
      ],
      "text/plain": [
       "<IPython.core.display.Math object>"
      ]
     },
     "metadata": {},
     "output_type": "display_data"
    },
    {
     "data": {
      "text/latex": [
       "$\\displaystyle \n",
       "            B^{20}_{6, matp} =\n",
       "            \\begin{pmatrix}\n",
       "                0.0199148566748170 & -0.1397077490994631 \\\\\n",
       "                -0.1397077490994631 & 0.9800851433251847 \\\\\n",
       "            \\end{pmatrix}\n",
       "        $"
      ],
      "text/plain": [
       "<IPython.core.display.Math object>"
      ]
     },
     "metadata": {},
     "output_type": "display_data"
    },
    {
     "data": {
      "text/latex": [
       "$\\displaystyle \n",
       "            B^{20}_{6, dotp} =\n",
       "            \\begin{pmatrix}\n",
       "                0.0199148566748170 & -0.1397077490994629 \\\\\n",
       "                -0.1397077490994630 & 0.9800851433251836 \\\\\n",
       "            \\end{pmatrix}\n",
       "        $"
      ],
      "text/plain": [
       "<IPython.core.display.Math object>"
      ]
     },
     "metadata": {},
     "output_type": "display_data"
    },
    {
     "data": {
      "text/latex": [
       "$\\displaystyle \n",
       "            B^{20}_{7, matp} =\n",
       "            \\begin{pmatrix}\n",
       "                0.1230488728283477 & 0.3284932993593945 \\\\\n",
       "                0.3284932993593945 & 0.8769511271716524 \\\\\n",
       "            \\end{pmatrix}\n",
       "        $"
      ],
      "text/plain": [
       "<IPython.core.display.Math object>"
      ]
     },
     "metadata": {},
     "output_type": "display_data"
    },
    {
     "data": {
      "text/latex": [
       "$\\displaystyle \n",
       "            B^{20}_{7, dotp} =\n",
       "            \\begin{pmatrix}\n",
       "                0.1230488728283477 & 0.3284932993593945 \\\\\n",
       "                0.3284932993593945 & 0.8769511271716524 \\\\\n",
       "            \\end{pmatrix}\n",
       "        $"
      ],
      "text/plain": [
       "<IPython.core.display.Math object>"
      ]
     },
     "metadata": {},
     "output_type": "display_data"
    },
    {
     "data": {
      "text/latex": [
       "$\\displaystyle \n",
       "            B^{20}_{8, matp} =\n",
       "            \\begin{pmatrix}\n",
       "                0.5727500169043064 & 0.4946791233116904 \\\\\n",
       "                0.4946791233116905 & 0.4272499830956928 \\\\\n",
       "            \\end{pmatrix}\n",
       "        $"
      ],
      "text/plain": [
       "<IPython.core.display.Math object>"
      ]
     },
     "metadata": {},
     "output_type": "display_data"
    },
    {
     "data": {
      "text/latex": [
       "$\\displaystyle \n",
       "            B^{20}_{8, dotp} =\n",
       "            \\begin{pmatrix}\n",
       "                0.5727500169043067 & 0.4946791233116908 \\\\\n",
       "                0.4946791233116908 & 0.4272499830956932 \\\\\n",
       "            \\end{pmatrix}\n",
       "        $"
      ],
      "text/plain": [
       "<IPython.core.display.Math object>"
      ]
     },
     "metadata": {},
     "output_type": "display_data"
    },
    {
     "data": {
      "text/latex": [
       "$\\displaystyle \n",
       "            B^{20}_{9, matp} =\n",
       "            \\begin{pmatrix}\n",
       "                0.9555651309423385 & 0.2060592426208783 \\\\\n",
       "                0.2060592426208783 & 0.0444348690576615 \\\\\n",
       "            \\end{pmatrix}\n",
       "        $"
      ],
      "text/plain": [
       "<IPython.core.display.Math object>"
      ]
     },
     "metadata": {},
     "output_type": "display_data"
    },
    {
     "data": {
      "text/latex": [
       "$\\displaystyle \n",
       "            B^{20}_{9, dotp} =\n",
       "            \\begin{pmatrix}\n",
       "                0.9555651309423385 & 0.2060592426208783 \\\\\n",
       "                0.2060592426208783 & 0.0444348690576615 \\\\\n",
       "            \\end{pmatrix}\n",
       "        $"
      ],
      "text/plain": [
       "<IPython.core.display.Math object>"
      ]
     },
     "metadata": {},
     "output_type": "display_data"
    },
    {
     "data": {
      "text/latex": [
       "$\\displaystyle \n",
       "            B^{20}_{10, matp} =\n",
       "            \\begin{pmatrix}\n",
       "                0.9195357645382263 & -0.2720105554446849 \\\\\n",
       "                -0.2720105554446849 & 0.0804642354617738 \\\\\n",
       "            \\end{pmatrix}\n",
       "        $"
      ],
      "text/plain": [
       "<IPython.core.display.Math object>"
      ]
     },
     "metadata": {},
     "output_type": "display_data"
    },
    {
     "data": {
      "text/latex": [
       "$\\displaystyle \n",
       "            B^{20}_{10, dotp} =\n",
       "            \\begin{pmatrix}\n",
       "                0.9195357645382263 & -0.2720105554446849 \\\\\n",
       "                -0.2720105554446849 & 0.0804642354617738 \\\\\n",
       "            \\end{pmatrix}\n",
       "        $"
      ],
      "text/plain": [
       "<IPython.core.display.Math object>"
      ]
     },
     "metadata": {},
     "output_type": "display_data"
    },
    {
     "data": {
      "text/latex": [
       "$\\displaystyle \n",
       "            B^{20}_{11, matp} =\n",
       "            \\begin{pmatrix}\n",
       "                0.4977871510059748 & -0.4999951032753518 \\\\\n",
       "                -0.4999951032753519 & 0.5022128489940254 \\\\\n",
       "            \\end{pmatrix}\n",
       "        $"
      ],
      "text/plain": [
       "<IPython.core.display.Math object>"
      ]
     },
     "metadata": {},
     "output_type": "display_data"
    },
    {
     "data": {
      "text/latex": [
       "$\\displaystyle \n",
       "            B^{20}_{11, dotp} =\n",
       "            \\begin{pmatrix}\n",
       "                0.4977871510059746 & -0.4999951032753518 \\\\\n",
       "                -0.4999951032753518 & 0.5022128489940254 \\\\\n",
       "            \\end{pmatrix}\n",
       "        $"
      ],
      "text/plain": [
       "<IPython.core.display.Math object>"
      ]
     },
     "metadata": {},
     "output_type": "display_data"
    },
    {
     "data": {
      "text/latex": [
       "$\\displaystyle \n",
       "            B^{20}_{12, matp} =\n",
       "            \\begin{pmatrix}\n",
       "                0.0780730206337539 & -0.2682864590002175 \\\\\n",
       "                -0.2682864590002175 & 0.9219269793662461 \\\\\n",
       "            \\end{pmatrix}\n",
       "        $"
      ],
      "text/plain": [
       "<IPython.core.display.Math object>"
      ]
     },
     "metadata": {},
     "output_type": "display_data"
    },
    {
     "data": {
      "text/latex": [
       "$\\displaystyle \n",
       "            B^{20}_{12, dotp} =\n",
       "            \\begin{pmatrix}\n",
       "                0.0780730206337539 & -0.2682864590002175 \\\\\n",
       "                -0.2682864590002175 & 0.9219269793662461 \\\\\n",
       "            \\end{pmatrix}\n",
       "        $"
      ],
      "text/plain": [
       "<IPython.core.display.Math object>"
      ]
     },
     "metadata": {},
     "output_type": "display_data"
    },
    {
     "data": {
      "text/latex": [
       "$\\displaystyle \n",
       "            B^{20}_{13, matp} =\n",
       "            \\begin{pmatrix}\n",
       "                0.0462766092749019 & 0.2100835184133205 \\\\\n",
       "                0.2100835184133205 & 0.9537233907250982 \\\\\n",
       "            \\end{pmatrix}\n",
       "        $"
      ],
      "text/plain": [
       "<IPython.core.display.Math object>"
      ]
     },
     "metadata": {},
     "output_type": "display_data"
    },
    {
     "data": {
      "text/latex": [
       "$\\displaystyle \n",
       "            B^{20}_{13, dotp} =\n",
       "            \\begin{pmatrix}\n",
       "                0.0462766092749019 & 0.2100835184133205 \\\\\n",
       "                0.2100835184133205 & 0.9537233907250982 \\\\\n",
       "            \\end{pmatrix}\n",
       "        $"
      ],
      "text/plain": [
       "<IPython.core.display.Math object>"
      ]
     },
     "metadata": {},
     "output_type": "display_data"
    },
    {
     "data": {
      "text/latex": [
       "$\\displaystyle \n",
       "            B^{20}_{14, matp} =\n",
       "            \\begin{pmatrix}\n",
       "                0.4316313908960838 & 0.4953036778474358 \\\\\n",
       "                0.4953036778474359 & 0.5683686091039175 \\\\\n",
       "            \\end{pmatrix}\n",
       "        $"
      ],
      "text/plain": [
       "<IPython.core.display.Math object>"
      ]
     },
     "metadata": {},
     "output_type": "display_data"
    },
    {
     "data": {
      "text/latex": [
       "$\\displaystyle \n",
       "            B^{20}_{14, dotp} =\n",
       "            \\begin{pmatrix}\n",
       "                0.4316313908960833 & 0.4953036778474352 \\\\\n",
       "                0.4953036778474352 & 0.5683686091039168 \\\\\n",
       "            \\end{pmatrix}\n",
       "        $"
      ],
      "text/plain": [
       "<IPython.core.display.Math object>"
      ]
     },
     "metadata": {},
     "output_type": "display_data"
    },
    {
     "data": {
      "text/latex": [
       "$\\displaystyle \n",
       "            B^{20}_{15, matp} =\n",
       "            \\begin{pmatrix}\n",
       "                0.8798439564294106 & 0.3251439200785585 \\\\\n",
       "                0.3251439200785585 & 0.1201560435705894 \\\\\n",
       "            \\end{pmatrix}\n",
       "        $"
      ],
      "text/plain": [
       "<IPython.core.display.Math object>"
      ]
     },
     "metadata": {},
     "output_type": "display_data"
    },
    {
     "data": {
      "text/latex": [
       "$\\displaystyle \n",
       "            B^{20}_{15, dotp} =\n",
       "            \\begin{pmatrix}\n",
       "                0.8798439564294106 & 0.3251439200785585 \\\\\n",
       "                0.3251439200785585 & 0.1201560435705894 \\\\\n",
       "            \\end{pmatrix}\n",
       "        $"
      ],
      "text/plain": [
       "<IPython.core.display.Math object>"
      ]
     },
     "metadata": {},
     "output_type": "display_data"
    }
   ],
   "source": [
    "for x in np.arange(1, 16):\n",
    "    B = 0.5*generate_A(x)\n",
    "    for label, B_pow in zip(['matp', 'dotp'], potenzen(B, 20)):\n",
    "        display(\n",
    "            Math(\n",
    "                format_latex(B_pow, 'B', str(x), str(20), label)\n",
    "            )\n",
    "        )"
   ]
  },
  {
   "cell_type": "markdown",
   "id": "d1d66ace-fce1-42a2-bdf9-4d9d65c2759e",
   "metadata": {},
   "source": [
    "Evaluieren Sie dies nun, indem Sie für $n=2,\\ldots,25$ die Norm von $(B_x−B^{n}_{x})$ für beide Methoden berechnen (im `numpy` Untermodul `linalg` gibt es die Funktion `norm`). Wie verhalten sich die beiden Methoden?"
   ]
  },
  {
   "cell_type": "code",
   "execution_count": 10,
   "id": "0ddd0a48-2a65-4563-8f3f-576680d98a35",
   "metadata": {},
   "outputs": [
    {
     "data": {
      "text/latex": [
       "$\\displaystyle ||(B_{6} - B^{2}_{6, matp})|| = {0.0000000000000001}$"
      ],
      "text/plain": [
       "<IPython.core.display.Math object>"
      ]
     },
     "metadata": {},
     "output_type": "display_data"
    },
    {
     "data": {
      "text/latex": [
       "$\\displaystyle ||(B_{6} - B^{2}_{6, dotp})|| = {0.0000000000000001}$"
      ],
      "text/plain": [
       "<IPython.core.display.Math object>"
      ]
     },
     "metadata": {},
     "output_type": "display_data"
    },
    {
     "data": {
      "text/latex": [
       "$\\displaystyle ||(B_{6} - B^{3}_{6, matp})|| = {0.0000000000000002}$"
      ],
      "text/plain": [
       "<IPython.core.display.Math object>"
      ]
     },
     "metadata": {},
     "output_type": "display_data"
    },
    {
     "data": {
      "text/latex": [
       "$\\displaystyle ||(B_{6} - B^{3}_{6, dotp})|| = {0.0000000000000002}$"
      ],
      "text/plain": [
       "<IPython.core.display.Math object>"
      ]
     },
     "metadata": {},
     "output_type": "display_data"
    },
    {
     "data": {
      "text/latex": [
       "$\\displaystyle ||(B_{6} - B^{4}_{6, matp})|| = {0.0000000000000003}$"
      ],
      "text/plain": [
       "<IPython.core.display.Math object>"
      ]
     },
     "metadata": {},
     "output_type": "display_data"
    },
    {
     "data": {
      "text/latex": [
       "$\\displaystyle ||(B_{6} - B^{4}_{6, dotp})|| = {0.0000000000000003}$"
      ],
      "text/plain": [
       "<IPython.core.display.Math object>"
      ]
     },
     "metadata": {},
     "output_type": "display_data"
    },
    {
     "data": {
      "text/latex": [
       "$\\displaystyle ||(B_{6} - B^{5}_{6, matp})|| = {0.0000000000000004}$"
      ],
      "text/plain": [
       "<IPython.core.display.Math object>"
      ]
     },
     "metadata": {},
     "output_type": "display_data"
    },
    {
     "data": {
      "text/latex": [
       "$\\displaystyle ||(B_{6} - B^{5}_{6, dotp})|| = {0.0000000000000004}$"
      ],
      "text/plain": [
       "<IPython.core.display.Math object>"
      ]
     },
     "metadata": {},
     "output_type": "display_data"
    },
    {
     "data": {
      "text/latex": [
       "$\\displaystyle ||(B_{6} - B^{6}_{6, matp})|| = {0.0000000000000006}$"
      ],
      "text/plain": [
       "<IPython.core.display.Math object>"
      ]
     },
     "metadata": {},
     "output_type": "display_data"
    },
    {
     "data": {
      "text/latex": [
       "$\\displaystyle ||(B_{6} - B^{6}_{6, dotp})|| = {0.0000000000000006}$"
      ],
      "text/plain": [
       "<IPython.core.display.Math object>"
      ]
     },
     "metadata": {},
     "output_type": "display_data"
    },
    {
     "data": {
      "text/latex": [
       "$\\displaystyle ||(B_{6} - B^{7}_{6, matp})|| = {0.0000000000000006}$"
      ],
      "text/plain": [
       "<IPython.core.display.Math object>"
      ]
     },
     "metadata": {},
     "output_type": "display_data"
    },
    {
     "data": {
      "text/latex": [
       "$\\displaystyle ||(B_{6} - B^{7}_{6, dotp})|| = {0.0000000000000006}$"
      ],
      "text/plain": [
       "<IPython.core.display.Math object>"
      ]
     },
     "metadata": {},
     "output_type": "display_data"
    },
    {
     "data": {
      "text/latex": [
       "$\\displaystyle ||(B_{6} - B^{8}_{6, matp})|| = {0.0000000000000007}$"
      ],
      "text/plain": [
       "<IPython.core.display.Math object>"
      ]
     },
     "metadata": {},
     "output_type": "display_data"
    },
    {
     "data": {
      "text/latex": [
       "$\\displaystyle ||(B_{6} - B^{8}_{6, dotp})|| = {0.0000000000000006}$"
      ],
      "text/plain": [
       "<IPython.core.display.Math object>"
      ]
     },
     "metadata": {},
     "output_type": "display_data"
    },
    {
     "data": {
      "text/latex": [
       "$\\displaystyle ||(B_{6} - B^{9}_{6, matp})|| = {0.0000000000000007}$"
      ],
      "text/plain": [
       "<IPython.core.display.Math object>"
      ]
     },
     "metadata": {},
     "output_type": "display_data"
    },
    {
     "data": {
      "text/latex": [
       "$\\displaystyle ||(B_{6} - B^{9}_{6, dotp})|| = {0.0000000000000006}$"
      ],
      "text/plain": [
       "<IPython.core.display.Math object>"
      ]
     },
     "metadata": {},
     "output_type": "display_data"
    },
    {
     "data": {
      "text/latex": [
       "$\\displaystyle ||(B_{6} - B^{10}_{6, matp})|| = {0.0000000000000008}$"
      ],
      "text/plain": [
       "<IPython.core.display.Math object>"
      ]
     },
     "metadata": {},
     "output_type": "display_data"
    },
    {
     "data": {
      "text/latex": [
       "$\\displaystyle ||(B_{6} - B^{10}_{6, dotp})|| = {0.0000000000000006}$"
      ],
      "text/plain": [
       "<IPython.core.display.Math object>"
      ]
     },
     "metadata": {},
     "output_type": "display_data"
    },
    {
     "data": {
      "text/latex": [
       "$\\displaystyle ||(B_{6} - B^{11}_{6, matp})|| = {0.0000000000000009}$"
      ],
      "text/plain": [
       "<IPython.core.display.Math object>"
      ]
     },
     "metadata": {},
     "output_type": "display_data"
    },
    {
     "data": {
      "text/latex": [
       "$\\displaystyle ||(B_{6} - B^{11}_{6, dotp})|| = {0.0000000000000006}$"
      ],
      "text/plain": [
       "<IPython.core.display.Math object>"
      ]
     },
     "metadata": {},
     "output_type": "display_data"
    },
    {
     "data": {
      "text/latex": [
       "$\\displaystyle ||(B_{6} - B^{12}_{6, matp})|| = {0.0000000000000010}$"
      ],
      "text/plain": [
       "<IPython.core.display.Math object>"
      ]
     },
     "metadata": {},
     "output_type": "display_data"
    },
    {
     "data": {
      "text/latex": [
       "$\\displaystyle ||(B_{6} - B^{12}_{6, dotp})|| = {0.0000000000000006}$"
      ],
      "text/plain": [
       "<IPython.core.display.Math object>"
      ]
     },
     "metadata": {},
     "output_type": "display_data"
    },
    {
     "data": {
      "text/latex": [
       "$\\displaystyle ||(B_{6} - B^{13}_{6, matp})|| = {0.0000000000000011}$"
      ],
      "text/plain": [
       "<IPython.core.display.Math object>"
      ]
     },
     "metadata": {},
     "output_type": "display_data"
    },
    {
     "data": {
      "text/latex": [
       "$\\displaystyle ||(B_{6} - B^{13}_{6, dotp})|| = {0.0000000000000006}$"
      ],
      "text/plain": [
       "<IPython.core.display.Math object>"
      ]
     },
     "metadata": {},
     "output_type": "display_data"
    },
    {
     "data": {
      "text/latex": [
       "$\\displaystyle ||(B_{6} - B^{14}_{6, matp})|| = {0.0000000000000012}$"
      ],
      "text/plain": [
       "<IPython.core.display.Math object>"
      ]
     },
     "metadata": {},
     "output_type": "display_data"
    },
    {
     "data": {
      "text/latex": [
       "$\\displaystyle ||(B_{6} - B^{14}_{6, dotp})|| = {0.0000000000000006}$"
      ],
      "text/plain": [
       "<IPython.core.display.Math object>"
      ]
     },
     "metadata": {},
     "output_type": "display_data"
    },
    {
     "data": {
      "text/latex": [
       "$\\displaystyle ||(B_{6} - B^{15}_{6, matp})|| = {0.0000000000000012}$"
      ],
      "text/plain": [
       "<IPython.core.display.Math object>"
      ]
     },
     "metadata": {},
     "output_type": "display_data"
    },
    {
     "data": {
      "text/latex": [
       "$\\displaystyle ||(B_{6} - B^{15}_{6, dotp})|| = {0.0000000000000006}$"
      ],
      "text/plain": [
       "<IPython.core.display.Math object>"
      ]
     },
     "metadata": {},
     "output_type": "display_data"
    },
    {
     "data": {
      "text/latex": [
       "$\\displaystyle ||(B_{6} - B^{16}_{6, matp})|| = {0.0000000000000013}$"
      ],
      "text/plain": [
       "<IPython.core.display.Math object>"
      ]
     },
     "metadata": {},
     "output_type": "display_data"
    },
    {
     "data": {
      "text/latex": [
       "$\\displaystyle ||(B_{6} - B^{16}_{6, dotp})|| = {0.0000000000000006}$"
      ],
      "text/plain": [
       "<IPython.core.display.Math object>"
      ]
     },
     "metadata": {},
     "output_type": "display_data"
    },
    {
     "data": {
      "text/latex": [
       "$\\displaystyle ||(B_{6} - B^{17}_{6, matp})|| = {0.0000000000000013}$"
      ],
      "text/plain": [
       "<IPython.core.display.Math object>"
      ]
     },
     "metadata": {},
     "output_type": "display_data"
    },
    {
     "data": {
      "text/latex": [
       "$\\displaystyle ||(B_{6} - B^{17}_{6, dotp})|| = {0.0000000000000006}$"
      ],
      "text/plain": [
       "<IPython.core.display.Math object>"
      ]
     },
     "metadata": {},
     "output_type": "display_data"
    },
    {
     "data": {
      "text/latex": [
       "$\\displaystyle ||(B_{6} - B^{18}_{6, matp})|| = {0.0000000000000015}$"
      ],
      "text/plain": [
       "<IPython.core.display.Math object>"
      ]
     },
     "metadata": {},
     "output_type": "display_data"
    },
    {
     "data": {
      "text/latex": [
       "$\\displaystyle ||(B_{6} - B^{18}_{6, dotp})|| = {0.0000000000000006}$"
      ],
      "text/plain": [
       "<IPython.core.display.Math object>"
      ]
     },
     "metadata": {},
     "output_type": "display_data"
    },
    {
     "data": {
      "text/latex": [
       "$\\displaystyle ||(B_{6} - B^{19}_{6, matp})|| = {0.0000000000000016}$"
      ],
      "text/plain": [
       "<IPython.core.display.Math object>"
      ]
     },
     "metadata": {},
     "output_type": "display_data"
    },
    {
     "data": {
      "text/latex": [
       "$\\displaystyle ||(B_{6} - B^{19}_{6, dotp})|| = {0.0000000000000006}$"
      ],
      "text/plain": [
       "<IPython.core.display.Math object>"
      ]
     },
     "metadata": {},
     "output_type": "display_data"
    },
    {
     "data": {
      "text/latex": [
       "$\\displaystyle ||(B_{6} - B^{20}_{6, matp})|| = {0.0000000000000017}$"
      ],
      "text/plain": [
       "<IPython.core.display.Math object>"
      ]
     },
     "metadata": {},
     "output_type": "display_data"
    },
    {
     "data": {
      "text/latex": [
       "$\\displaystyle ||(B_{6} - B^{20}_{6, dotp})|| = {0.0000000000000006}$"
      ],
      "text/plain": [
       "<IPython.core.display.Math object>"
      ]
     },
     "metadata": {},
     "output_type": "display_data"
    },
    {
     "data": {
      "text/latex": [
       "$\\displaystyle ||(B_{6} - B^{21}_{6, matp})|| = {0.0000000000000018}$"
      ],
      "text/plain": [
       "<IPython.core.display.Math object>"
      ]
     },
     "metadata": {},
     "output_type": "display_data"
    },
    {
     "data": {
      "text/latex": [
       "$\\displaystyle ||(B_{6} - B^{21}_{6, dotp})|| = {0.0000000000000006}$"
      ],
      "text/plain": [
       "<IPython.core.display.Math object>"
      ]
     },
     "metadata": {},
     "output_type": "display_data"
    },
    {
     "data": {
      "text/latex": [
       "$\\displaystyle ||(B_{6} - B^{22}_{6, matp})|| = {0.0000000000000019}$"
      ],
      "text/plain": [
       "<IPython.core.display.Math object>"
      ]
     },
     "metadata": {},
     "output_type": "display_data"
    },
    {
     "data": {
      "text/latex": [
       "$\\displaystyle ||(B_{6} - B^{22}_{6, dotp})|| = {0.0000000000000006}$"
      ],
      "text/plain": [
       "<IPython.core.display.Math object>"
      ]
     },
     "metadata": {},
     "output_type": "display_data"
    },
    {
     "data": {
      "text/latex": [
       "$\\displaystyle ||(B_{6} - B^{23}_{6, matp})|| = {0.0000000000000019}$"
      ],
      "text/plain": [
       "<IPython.core.display.Math object>"
      ]
     },
     "metadata": {},
     "output_type": "display_data"
    },
    {
     "data": {
      "text/latex": [
       "$\\displaystyle ||(B_{6} - B^{23}_{6, dotp})|| = {0.0000000000000006}$"
      ],
      "text/plain": [
       "<IPython.core.display.Math object>"
      ]
     },
     "metadata": {},
     "output_type": "display_data"
    },
    {
     "data": {
      "text/latex": [
       "$\\displaystyle ||(B_{6} - B^{24}_{6, matp})|| = {0.0000000000000020}$"
      ],
      "text/plain": [
       "<IPython.core.display.Math object>"
      ]
     },
     "metadata": {},
     "output_type": "display_data"
    },
    {
     "data": {
      "text/latex": [
       "$\\displaystyle ||(B_{6} - B^{24}_{6, dotp})|| = {0.0000000000000006}$"
      ],
      "text/plain": [
       "<IPython.core.display.Math object>"
      ]
     },
     "metadata": {},
     "output_type": "display_data"
    },
    {
     "data": {
      "text/latex": [
       "$\\displaystyle ||(B_{6} - B^{25}_{6, matp})|| = {0.0000000000000020}$"
      ],
      "text/plain": [
       "<IPython.core.display.Math object>"
      ]
     },
     "metadata": {},
     "output_type": "display_data"
    },
    {
     "data": {
      "text/latex": [
       "$\\displaystyle ||(B_{6} - B^{25}_{6, dotp})|| = {0.0000000000000006}$"
      ],
      "text/plain": [
       "<IPython.core.display.Math object>"
      ]
     },
     "metadata": {},
     "output_type": "display_data"
    }
   ],
   "source": [
    "B = 0.5*generate_A(6)\n",
    "for n in np.arange(2, 26):\n",
    "    for label, B_pow in zip(['matp', 'dotp'], potenzen(B, n)):\n",
    "        display(\n",
    "            Math(\n",
    "                r'||(B_{%i} - B^{%i}_{%i, %s})|| = {%.16f}' %\n",
    "                (6, n, 6, label, np.linalg.norm(B - B_pow))\n",
    "            )\n",
    "        )"
   ]
  },
  {
   "cell_type": "markdown",
   "id": "77b08861-2de9-4d71-86b6-beece5a6604b",
   "metadata": {},
   "source": [
    "d) Mit den Untermodulen `Display` und `Latex` aus dem Modul `IPython.display` ist es möglich die Ausgaben mit LaTex-Quellcode zu formatieren. So können auch Laufvariablen integriert werden z.B.\n",
    "```\n",
    "for n in range(8, 15):\n",
    "    display(\n",
    "        Latex(f'$B^{ {n}}$:', B)\n",
    "    )\n",
    "```\n",
    "Formatieren Sie dahingehend die Ausgabe Ihrer Lösungen in a) - c) übersichtlich. (Zusatzaufgabe: Vergleichen Sie was passiert, wenn in $A$ die Werte als Decimal anstatt float gespeichert werden.)"
   ]
  },
  {
   "cell_type": "markdown",
   "id": "4e344d60-04eb-4422-ae03-6f6db20d1316",
   "metadata": {},
   "source": [
    "Die obigen Lösungen zeigen keinerlei Abweichung zwischen den Methoden für den default Datentyp `np.float64` allerdings sieht man einen deutlichen Unterschied zwischen der Matrixbasis und der Matrixpotenz im Falle des Typs `Decimal`, wobei sich hier zeigt dass die naive Implementierung über `dot` genauer zu sein scheint als `np.linalg.matrix_power`"
   ]
  },
  {
   "cell_type": "markdown",
   "id": "2a0cf210-fd84-4804-9409-a18a529eb3b9",
   "metadata": {},
   "source": [
    "# Function timing\n",
    "Schreiben Sie ein Programm, das die Ausführungszeit der Methoden zur Eigenwertberechnung in sympy und numpy vergleicht. Erstellen Sie hierfür 2 Random-Matrizen von beliebiger Größe $n \\times n$ mit Werten zwischen 0 und 1: benutzen Sie dafür `np.random` und die SymPy-Routine `randMatrix(size)`. Schreiben Sie dann zwei Funktionen `fnum` und `fsym`, welche die Eigenwerte der Matrizen mithilfe von `numpy` und `sympy` Methoden berechnen und zurückgeben. Die Eigenwerte sollen in beiden Fällen als numerische Werte dargestellt werden. Verwenden Sie jetzt die Methode `timeit(f,number=n)` aus dem gleichnamigen Modul `timeit` um die Zeit zu messen, die zur Ausführung benötigt wird (number gibt an wieviele Runden gemessen werden). Wie verhalten sich die Berechnungszeiten zueinander? Was passiert bei größeren Dimensionen der Matrizen?"
   ]
  },
  {
   "cell_type": "code",
   "execution_count": 11,
   "id": "aee3560c-0d3e-498b-a6f4-267fab2518ed",
   "metadata": {},
   "outputs": [],
   "source": [
    "import numpy as np\n",
    "from sympy import randMatrix\n",
    "from timeit import timeit\n",
    "\n",
    "def time_numpy_eigvals(size, repeats = 1000):\n",
    "    stmt = 'fnum(mat)'\n",
    "    setup = \\\n",
    "    'import numpy as np\\n' + \\\n",
    "    'def fnum(mat):\\n' + \\\n",
    "    '\\treturn np.linalg.eigvals(mat)\\n' + \\\n",
    "    f'mat = np.random.random(size = ({size}, {size}))'\n",
    "    return timeit(stmt, setup, number = repeats)\n",
    "\n",
    "def time_sympy_eigvals(size, repeats = 1000):\n",
    "    stmt = 'fsym(mat)'\n",
    "    setup = \\\n",
    "    'from sympy import randMatrix\\n' + \\\n",
    "    'def fsym(mat):\\n' + \\\n",
    "    '\\treturn [k.evalf() for k in mat.eigenvals().keys()]\\n' + \\\n",
    "    f'mat = randMatrix({size}, min = 0, max = 100)/100'\n",
    "    return timeit(stmt, setup, number = repeats)"
   ]
  },
  {
   "cell_type": "code",
   "execution_count": 12,
   "id": "c1a44e3b-7df7-4b50-b278-419e88e4c748",
   "metadata": {},
   "outputs": [
    {
     "data": {
      "text/plain": [
       "0.0031546480000006483"
      ]
     },
     "execution_count": 12,
     "metadata": {},
     "output_type": "execute_result"
    }
   ],
   "source": [
    "time_numpy_eigvals(5, 100)"
   ]
  },
  {
   "cell_type": "code",
   "execution_count": 13,
   "id": "6b8a189e-4eea-451c-86e9-2f9d8d97cc2d",
   "metadata": {},
   "outputs": [
    {
     "data": {
      "text/plain": [
       "1.1592778250000002"
      ]
     },
     "execution_count": 13,
     "metadata": {},
     "output_type": "execute_result"
    }
   ],
   "source": [
    "time_sympy_eigvals(5, 100)"
   ]
  },
  {
   "cell_type": "code",
   "execution_count": 14,
   "id": "45966776-5125-4e7e-9b28-3101850103bd",
   "metadata": {},
   "outputs": [
    {
     "name": "stdout",
     "output_type": "stream",
     "text": [
      "matrix size is 2 x 2\n",
      "numpy takes 0.0017448840 seconds to execute 100 times\n",
      "sympy takes 0.2302692460 seconds to execute 100 times\n",
      "matrix size is 3 x 3\n",
      "numpy takes 0.0020699650 seconds to execute 100 times\n",
      "sympy takes 0.6163522760 seconds to execute 100 times\n",
      "matrix size is 4 x 4\n",
      "numpy takes 0.0025905310 seconds to execute 100 times\n",
      "sympy takes 4.3695153690 seconds to execute 100 times\n",
      "matrix size is 5 x 5\n",
      "numpy takes 0.0028196620 seconds to execute 100 times\n",
      "sympy takes 3.6831416880 seconds to execute 100 times\n",
      "matrix size is 6 x 6\n",
      "numpy takes 0.0029417590 seconds to execute 100 times\n",
      "sympy takes 6.9899539850 seconds to execute 100 times\n",
      "matrix size is 7 x 7\n",
      "numpy takes 0.0030177500 seconds to execute 100 times\n",
      "sympy takes 7.0813784480 seconds to execute 100 times\n",
      "matrix size is 8 x 8\n",
      "numpy takes 0.0031526520 seconds to execute 100 times\n",
      "sympy takes 11.2024311650 seconds to execute 100 times\n",
      "matrix size is 9 x 9\n",
      "numpy takes 0.0030967980 seconds to execute 100 times\n",
      "sympy takes 18.0902586360 seconds to execute 100 times\n"
     ]
    }
   ],
   "source": [
    "for n in range(2, 10):\n",
    "    print(f'matrix size is {n} x {n}')\n",
    "    print('numpy takes %.10f seconds to execute 100 times' % time_numpy_eigvals(n, 100))\n",
    "    print('sympy takes %.10f seconds to execute 100 times' % time_sympy_eigvals(n, 100))"
   ]
  },
  {
   "cell_type": "markdown",
   "id": "d6887d93-44f7-45d4-90d1-692af93242b5",
   "metadata": {},
   "source": [
    "Die Berechnungzeiten verhalten sich sehr stabil wobei es auch oft darauf ankommt was sonst noch so auf dem Rechner läuft. Sonderbar ist jedoch, das für große Matrizen das Timing für `sympy` doch länger dauert als jenes für `numpy` was sich jedoch nicht auf die Berechnungszeiten auswirkt."
   ]
  }
 ],
 "metadata": {
  "kernelspec": {
   "display_name": "mathcode",
   "language": "python",
   "name": "mathcode"
  },
  "language_info": {
   "codemirror_mode": {
    "name": "ipython",
    "version": 3
   },
   "file_extension": ".py",
   "mimetype": "text/x-python",
   "name": "python",
   "nbconvert_exporter": "python",
   "pygments_lexer": "ipython3",
   "version": "3.9.7"
  }
 },
 "nbformat": 4,
 "nbformat_minor": 5
}
