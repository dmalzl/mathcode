{
 "cells": [
  {
   "cell_type": "markdown",
   "id": "e3f38818-e2e5-45e2-a317-ff82d16f2f10",
   "metadata": {},
   "source": [
    "# Gleichungssystem\n",
    "Lösen Sie das folgende Gleichungssystem einmal ausschließlich mit `sympy` Routinen und einmal mit `numpy`:\n",
    "\n",
    "$$\n",
    "5x+4y+3z = 2 \\\\\n",
    "2x+3y+z = 0 \\\\\n",
    "3x+3y+z = 2 \\\\\n",
    "$$\n",
    "\n",
    "Geben Sie die Ergebnisse für $x, y, z$ sinnvoll strukturiert am Bildschirm aus."
   ]
  },
  {
   "cell_type": "code",
   "execution_count": 12,
   "id": "95bbb87f-f433-4f10-9d03-7c47239058be",
   "metadata": {},
   "outputs": [
    {
     "name": "stdout",
     "output_type": "stream",
     "text": [
      "x = 2.0\n",
      "y = -0.8\n",
      "z = -1.6\n"
     ]
    }
   ],
   "source": [
    "from sympy import Eq, solve\n",
    "from sympy.abc import x, y, z\n",
    "\n",
    "system = [\n",
    "    Eq(5*x + 4*y + 3*z, 2),\n",
    "    Eq(2*x + 3*y + z, 0),\n",
    "    Eq(3*x + 3*y + z, 2)\n",
    "]\n",
    "solution = solve(system, [x, y, z])\n",
    "for k, v in solution.items():\n",
    "    print(f'{k} = {float(v)}')"
   ]
  },
  {
   "cell_type": "code",
   "execution_count": 14,
   "id": "de4d5026-683b-4352-8a7d-ed6dc6212b72",
   "metadata": {},
   "outputs": [
    {
     "name": "stdout",
     "output_type": "stream",
     "text": [
      "x = 2.0\n",
      "y = -0.8\n",
      "z = -1.6\n"
     ]
    }
   ],
   "source": [
    "import numpy as np\n",
    "system = np.array(\n",
    "    [\n",
    "        [5, 4, 3],\n",
    "        [2, 3, 1],\n",
    "        [3, 3, 1]\n",
    "    ]\n",
    ")\n",
    "solution = np.linalg.solve(system, np.array([2, 0, 2]))\n",
    "for k, v in zip('xyz', solution):\n",
    "    print(f'{k} = {round(v, 1)}')"
   ]
  }
 ],
 "metadata": {
  "kernelspec": {
   "display_name": "mathcode",
   "language": "python",
   "name": "mathcode"
  },
  "language_info": {
   "codemirror_mode": {
    "name": "ipython",
    "version": 3
   },
   "file_extension": ".py",
   "mimetype": "text/x-python",
   "name": "python",
   "nbconvert_exporter": "python",
   "pygments_lexer": "ipython3",
   "version": "3.9.7"
  }
 },
 "nbformat": 4,
 "nbformat_minor": 5
}
