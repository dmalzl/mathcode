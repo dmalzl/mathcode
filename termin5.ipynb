{
 "cells": [
  {
   "cell_type": "markdown",
   "id": "0421d161-869c-4cf8-a9a2-b5bcd4cfdfec",
   "metadata": {},
   "source": [
    "# Example of object oriented programming\n",
    "Erklären Sie Objektorientierung anhand eines Beispiels aus dem Alltag. Führen Sie dieses genau aus in Bezug auf Attribute/Konstruktor und Methoden. Welche Klassenattribute und Klassenmethoden könnte es in Ihrem Beispiel geben? Wo liegt der Unterschied zu Attributen und Methoden für spezifische Instanzen?"
   ]
  },
  {
   "cell_type": "code",
   "execution_count": null,
   "id": "6d63886e-6450-4e75-9c3b-79b77ab90fc0",
   "metadata": {},
   "outputs": [],
   "source": [
    "class Food():\n",
    "    def __init__(self):"
   ]
  },
  {
   "cell_type": "markdown",
   "id": "aec2f554-8f21-4b49-a02f-3fe98dd7efc0",
   "metadata": {},
   "source": [
    "# Circle class\n",
    "Schreiben Sie eine Klasse für die geometrische Figur Kreis. Der Kreis soll mit einem gültigen Radius initialisiert werden. Wenn der Benutzer nichts übergibt, dann soll der Radius auf 1 gesetzt werden. Wenn der Benutzer einen ungültigen Wert übergibt, soll der Radius ebenfalls auf 1 gesetzt, der Benutzer darüber aber informiert (per print-Ausgabe) werden. Weiters soll der Umfang und die Fläche des Kreises mit je einer Methode berechnet werden können (benützen Sie die Konstante math.pi). Die Methode gibt das Ergebnis an den Aufrufer zurück. Implementieren Sie die speziellen Methoden `__lt__(self,other)` (ein Kreis soll in unserem Fall dann kleiner als ein anderer sein, wenn sein Radius kleiner ist) und `__str__(self)` (geben Sie etwas wie \"Kreis(4.9)\" (natürlich tatsächlichen Radius einsetzen) am Bildschirm aus). Zum Testen der Klasse erzeugen Sie einen Default-Kreis und vier andere Kreise mit Radius Ihrer Wahl. Geben Sie die Kreise in eine Liste, sortieren Sie diese und geben Sie jeden Kreis und seinen Umfang danach am Bildschirm aus (in einer Zeile pro Datensatz)."
   ]
  },
  {
   "cell_type": "code",
   "execution_count": 30,
   "id": "b8249c07-a80f-44f5-810f-718c859da692",
   "metadata": {},
   "outputs": [],
   "source": [
    "import math\n",
    "class Circle():\n",
    "    def __init__(self, radius = 1):\n",
    "        if not type(radius) == float and not type(radius) == int:\n",
    "            print('radius must be either float or int! setting radius to 1.')\n",
    "            self.r = 1\n",
    "            \n",
    "        elif radius < 0:\n",
    "            print('radius must be larger than 0! setting radius to 1.')\n",
    "            self.r = 1\n",
    "        \n",
    "        else:\n",
    "            self.r = radius\n",
    "        \n",
    "    def __lt__(self, other):\n",
    "        return self.r < other.r\n",
    "    \n",
    "    def __str__(self):\n",
    "        return f'Circle(r = {self.r})'\n",
    "    \n",
    "    def __repr__(self):\n",
    "        return f'Circle(r = {self.r})'\n",
    "    \n",
    "    def area(self):\n",
    "        return self.r**2 * math.pi\n",
    "    \n",
    "    def circumference(self):\n",
    "        return 2*self.r * math.pi"
   ]
  },
  {
   "cell_type": "code",
   "execution_count": 49,
   "id": "b8777903-757b-4f0d-9d99-f9ef7210a56b",
   "metadata": {},
   "outputs": [
    {
     "name": "stdout",
     "output_type": "stream",
     "text": [
      "Circle(r = 1) Umfang =  6.283185307179586\n",
      "Circle(r = 2.2) Umfang =  13.823007675795091\n",
      "Circle(r = 4.0) Umfang =  25.132741228718345\n",
      "Circle(r = 4.2) Umfang =  26.389378290154262\n",
      "Circle(r = 5.4) Umfang =  33.929200658769766\n"
     ]
    }
   ],
   "source": [
    "import random\n",
    "circles = [Circle()] + [Circle(round(random.random(), 2) * 10) for i in range(4)]\n",
    "circles.sort()\n",
    "for circle in circles:\n",
    "    print(circle, 'Umfang = ', circle.circumference())"
   ]
  },
  {
   "cell_type": "markdown",
   "id": "5dbbe717-4e44-47a2-88aa-a32626bddd22",
   "metadata": {},
   "source": [
    "# Vector class\n",
    "a) Schreiben Sie zuerst eine Klasse für einen Vektor im $\\mathbb{R}^3$ mit Standardskalarprodukt.  Die Klasse Vektor wird aus drei Koordinaten initialisiert. Wenn nichts übergeben wird, soll ein Vektor (0,0,0) konstruiert werden. Die Klasse soll außerdem Methoden für Addition (Op. +), Subtraktion (Op. -), Multiplikation (Mult. mit Skalar als Methode skalar und Skalarprodukt als Operator *), Kreuzprodukt und Betrag des Vektors enthalten. Mit der Methode normalisiere soll der Vektor normalisiert werden (wenn es sich um den Nullvektor handelt, geben Sie None zurück). Weiters soll man abfragen können, ob es sich um einen Einheitsvektor bzw. einen Nullvektor handelt und ob der vorliegende Vektor und ein (als Parameter übergebener) Vektor orthogonal sind (ist_orthogonal(self,other)). Testen Sie die Methoden anhand von min. 3 Vektoren."
   ]
  },
  {
   "cell_type": "code",
   "execution_count": 61,
   "id": "cdaa38fa-e182-4fa5-9f55-cc5bc825c542",
   "metadata": {},
   "outputs": [
    {
     "name": "stdout",
     "output_type": "stream",
     "text": [
      "Addition:  Vector(3, 3, 3)\n",
      "Subtraktion:  Vector(-1, -1, -1)\n",
      "Skalarprodukt:  6\n",
      "Multiplikation mit Skalar:  Vector(5, 5, 5)\n",
      "Kreuzprodukt:  Vector(0, 0, 0)\n",
      "Betrag: |a| =  1.7320508075688772 , |b| =  3.4641016151377544\n",
      "Norm: ||a|| =  Vector(0.5773502691896258, 0.5773502691896258, 0.5773502691896258) , ||b|| =  Vector(0.5773502691896258, 0.5773502691896258, 0.5773502691896258)\n",
      "c ist ein Nullvektor:  True\n",
      "a ist ein Einheitsvektor:  False\n",
      "b ist ein Einheitvektor nach Normalisierung:  True\n",
      "d ist orthogonal zu e:  True\n",
      "a ist orthogonal zu b:  False\n"
     ]
    }
   ],
   "source": [
    "import math\n",
    "class Vector():\n",
    "    def __init__(self, x = 0, y = 0, z = 0):\n",
    "        self.x = x\n",
    "        self.y = y\n",
    "        self.z = z\n",
    "    \n",
    "    def __add__(self, other):\n",
    "        return Vector(*[getattr(self, attr) + getattr(other, attr) for attr in 'xyz'])\n",
    "    \n",
    "    def __sub__(self, other):\n",
    "        return Vector(*[getattr(self, attr) - getattr(other, attr) for attr in 'xyz'])\n",
    "    \n",
    "    def __mul__(self, other):\n",
    "        return sum([getattr(self, attr) * getattr(other, attr) for attr in 'xyz'])\n",
    "    \n",
    "    def __repr__(self):\n",
    "        return f'Vector({self.x}, {self.y}, {self.z})'\n",
    "    \n",
    "    def __str__(self):\n",
    "        return f'Vector({self.x}, {self.y}, {self.z})'\n",
    "    \n",
    "    def scalar(self, skalar):\n",
    "        return Vector(*[getattr(self, attr) * skalar for attr in 'xyz'])\n",
    "    \n",
    "    def kreuz(self, other):\n",
    "        x = self.y * other.z - self.z * other.y\n",
    "        y = self.z * other.x - self.x * other.z\n",
    "        z = self.x * other.y - self.y * other.x\n",
    "        return Vector(x, y, z)\n",
    "    \n",
    "    def abs(self):\n",
    "        return math.sqrt(sum([getattr(self, attr)**2 for attr in 'xyz']))\n",
    "    \n",
    "    def isnull(self):\n",
    "        return all([getattr(self, attr) == 0 for attr in 'xyz'])\n",
    "    \n",
    "    def isunit(self):\n",
    "        return self.abs() == 1\n",
    "    \n",
    "    def isorthogonal(self, other):\n",
    "        return self * other == 0\n",
    "    \n",
    "    def norm(self):\n",
    "        if self.isnull():\n",
    "            return None\n",
    "        \n",
    "        else:\n",
    "            return self.scalar(1/self.abs())\n",
    "        \n",
    "a = Vector(1, 1, 1)\n",
    "b = Vector(2, 2, 2)\n",
    "c = Vector()\n",
    "d = Vector(1, 0, 0)\n",
    "e = Vector(0, 1, 0)\n",
    "\n",
    "print('Addition: ', a + b)\n",
    "print('Subtraktion: ', a - b)\n",
    "print('Skalarprodukt: ', a * b)\n",
    "print('Multiplikation mit Skalar: ', a.scalar(5))\n",
    "print('Kreuzprodukt: ', a.kreuz(b))\n",
    "print('Betrag: |a| = ', a.abs(), ', |b| = ', b.abs())\n",
    "print('Norm: ||a|| = ', a.norm(), ', ||b|| = ', b.norm())\n",
    "print('c ist ein Nullvektor: ', c.isnull())\n",
    "print('a ist ein Einheitsvektor: ', a.isunit())\n",
    "print('b ist ein Einheitvektor nach Normalisierung: ', b.norm().isunit())\n",
    "print('d ist orthogonal zu e: ', d.isorthogonal(e))\n",
    "print('a ist orthogonal zu b: ', a.isorthogonal(b))"
   ]
  },
  {
   "cell_type": "markdown",
   "id": "a27a15f0-27aa-4cf5-8039-192260faa999",
   "metadata": {},
   "source": [
    "b) Schreiben Sie nun auch eine Klasse Punkt und eine Klasse Gerade. Die Klasse Punkt wird nur aus den drei Koordinaten x, y und z initialisiert. Wenn nichts übergeben wird, bekommt man den Punkt (0,0,0). Die Klasse Gerade soll in Parameterdarstellung angelegt werden können, d.h. indem man einen Punkt und einen Vektor übergibt. Schreiben Sie Methoden, die überprüfen, ob ein Punkt auf der Geraden liegt bzw. wie groß der Abstand eines Punktes von der Geraden ist. Alle drei Klassen müssen mit __str__(self) sinnvoll am Bildschirm ausgebbar sein. Überlegen Sie sich selbst eine gute Darstellung analog zu den bisher kennengelernten Klassen. Zuletzt schreiben Sie nun einen Code, der überprüft, ob die Punkte (1,2,3) und (6,5,5) auf der Geraden (2,3,1)+t*(2,1,2) liegt und eine entsprechende Ausgabe am Bildschirm tätigt!"
   ]
  },
  {
   "cell_type": "code",
   "execution_count": null,
   "id": "0cd8ea1f-3799-4678-a482-31581eb6f110",
   "metadata": {},
   "outputs": [],
   "source": [
    "class Point(Vector):\n",
    "    def __init__(self, x = 0, y = 0, z = 0):\n",
    "        self.x = x\n",
    "        self.y = y\n",
    "        self.z = z\n",
    "        \n",
    "class Line():\n",
    "    def __init__(self, locvec, dirvec):\n",
    "        self.location = locvec\n",
    "        self.direction = dirvec\n",
    "    "
   ]
  }
 ],
 "metadata": {
  "kernelspec": {
   "display_name": "mathcode",
   "language": "python",
   "name": "mathcode"
  },
  "language_info": {
   "codemirror_mode": {
    "name": "ipython",
    "version": 3
   },
   "file_extension": ".py",
   "mimetype": "text/x-python",
   "name": "python",
   "nbconvert_exporter": "python",
   "pygments_lexer": "ipython3",
   "version": "3.9.7"
  }
 },
 "nbformat": 4,
 "nbformat_minor": 5
}
