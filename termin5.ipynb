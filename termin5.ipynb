{
 "cells": [
  {
   "cell_type": "markdown",
   "id": "0421d161-869c-4cf8-a9a2-b5bcd4cfdfec",
   "metadata": {},
   "source": [
    "# Example of object oriented programming\n",
    "Erklären Sie Objektorientierung anhand eines Beispiels aus dem Alltag. Führen Sie dieses genau aus in Bezug auf Attribute/Konstruktor und Methoden. Welche Klassenattribute und Klassenmethoden könnte es in Ihrem Beispiel geben? Wo liegt der Unterschied zu Attributen und Methoden für spezifische Instanzen?"
   ]
  },
  {
   "cell_type": "code",
   "execution_count": 1,
   "id": "6d63886e-6450-4e75-9c3b-79b77ab90fc0",
   "metadata": {},
   "outputs": [],
   "source": [
    "class Stove():\n",
    "    def __init__(self):\n",
    "        self.on = False\n",
    "        self.temp = 0\n",
    "        \n",
    "    def ignite(self):\n",
    "        self.on = True\n",
    "    \n",
    "    def set_temperature(self, temp):\n",
    "        if not self.on:\n",
    "            self.ignite()\n",
    "        self.temp = temp\n",
    "        \n",
    "    def cook(self, food):\n",
    "        if not self.temp:\n",
    "            print('Please set temperature')\n",
    "            \n",
    "        else:\n",
    "            food.cook(self.temp)\n",
    "            \n",
    "        if not food.cooked:\n",
    "            print(f'{food.name} is still raw. Try again with more heat')\n",
    "        \n",
    "        elif not food.burnt:\n",
    "            print(f'Well done! Your {food.name} is ready')\n",
    "        \n",
    "        else:\n",
    "            print(f'Congratulations! You burnt the {food.name}')\n",
    "        \n",
    "        return food\n",
    "            \n",
    "        \n",
    "class Food():\n",
    "    name = 'Food'\n",
    "    unit = 'g'\n",
    "    cooktemp = 0\n",
    "    burntemp = 0\n",
    "    howto = 'cut'\n",
    "    def __init__(self, quantity = 0, quality = 'mediocre'):\n",
    "        self.quantity = quantity\n",
    "        self.quality = quality\n",
    "        self.cooked = False\n",
    "        self.burnt = False\n",
    "    \n",
    "    # this is for display\n",
    "    def __repr__(self):\n",
    "        if not self.burnt:\n",
    "            return f'{self.quantity}{self.unit} of {self.quality} {self.name}'\n",
    "        \n",
    "        else:\n",
    "            return f'{self.quantity}{self.unit} of burnt {self.name}'\n",
    "    \n",
    "    # this is for print although in principle __repr__ would suffice\n",
    "    def __str__(self):\n",
    "        if not self.burnt:\n",
    "            return f'{self.quantity}{self.unit} of {self.quality} {self.name}'\n",
    "        \n",
    "        else:\n",
    "            return f'{self.quantity}{self.unit} of burnt {self.name}'\n",
    "    \n",
    "    def cook(self, cooktemp):\n",
    "        self.cooked = True\n",
    "        if cooktemp > self.burntemp:\n",
    "            self.burnt = True\n",
    "    \n",
    "    def prepare(self):\n",
    "        return f'You {self.howto} the {self.name}'\n",
    "\n",
    "    \n",
    "class Milk(Food):\n",
    "    name = 'Milk'\n",
    "    unit = 'l'\n",
    "    cooktemp = 100\n",
    "    burntemp = 150\n",
    "    howto = 'stir'\n",
    "    def __init__(self, quantity = 0, quality = 'mediocre'):\n",
    "        super().__init__(\n",
    "            quantity = quantity,\n",
    "            quality = quality,\n",
    "        )\n",
    "\n",
    "class Zucchini(Food):\n",
    "    name = 'Zucchini'\n",
    "    cooktemp = 100\n",
    "    burntemp = 200\n",
    "    def __init__(self, quantity = 0, quality = 'mediocre'):\n",
    "        super().__init__(\n",
    "            quantity = quantity,\n",
    "            quality = quality,\n",
    "        )"
   ]
  },
  {
   "cell_type": "code",
   "execution_count": 2,
   "id": "bb309e6a-44b5-4178-b9b3-9182d83d0db9",
   "metadata": {},
   "outputs": [
    {
     "name": "stdout",
     "output_type": "stream",
     "text": [
      "10l of good Milk\n",
      "You stir the Milk\n",
      "Congratulations! You burnt the Milk\n",
      "10l of burnt Milk\n",
      "300g of best Zucchini\n",
      "You cut the Zucchini\n",
      "Well done! Your Zucchini is ready\n",
      "300g of best Zucchini\n"
     ]
    }
   ],
   "source": [
    "stove = Stove()\n",
    "stove.set_temperature(175)\n",
    "milk = Milk(10, 'good')\n",
    "zucchini = Zucchini(300, 'best')\n",
    "for food in [milk, zucchini]:\n",
    "    print(food)\n",
    "    print(food.prepare())\n",
    "    print(stove.cook(food))"
   ]
  },
  {
   "cell_type": "markdown",
   "id": "4f6a4a94-f1cf-4657-bd6b-01407fbefcf1",
   "metadata": {},
   "source": [
    "In diesem Beispiel verwenden wir die Oberklasse `Food` um mit ihr die Unterklassen `Milk` und `Zucchini` zu erzeugen welche damit alle Klassenmethoden und -attribute erben und damit auch das gesamte interface. Jede der Unterklassen überlädt die notwendigen Klassenattribute um den Typ des Lebensmittels sowie seine individuelles Kochverhalten festzulegen. Zusätzlich haben wir die Klasse `Stove` welche mit der Methode `cook` eine Instanz einer Klasse die das `Food`-interface implementiert übernimmt und diese \"zubereitet\" und schließlich ausgibt ob die Zubereitung gelungen oder nicht gelungen ist. Ist letzteres der Fall und das Lebensmittel verbrannt, wird dies auch ausgegeben (wie im Fall von `milk` ersichtlich). Dabei haben wir z.B. die Klassenattribute `name` und `burntemp` welche den Typ des Lebensmittels und die Temperatur bei der es verbrennt festlegen, Attribute der Instanzen sind variable Eigenschaften wie Menge (`quantity`) sowie Qualität (`quality`) des Lebensmittels, Methoden sind z.B. `prepare` welche uns sagt wie wir das Lebensmittel zubereiten sollen (tritt im normalen Fall nicht auf da Lebensmittel nicht sprechen können)."
   ]
  },
  {
   "cell_type": "markdown",
   "id": "aec2f554-8f21-4b49-a02f-3fe98dd7efc0",
   "metadata": {},
   "source": [
    "# Circle class\n",
    "Schreiben Sie eine Klasse für die geometrische Figur Kreis. Der Kreis soll mit einem gültigen Radius initialisiert werden. Wenn der Benutzer nichts übergibt, dann soll der Radius auf 1 gesetzt werden. Wenn der Benutzer einen ungültigen Wert übergibt, soll der Radius ebenfalls auf 1 gesetzt, der Benutzer darüber aber informiert (per print-Ausgabe) werden. Weiters soll der Umfang und die Fläche des Kreises mit je einer Methode berechnet werden können (benützen Sie die Konstante math.pi). Die Methode gibt das Ergebnis an den Aufrufer zurück. Implementieren Sie die speziellen Methoden `__lt__(self,other)` (ein Kreis soll in unserem Fall dann kleiner als ein anderer sein, wenn sein Radius kleiner ist) und `__str__(self)` (geben Sie etwas wie \"Kreis(4.9)\" (natürlich tatsächlichen Radius einsetzen) am Bildschirm aus). Zum Testen der Klasse erzeugen Sie einen Default-Kreis und vier andere Kreise mit Radius Ihrer Wahl. Geben Sie die Kreise in eine Liste, sortieren Sie diese und geben Sie jeden Kreis und seinen Umfang danach am Bildschirm aus (in einer Zeile pro Datensatz)."
   ]
  },
  {
   "cell_type": "code",
   "execution_count": 3,
   "id": "b8249c07-a80f-44f5-810f-718c859da692",
   "metadata": {},
   "outputs": [],
   "source": [
    "import math\n",
    "class Circle():\n",
    "    def __init__(self, radius = 1):\n",
    "        if not type(radius) == float and not type(radius) == int:\n",
    "            print('radius must be either float or int! setting radius to 1.')\n",
    "            self.r = 1\n",
    "            \n",
    "        elif radius < 0:\n",
    "            print('radius must be larger than 0! setting radius to 1.')\n",
    "            self.r = 1\n",
    "        \n",
    "        else:\n",
    "            self.r = radius\n",
    "        \n",
    "    def __lt__(self, other):\n",
    "        return self.r < other.r\n",
    "    \n",
    "    def __str__(self):\n",
    "        return f'Circle(r = {self.r})'\n",
    "    \n",
    "    def __repr__(self):\n",
    "        return f'Circle(r = {self.r})'\n",
    "    \n",
    "    def area(self):\n",
    "        return self.r**2 * math.pi\n",
    "    \n",
    "    def circumference(self):\n",
    "        return 2*self.r * math.pi"
   ]
  },
  {
   "cell_type": "code",
   "execution_count": 4,
   "id": "b8777903-757b-4f0d-9d99-f9ef7210a56b",
   "metadata": {},
   "outputs": [
    {
     "name": "stdout",
     "output_type": "stream",
     "text": [
      "Circle(r = 0.7000000000000001) Umfang =  4.39822971502571\n",
      "Circle(r = 1) Umfang =  6.283185307179586\n",
      "Circle(r = 2.5) Umfang =  15.707963267948966\n",
      "Circle(r = 6.7) Umfang =  42.09734155810323\n",
      "Circle(r = 8.9) Umfang =  55.92034923389832\n"
     ]
    }
   ],
   "source": [
    "import random\n",
    "circles = [Circle()] + [Circle(round(random.random(), 2) * 10) for i in range(4)]\n",
    "circles.sort()\n",
    "for circle in circles:\n",
    "    print(circle, 'Umfang = ', circle.circumference())"
   ]
  },
  {
   "cell_type": "markdown",
   "id": "5dbbe717-4e44-47a2-88aa-a32626bddd22",
   "metadata": {},
   "source": [
    "# Vector class\n",
    "a) Schreiben Sie zuerst eine Klasse für einen Vektor im $\\mathbb{R}^3$ mit Standardskalarprodukt.  Die Klasse Vektor wird aus drei Koordinaten initialisiert. Wenn nichts übergeben wird, soll ein Vektor (0,0,0) konstruiert werden. Die Klasse soll außerdem Methoden für Addition (Op. +), Subtraktion (Op. -), Multiplikation (Mult. mit Skalar als Methode skalar und Skalarprodukt als Operator *), Kreuzprodukt und Betrag des Vektors enthalten. Mit der Methode normalisiere soll der Vektor normalisiert werden (wenn es sich um den Nullvektor handelt, geben Sie None zurück). Weiters soll man abfragen können, ob es sich um einen Einheitsvektor bzw. einen Nullvektor handelt und ob der vorliegende Vektor und ein (als Parameter übergebener) Vektor orthogonal sind (ist_orthogonal(self,other)). Testen Sie die Methoden anhand von min. 3 Vektoren."
   ]
  },
  {
   "cell_type": "code",
   "execution_count": 5,
   "id": "cdaa38fa-e182-4fa5-9f55-cc5bc825c542",
   "metadata": {},
   "outputs": [
    {
     "name": "stdout",
     "output_type": "stream",
     "text": [
      "Addition: Vector(3, 3, 3)\n",
      "Subtraktion: Vector(-1, -1, -1)\n",
      "Skalarprodukt: 6\n",
      "Multiplikation mit Skalar: Vector(5, 5, 5)\n",
      "Kreuzprodukt: Vector(0, 0, 0)\n",
      "Betrag: |a| = 1.7320508075688772 , |b| = 3.4641016151377544\n",
      "Norm: ||a|| = Vector(0.5773502691896258, 0.5773502691896258, 0.5773502691896258) , ||b|| = Vector(0.5773502691896258, 0.5773502691896258, 0.5773502691896258)\n",
      "c ist ein Nullvektor: True\n",
      "a ist ein Einheitsvektor: False\n",
      "b ist ein Einheitvektor nach Normalisierung: True\n",
      "d ist orthogonal zu e: True\n",
      "a ist orthogonal zu b: False\n"
     ]
    }
   ],
   "source": [
    "import math\n",
    "class Vector():\n",
    "    __name__ = 'Vector'\n",
    "    def __init__(self, x = 0, y = 0, z = 0):\n",
    "        self.x = x\n",
    "        self.y = y\n",
    "        self.z = z\n",
    "    \n",
    "    def __add__(self, other):\n",
    "        return Vector(*[getattr(self, attr) + getattr(other, attr) for attr in 'xyz'])\n",
    "    \n",
    "    def __sub__(self, other):\n",
    "        return Vector(*[getattr(self, attr) - getattr(other, attr) for attr in 'xyz'])\n",
    "    \n",
    "    def __mul__(self, other):\n",
    "        return sum([getattr(self, attr) * getattr(other, attr) for attr in 'xyz'])\n",
    "    \n",
    "    def __repr__(self):\n",
    "        return f'{self.__name__}({self.x}, {self.y}, {self.z})'\n",
    "    \n",
    "    def __str__(self):\n",
    "        return f'{self.__name__}({self.x}, {self.y}, {self.z})'\n",
    "    \n",
    "    def scalar(self, skalar):\n",
    "        return Vector(*[getattr(self, attr) * skalar for attr in 'xyz'])\n",
    "    \n",
    "    def kreuz(self, other):\n",
    "        x = self.y * other.z - self.z * other.y\n",
    "        y = self.z * other.x - self.x * other.z\n",
    "        z = self.x * other.y - self.y * other.x\n",
    "        return Vector(x, y, z)\n",
    "    \n",
    "    def abs(self):\n",
    "        return math.sqrt(sum([getattr(self, attr)**2 for attr in 'xyz']))\n",
    "    \n",
    "    def isnull(self):\n",
    "        return all([getattr(self, attr) == 0 for attr in 'xyz'])\n",
    "    \n",
    "    def isunit(self):\n",
    "        return self.abs() == 1\n",
    "    \n",
    "    def isorthogonal(self, other):\n",
    "        return self * other == 0\n",
    "    \n",
    "    def norm(self):\n",
    "        if self.isnull():\n",
    "            return None\n",
    "        \n",
    "        else:\n",
    "            return self.scalar(1/self.abs())\n",
    "        \n",
    "a = Vector(1, 1, 1)\n",
    "b = Vector(2, 2, 2)\n",
    "c = Vector()\n",
    "d = Vector(1, 0, 0)\n",
    "e = Vector(0, 1, 0)\n",
    "\n",
    "print('Addition:', a + b)\n",
    "print('Subtraktion:', a - b)\n",
    "print('Skalarprodukt:', a * b)\n",
    "print('Multiplikation mit Skalar:', a.scalar(5))\n",
    "print('Kreuzprodukt:', a.kreuz(b))\n",
    "print('Betrag: |a| =', a.abs(), ', |b| =', b.abs())\n",
    "print('Norm: ||a|| =', a.norm(), ', ||b|| =', b.norm())\n",
    "print('c ist ein Nullvektor:', c.isnull())\n",
    "print('a ist ein Einheitsvektor:', a.isunit())\n",
    "print('b ist ein Einheitvektor nach Normalisierung:', b.norm().isunit())\n",
    "print('d ist orthogonal zu e:', d.isorthogonal(e))\n",
    "print('a ist orthogonal zu b:', a.isorthogonal(b))"
   ]
  },
  {
   "cell_type": "markdown",
   "id": "a27a15f0-27aa-4cf5-8039-192260faa999",
   "metadata": {},
   "source": [
    "b) Schreiben Sie nun auch eine Klasse Punkt und eine Klasse Gerade. Die Klasse Punkt wird nur aus den drei Koordinaten x, y und z initialisiert. Wenn nichts übergeben wird, bekommt man den Punkt (0,0,0). Die Klasse Gerade soll in Parameterdarstellung angelegt werden können, d.h. indem man einen Punkt und einen Vektor übergibt. Schreiben Sie Methoden, die überprüfen, ob ein Punkt auf der Geraden liegt bzw. wie groß der Abstand eines Punktes von der Geraden ist. Alle drei Klassen müssen mit __str__(self) sinnvoll am Bildschirm ausgebbar sein. Überlegen Sie sich selbst eine gute Darstellung analog zu den bisher kennengelernten Klassen. Zuletzt schreiben Sie nun einen Code, der überprüft, ob die Punkte (1,2,3) und (6,5,5) auf der Geraden (2,3,1)+t*(2,1,2) liegt und eine entsprechende Ausgabe am Bildschirm tätigt!"
   ]
  },
  {
   "cell_type": "code",
   "execution_count": 6,
   "id": "0cd8ea1f-3799-4678-a482-31581eb6f110",
   "metadata": {},
   "outputs": [],
   "source": [
    "class Point(Vector):\n",
    "    __name__ = 'Point'\n",
    "    def __init__(self, x = 0, y = 0, z = 0):\n",
    "        super().__init__(x, y, z)   \n",
    "    \n",
    "class Line():\n",
    "    def __init__(self, locvec, dirvec):\n",
    "        self.location = locvec\n",
    "        self.direction = dirvec\n",
    "    \n",
    "    def __repr__(self):\n",
    "        return f'g: x = {self.location.__str__()} + t * {self.direction.__str__()}'\n",
    "    \n",
    "    def __str__(self):\n",
    "        return f'g: x = {self.location.__str__()} + t * {self.direction.__str__()}'\n",
    "    \n",
    "    def getpoint(self, t):\n",
    "        return self.location + self.direction.scalar(t)\n",
    "    \n",
    "    def distance(self, point):\n",
    "        # in brief we compute a the length of a vector between point and a point b\n",
    "        # on the line defined as the intersection of the line and the orthogonal vector\n",
    "        # through our point of interest see https://www.studyhelp.de/online-lernen/mathe/abstand-punkt-gerade/\n",
    "        # for more information on how this came together\n",
    "        a = self.location - point\n",
    "        b = self.getpoint(\n",
    "            -(a * self.direction) / (self.direction * self.direction)\n",
    "        )\n",
    "        return (b - point).abs()\n",
    "    \n",
    "    def online(self, point):\n",
    "        # could also be done by explicitly solving the equation system\n",
    "        # (see below) but is less code with exploiting distance to line\n",
    "        # a = point - self.location\n",
    "        # b = self.direction\n",
    "        # ts = [getattr(a, attr) / getattr(b, attr) for attr in 'xyz']\n",
    "        # return all([t1 == t2 for t1, t2 in it.combinations(ts, 2)])\n",
    "        return self.distance(point) == 0"
   ]
  },
  {
   "cell_type": "code",
   "execution_count": 7,
   "id": "5b1a8b43-4501-4354-b364-517d2b348d8f",
   "metadata": {},
   "outputs": [
    {
     "name": "stdout",
     "output_type": "stream",
     "text": [
      "Point(1, 2, 3) liegt auf g: x = Point(2, 3, 1) + t * Vector(2, 1, 2) : False\n",
      "Point(6, 5, 5) liegt auf g: x = Point(2, 3, 1) + t * Vector(2, 1, 2) : True\n"
     ]
    }
   ],
   "source": [
    "p1 = Point(1, 2, 3)\n",
    "p2 = Point(6, 5, 5)\n",
    "g = Line(\n",
    "    Point(2, 3, 1),\n",
    "    Vector(2, 1, 2)\n",
    ")\n",
    "print(p1, 'liegt auf', g, ':', g.online(p1))\n",
    "print(p2, 'liegt auf', g, ':', g.online(p2))"
   ]
  },
  {
   "cell_type": "markdown",
   "id": "20e50a27-deea-44ba-99fc-7dcc88c46936",
   "metadata": {},
   "source": [
    "# Overloading\n",
    "Schreiben Sie eine beliebige Klasse Ihrer Wahl mit Konstruktor und mindestens 5 Methoden, wovon eine Methode die Objekte sinnvoll am Bildschirm ausgeben (d.h. str überladen) und noch ein weiterer Operator überladen werden soll. Weiters sollen die Attribute auf Default-Werte gesetzt werden, außer der Nutzer übergibt andere. Kreieren Sie schlußendlich mehrere Objekte Ihrer Klasse mit unterschiedlichen Attributen und testen Sie Ihre Methoden. "
   ]
  },
  {
   "cell_type": "code",
   "execution_count": 8,
   "id": "20bc3511-8380-4b91-b623-d062250c7c23",
   "metadata": {},
   "outputs": [],
   "source": [
    "class Rectangle():\n",
    "    def __init__(self, length = 1, width = 1):\n",
    "        self.length = length\n",
    "        self.width = width\n",
    "        \n",
    "    def generate_repr_string(self):\n",
    "        width_str_len = len(str(self.width))\n",
    "        length_str_len = len(str(self.length))\n",
    "        repr_str = \\\n",
    "            ' ' * (width_str_len + 1) + f'    {self.length}    ' + '\\n' + \\\n",
    "            ' ' * (width_str_len + 1) + '-' * (8 + length_str_len) + '\\n' + \\\n",
    "            ' ' * width_str_len + '|' + ' ' * (8 + length_str_len) + '|\\n' + \\\n",
    "            f'{self.width}|' + ' ' * (8 + length_str_len) + '|\\n' + \\\n",
    "            ' ' * width_str_len + '|' + ' ' * (8 + length_str_len) + '|\\n' + \\\n",
    "            ' ' * (width_str_len + 1) + '-' * (8 + length_str_len)\n",
    "    \n",
    "        return repr_str\n",
    "    \n",
    "    def __repr__(self):\n",
    "        return self.generate_repr_string()\n",
    "    \n",
    "    def __str__(self):\n",
    "        return self.generate_repr_string()\n",
    "    \n",
    "    def __eq__(self, other):\n",
    "        return all([getattr(self, attr) == getattr(other, attr) for attr in ['length', 'width']])\n",
    "    \n",
    "    def copy(self):\n",
    "        return Rectangle(self.length, self.width)\n",
    "    \n",
    "    def stack_along_length(self, other):\n",
    "        if not self.length == other.length:\n",
    "            print('Length of rectangles must be equal for length stacking')\n",
    "            return None\n",
    "        \n",
    "        else:\n",
    "            return Rectangle(length = self.length, width = self.width + other.width)\n",
    "    \n",
    "    def stack_along_width(self, other):\n",
    "        if not self.width == other.width:\n",
    "            print('Length of rectangles must be equal for length stacking')\n",
    "            return None\n",
    "        \n",
    "        else:\n",
    "            return Rectangle(length = self.length + other.length, width = self.width)\n",
    "        \n",
    "    \n",
    "    def transpose(self):\n",
    "        return Rectangle(self.width, self.length)"
   ]
  },
  {
   "cell_type": "code",
   "execution_count": 9,
   "id": "7f626335-5183-4455-bc03-f2cc4539eaf9",
   "metadata": {},
   "outputs": [
    {
     "name": "stdout",
     "output_type": "stream",
     "text": [
      "      3    \n",
      "  ---------\n",
      " |         |\n",
      "1|         |\n",
      " |         |\n",
      "  ---------\n"
     ]
    },
    {
     "data": {
      "text/plain": [
       "False"
      ]
     },
     "execution_count": 9,
     "metadata": {},
     "output_type": "execute_result"
    }
   ],
   "source": [
    "rect1 = Rectangle(3)\n",
    "rect2 = Rectangle(3, 3)\n",
    "rect3 = Rectangle(2, 3)\n",
    "print(rect1)\n",
    "rect1 == rect2"
   ]
  },
  {
   "cell_type": "code",
   "execution_count": 10,
   "id": "f09d32c7-dca7-4b89-a417-5119db837385",
   "metadata": {},
   "outputs": [
    {
     "data": {
      "text/plain": [
       "      3    \n",
       "  ---------\n",
       " |         |\n",
       "4|         |\n",
       " |         |\n",
       "  ---------"
      ]
     },
     "execution_count": 10,
     "metadata": {},
     "output_type": "execute_result"
    }
   ],
   "source": [
    "rect1.stack_along_length(rect2)"
   ]
  },
  {
   "cell_type": "code",
   "execution_count": 11,
   "id": "91fac637-195f-4e5b-a0ef-cbaf03a8ec03",
   "metadata": {},
   "outputs": [
    {
     "name": "stdout",
     "output_type": "stream",
     "text": [
      "Length of rectangles must be equal for length stacking\n"
     ]
    }
   ],
   "source": [
    "rect1.stack_along_length(rect3)"
   ]
  },
  {
   "cell_type": "code",
   "execution_count": 12,
   "id": "f423ffc8-3a5f-4604-a8a3-66ad7cd7e043",
   "metadata": {},
   "outputs": [
    {
     "data": {
      "text/plain": [
       "      3    \n",
       "  ---------\n",
       " |         |\n",
       "3|         |\n",
       " |         |\n",
       "  ---------"
      ]
     },
     "execution_count": 12,
     "metadata": {},
     "output_type": "execute_result"
    }
   ],
   "source": [
    "rect1.stack_along_length(rect3.transpose())"
   ]
  },
  {
   "cell_type": "code",
   "execution_count": 13,
   "id": "ddde07a9-6270-47b3-8a0b-a764d648538b",
   "metadata": {},
   "outputs": [
    {
     "data": {
      "text/plain": [
       "      5    \n",
       "  ---------\n",
       " |         |\n",
       "3|         |\n",
       " |         |\n",
       "  ---------"
      ]
     },
     "execution_count": 13,
     "metadata": {},
     "output_type": "execute_result"
    }
   ],
   "source": [
    "rect3.stack_along_width(rect2)"
   ]
  },
  {
   "cell_type": "code",
   "execution_count": 14,
   "id": "a6729d51-5c30-4bef-8ddb-2d620314b14f",
   "metadata": {},
   "outputs": [
    {
     "data": {
      "text/plain": [
       "True"
      ]
     },
     "execution_count": 14,
     "metadata": {},
     "output_type": "execute_result"
    }
   ],
   "source": [
    "rect4 = rect1.copy()\n",
    "rect1 == rect4"
   ]
  }
 ],
 "metadata": {
  "kernelspec": {
   "display_name": "mathcode",
   "language": "python",
   "name": "mathcode"
  },
  "language_info": {
   "codemirror_mode": {
    "name": "ipython",
    "version": 3
   },
   "file_extension": ".py",
   "mimetype": "text/x-python",
   "name": "python",
   "nbconvert_exporter": "python",
   "pygments_lexer": "ipython3",
   "version": "3.9.7"
  }
 },
 "nbformat": 4,
 "nbformat_minor": 5
}
