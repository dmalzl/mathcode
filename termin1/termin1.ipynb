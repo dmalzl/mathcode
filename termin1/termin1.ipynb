{
 "cells": [
  {
   "cell_type": "markdown",
   "id": "04f85bc7-2f9a-42c7-b02b-b53a5e272ce1",
   "metadata": {},
   "source": [
    "# Quicktipps"
   ]
  },
  {
   "cell_type": "code",
   "execution_count": 1,
   "id": "3c888e61-c746-4de2-9a0d-90912e9dea8f",
   "metadata": {},
   "outputs": [],
   "source": [
    "import random\n",
    "def quicktipp():\n",
    "    numbers = list(\n",
    "        range(1, 46)\n",
    "    )\n",
    "    tipp = []\n",
    "    while len(tipp) < 6:\n",
    "        tipp.append(\n",
    "            random.choice(numbers)\n",
    "        )\n",
    "        numbers.remove(\n",
    "            tipp[-1]\n",
    "        )\n",
    "    \n",
    "    additional = random.choice(numbers)\n",
    "    return sorted(tipp), additional\n",
    "\n",
    "def generate_quicktipps(n):\n",
    "    tipps = dict()\n",
    "    while len(tipps) < n:\n",
    "        tipp, additional = quicktipp()\n",
    "        key = tuple(tipp)\n",
    "        if not tipps.get(key):\n",
    "            tipps[key] = (tipp, additional)\n",
    "            \n",
    "    for i, (tipp, additional) in enumerate(tipps.values()):\n",
    "        tipp_string = ' '.join(\n",
    "            [' ' + str(i) if i < 10 else str(i) for i in tipp]\n",
    "        )\n",
    "        additional_string = ' ' + str(additional) if additional < 10 else str(additional)\n",
    "        print(\n",
    "            f'Tipp {i + 1}: {tipp_string} + zz: {additional}'\n",
    "        )   "
   ]
  },
  {
   "cell_type": "code",
   "execution_count": 2,
   "id": "35c77979-b371-4e2c-8845-fd51b652018a",
   "metadata": {},
   "outputs": [
    {
     "name": "stdout",
     "output_type": "stream",
     "text": [
      "Tipp 1:  1  6 12 18 21 31 + zz: 32\n",
      "Tipp 2: 10 13 15 31 38 42 + zz: 43\n",
      "Tipp 3:  6 16 23 35 38 44 + zz: 21\n",
      "Tipp 4:  2  4 21 24 26 39 + zz: 27\n",
      "Tipp 5:  8  9 17 21 26 27 + zz: 31\n",
      "Tipp 6: 14 19 28 34 43 45 + zz: 38\n"
     ]
    }
   ],
   "source": [
    "generate_quicktipps(6)"
   ]
  },
  {
   "cell_type": "markdown",
   "id": "3ba332b0-65a3-4a0d-b20d-8e17b780858d",
   "metadata": {},
   "source": [
    "# Eulersche e-Funktion"
   ]
  },
  {
   "cell_type": "code",
   "execution_count": 3,
   "id": "dfca7e80-5cc1-4bd2-a99b-4bc2de6abe9a",
   "metadata": {},
   "outputs": [
    {
     "name": "stdout",
     "output_type": "stream",
     "text": [
      "(2.7182818284590455, 1, 2.718281828459045)\n",
      "(7.389056098930649, 2, 7.38905609893065)\n",
      "(20.08553692318766, 3, 20.085536923187668)\n",
      "(54.598150033144265, 4, 54.598150033144236)\n",
      "(148.41315910257657, 5, 148.4131591025766)\n",
      "(403.4287934927351, 6, 403.4287934927351)\n",
      "(1096.6331584284578, 7, 1096.6331584284585)\n",
      "(2980.957987041728, 8, 2980.9579870417283)\n",
      "(8103.083927575384, 9, 8103.083927575384)\n",
      "(22026.46579480671, 10, 22026.465794806718)\n",
      "(59874.14171519782, 11, 59874.14171519782)\n",
      "(162754.79141900386, 12, 162754.79141900392)\n",
      "(442413.39200892043, 13, 442413.3920089205)\n",
      "(1202604.2841647773, 14, 1202604.2841647768)\n",
      "(3269017.3724721107, 15, 3269017.3724721107)\n",
      "(8886110.520507872, 16, 8886110.520507872)\n",
      "(24154952.753575306, 17, 24154952.7535753)\n",
      "(65659969.13733051, 18, 65659969.13733051)\n",
      "(178482300.96318725, 19, 178482300.96318725)\n",
      "(485165195.40979016, 20, 485165195.4097903)\n",
      "(1318815734.4832141, 21, 1318815734.4832146)\n",
      "(3584912846.1315928, 22, 3584912846.131592)\n",
      "(9744803446.248905, 23, 9744803446.248903)\n",
      "(26489122129.84347, 24, 26489122129.84347)\n",
      "(72004899337.38588, 25, 72004899337.38588)\n",
      "(195729609428.83875, 26, 195729609428.83878)\n",
      "(532048240601.7988, 27, 532048240601.79865)\n",
      "(1446257064291.4739, 28, 1446257064291.475)\n",
      "(3931334297144.0425, 29, 3931334297144.042)\n",
      "(10686474581524.467, 30, 10686474581524.463)\n"
     ]
    }
   ],
   "source": [
    "import math\n",
    "import cmath\n",
    "def taylor_exp(x, n):\n",
    "    if n == 1:\n",
    "        return 1 + x\n",
    "    \n",
    "    else:\n",
    "        return x**n / math.factorial(n) + taylor_exp(x, n - 1)\n",
    "\n",
    "def identity_exp(x):\n",
    "    return x\n",
    "\n",
    "results = []\n",
    "for i in range(30):\n",
    "    results.append(\n",
    "        (\n",
    "            taylor_exp(i + 1, 100),\n",
    "            identity_exp(i + 1),\n",
    "            math.exp(i + 1)\n",
    "        )\n",
    "    )\n",
    "    print(results[-1])"
   ]
  },
  {
   "cell_type": "markdown",
   "id": "021500c7-3202-435f-9f70-7ffd8800b6f4",
   "metadata": {},
   "source": [
    "# Random Text"
   ]
  },
  {
   "cell_type": "code",
   "execution_count": 4,
   "id": "c60c51b4-7fb6-4438-ac4f-405033fddfd4",
   "metadata": {},
   "outputs": [],
   "source": [
    "import random, string\n",
    "from collections import defaultdict\n",
    "def random_text(nwords):\n",
    "    rnd_text = []\n",
    "    for i in range(nwords):\n",
    "        rnd_word = ''.join(\n",
    "            random.sample(\n",
    "                string.ascii_lowercase,\n",
    "                random.randint(2, 9)\n",
    "            )\n",
    "        )\n",
    "        rnd_text.append(rnd_word)\n",
    "    \n",
    "    return ' '.join(rnd_text)\n",
    "\n",
    "def count_chars(text):\n",
    "    counter = defaultdict(int)\n",
    "    for word in text.split():\n",
    "        for char in word:\n",
    "            counter[char] += 1\n",
    "    \n",
    "    return counter"
   ]
  },
  {
   "cell_type": "code",
   "execution_count": 5,
   "id": "876ff27e-b205-44b1-927e-65dd8cb8ee53",
   "metadata": {},
   "outputs": [
    {
     "data": {
      "text/plain": [
       "defaultdict(int,\n",
       "            {'o': 2,\n",
       "             'q': 2,\n",
       "             'd': 2,\n",
       "             'a': 3,\n",
       "             'e': 3,\n",
       "             'v': 1,\n",
       "             's': 2,\n",
       "             'i': 1,\n",
       "             'n': 2,\n",
       "             'g': 2,\n",
       "             'm': 2,\n",
       "             'b': 1,\n",
       "             'y': 1,\n",
       "             'u': 1,\n",
       "             'k': 1,\n",
       "             'f': 1,\n",
       "             'l': 1,\n",
       "             'h': 1})"
      ]
     },
     "execution_count": 5,
     "metadata": {},
     "output_type": "execute_result"
    }
   ],
   "source": [
    "count_chars(\n",
    "    random_text(5)\n",
    ")"
   ]
  },
  {
   "cell_type": "code",
   "execution_count": 6,
   "id": "376e7c64-b130-4d5b-a3b3-9222edad78ea",
   "metadata": {},
   "outputs": [
    {
     "name": "stdout",
     "output_type": "stream",
     "text": [
      "Percent of character \"e\" in random words: 1.11%\n",
      "Percent of character \"e\" in real words: 3.48%\n"
     ]
    }
   ],
   "source": [
    "rnd_texts = [random_text(5) for i in range(5)]\n",
    "real_texts = [\n",
    "    'ich bin heute etwas faul',\n",
    "    'ich lasse texte lieber generieren',\n",
    "    'der computer ueberlegt fuer mich',\n",
    "    'macht eventuell manchmal keinen sinn',\n",
    "    'dafuer spar ich mir energie'\n",
    "]\n",
    "\n",
    "def compute_char_percentage(char, text):\n",
    "    counts = count_chars(\n",
    "        text\n",
    "    )\n",
    "    return counts[char] / sum(counts.values()) * 100\n",
    "\n",
    "percent_e_rnd, percent_e_real = 0, 0\n",
    "for rnd_text, real_text in zip(rnd_texts, real_texts):\n",
    "    percent_e_rnd = compute_char_percentage('e', rnd_text)\n",
    "    percent_e_real = compute_char_percentage('e', real_text)\n",
    "\n",
    "print('Percent of character \"e\" in random words: {:.2f}%'.format(percent_e_rnd / 5))\n",
    "print('Percent of character \"e\" in real words: {:.2f}%'.format(percent_e_real / 5))"
   ]
  },
  {
   "cell_type": "code",
   "execution_count": 7,
   "id": "d0938305-1d91-452c-bcf3-16dc3161b32b",
   "metadata": {},
   "outputs": [
    {
     "name": "stdout",
     "output_type": "stream",
     "text": [
      "The following characters occur in both texts\n",
      "s1:   h: 2, s: 1, t: 2, a: 2, e: 3, n: 1, b: 1, i: 2, c: 1, l: 1\n",
      "s2:   h: 1, s: 2, t: 2, a: 1, e: 9, n: 2, b: 1, i: 3, c: 1, l: 2\n",
      "both: h: 3, s: 3, t: 4, a: 3, e: 12, n: 3, b: 2, i: 5, c: 2, l: 3\n",
      "\n",
      "The following characters only occur in one of the two texts\n",
      "{'f', 'g', 'x', 'w', 'r', 'u'}\n"
     ]
    }
   ],
   "source": [
    "s1 = set(real_texts[0].replace(' ', ''))\n",
    "s2 = set(real_texts[1].replace(' ', ''))\n",
    "s1_counts = count_chars(real_texts[0])\n",
    "s2_counts = count_chars(real_texts[1])\n",
    "print('The following characters occur in both texts')\n",
    "count_common_s1, count_common_s2, count_common_both = [], [], []\n",
    "for char in s1.intersection(s2):\n",
    "    char_count_s1 = s1_counts[char]\n",
    "    char_count_s2 = s2_counts[char]\n",
    "    count_common_s1.append(\n",
    "        f'{char}: {char_count_s1}'\n",
    "    )\n",
    "    count_common_s2.append(\n",
    "        f'{char}: {char_count_s2}'\n",
    "    )\n",
    "    count_common_both.append(\n",
    "        f'{char}: {char_count_s1 + char_count_s2}'\n",
    "    )\n",
    "    \n",
    "print('s1:   ' + ', '.join(count_common_s1))\n",
    "print('s2:   ' + ', '.join(count_common_s2))\n",
    "print('both: ' + ', '.join(count_common_both)) \n",
    "\n",
    "print('\\nThe following characters only occur in one of the two texts')\n",
    "print(s1.symmetric_difference(s2))"
   ]
  }
 ],
 "metadata": {
  "kernelspec": {
   "display_name": "mathcode",
   "language": "python",
   "name": "mathcode"
  },
  "language_info": {
   "codemirror_mode": {
    "name": "ipython",
    "version": 3
   },
   "file_extension": ".py",
   "mimetype": "text/x-python",
   "name": "python",
   "nbconvert_exporter": "python",
   "pygments_lexer": "ipython3",
   "version": "3.9.7"
  }
 },
 "nbformat": 4,
 "nbformat_minor": 5
}
