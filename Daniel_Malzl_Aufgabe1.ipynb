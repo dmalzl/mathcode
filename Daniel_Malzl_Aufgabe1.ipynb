{
 "cells": [
  {
   "cell_type": "markdown",
   "id": "cb0d696a-b320-4d6f-8a63-c724c2796d76",
   "metadata": {},
   "source": [
    "# Rechteckklasse\n",
    "Schreiben Sie eine Klasse fur die geometrische Figur Rechteck. Das Rechteck soll mit gultigen Seitenlängen a und b initialisiert werden. Wenn nichts ubergeben wird, sollen die Seiten auf a = 1 und b = 2 gesetzt werden. Wenn ein ungultiger Wert ubergeben wird, soll die Seite ebenfalls auf diese Länge gesetzt und eine Fehlermeldung ausgegeben werden. Analog für zwei ungültige Werte. Weiters soll der Umfang und die Fläche des Rechtecks mit je einer Methode berechnet werden. Schreiben Sie ein weitere Methode, die die Diagonale des Rechtecks berechnet und eine die überprüft, ob es sich um ein Quadrat handelt. Uberladen Sie die Methoden `print` und `<` auf sinnvolle Weise. Zum Testen der Klasse erzeugen Sie ein Default-Rechteck und zwei andere Rechtecke mit Seitenlängen Ihrer Wahl. Geben Sie die Rechtecke in eine Liste, sortieren Sie diese und geben Sie dann jedes Rechteck, seine Diagonale und ob es sich um Quadrat handelt sinnvoll strukturiert am Bildschirm aus."
   ]
  },
  {
   "cell_type": "code",
   "execution_count": 10,
   "id": "9bdc6262-18b7-4bab-ae87-afbac9b0b5b3",
   "metadata": {},
   "outputs": [],
   "source": [
    "from math import sqrt\n",
    "\n",
    "def _check_sidelength(sidelength, default, varname):\n",
    "    if sidelength <= 0:\n",
    "        print(\n",
    "            ' '.join(\n",
    "                [\n",
    "                    f'Invalid length for {varname}, please check your input.',\n",
    "                    'Sides need to be of length greater 0!',\n",
    "                    'Setting length to default.'\n",
    "                ]\n",
    "            )\n",
    "        )\n",
    "        sidelength = default\n",
    "    \n",
    "    return sidelength\n",
    "\n",
    "class Rechteck():\n",
    "    def __init__(self, a = 1, b = 2):\n",
    "        self.a = _check_sidelength(a, 1, 'a')\n",
    "        self.b = _check_sidelength(b, 2, 'b')\n",
    "    \n",
    "    def umfang(self):\n",
    "        return 2 * (self.a + self.b)\n",
    "    \n",
    "    def area(self):\n",
    "        return self.a * self.b\n",
    "    \n",
    "    def diagonal(self):\n",
    "        return sqrt(self.a**2 + self.b**2)\n",
    "        \n",
    "    def __lt__(self, other):\n",
    "        return self.area() < other.area()\n",
    "    \n",
    "    def issquare(self):\n",
    "        return self.a == self.b\n",
    "    \n",
    "    def _get_repr_string(self):\n",
    "        return f'Rechteck(a = {self.a}, b = {self.b})'\n",
    "        \n",
    "    # overloading for printing\n",
    "    def __str__(self):\n",
    "        return self._get_repr_string()\n",
    "    \n",
    "    # overloading for display\n",
    "    def __repr__(self):\n",
    "        return self._get_repr_string()"
   ]
  },
  {
   "cell_type": "code",
   "execution_count": 12,
   "id": "eef99b50-7773-4e15-8b14-dd203fba69c2",
   "metadata": {},
   "outputs": [
    {
     "name": "stdout",
     "output_type": "stream",
     "text": [
      "Invalid length for a, please check your input. Sides need to be of length greater 0! Setting length to default.\n",
      "Invalid length for b, please check your input. Sides need to be of length greater 0! Setting length to default.\n",
      "Rechteck(a = 1, b = 2) Diagonale: 2.23606797749979 Quadrat: False\n",
      "Rechteck(a = 1, b = 2) Diagonale: 2.23606797749979 Quadrat: False\n",
      "Rechteck(a = 4, b = 4) Diagonale: 5.656854249492381 Quadrat: True\n"
     ]
    }
   ],
   "source": [
    "rect_list = [\n",
    "    Rechteck(),\n",
    "    Rechteck(4, 4),\n",
    "    Rechteck(-1, 0)\n",
    "]\n",
    "rect_list.sort()\n",
    "for rect in rect_list:\n",
    "    print(rect, f'Diagonale: {rect.diagonal()}', f'Quadrat: {rect.issquare()}')"
   ]
  }
 ],
 "metadata": {
  "kernelspec": {
   "display_name": "mathcode",
   "language": "python",
   "name": "mathcode"
  },
  "language_info": {
   "codemirror_mode": {
    "name": "ipython",
    "version": 3
   },
   "file_extension": ".py",
   "mimetype": "text/x-python",
   "name": "python",
   "nbconvert_exporter": "python",
   "pygments_lexer": "ipython3",
   "version": "3.9.7"
  }
 },
 "nbformat": 4,
 "nbformat_minor": 5
}
