{
 "cells": [
  {
   "cell_type": "markdown",
   "id": "f495f785-3baa-49be-b394-f66ad3d8f1dc",
   "metadata": {},
   "source": [
    "Für $q \\neq 1$ kann die n-te Partialsumme der geometrischen Reihe wie folgt berechnet werden:\n",
    "    \n",
    "$$\n",
    "\\sum_{k=0}^{n}{q^{k}} = \\frac{1-q^{n+1}}{1-q}\n",
    "$$\n",
    "\n",
    "Zeigen Sie dies empirisch, indem Sie mithilfe von `sympy` die linke und rechte Seite in einer for-Schleife für $n = 1, \\ldots, 5$ berechnen und deren faktorisierte Formen mit einem logischen Operator vergleichen. Geben Sie dies für jedes $n$ aus. Anschließend berechnen Sie die 5-te Partialsumme an der Stelle $q = 3$ (indem Sie mittels einer `sympy` Routine für $q$ den konkreten Wert übergeben) und geben diese aus."
   ]
  },
  {
   "cell_type": "code",
   "execution_count": 23,
   "id": "c1e7b921-0aa6-4e6a-abeb-17c12ccd5c4d",
   "metadata": {},
   "outputs": [
    {
     "name": "stdout",
     "output_type": "stream",
     "text": [
      "n = 1, Same factorized form: True\n",
      "n = 2, Same factorized form: True\n",
      "n = 3, Same factorized form: True\n",
      "n = 4, Same factorized form: True\n",
      "n = 5, Same factorized form: True\n"
     ]
    }
   ],
   "source": [
    "from sympy.abc import k, n, q\n",
    "from sympy import Sum\n",
    "\n",
    "for ni in range(1, 6):\n",
    "    geom_series = Sum(q**k, (k, 0, ni))\n",
    "    geom_formula = (1 - q**(ni + 1))/(1 - q)\n",
    "    print(f'n = {ni}, Same factorized form: {geom_series.doit().factor() == geom_formula.factor()}')"
   ]
  },
  {
   "cell_type": "code",
   "execution_count": 24,
   "id": "0c1ae738-9549-46a1-93af-352161485f29",
   "metadata": {},
   "outputs": [
    {
     "name": "stdout",
     "output_type": "stream",
     "text": [
      "Series: 364.000000000000, n = 5, q = 3\n",
      "Formula: 364.000000000000, n = 5, q = 3\n"
     ]
    }
   ],
   "source": [
    "geom_series = Sum(q**k, (k, 0, n))\n",
    "geom_formula = (1 - q**(n + 1))/(1 - q)\n",
    "\n",
    "subs_dict = {k: v for k, v in zip('nq', [5, 3])}\n",
    "for function, label in zip(\n",
    "    [geom_series, geom_formula],\n",
    "    ['Series', 'Formula']\n",
    "):\n",
    "    print(f'{label}: {function.evalf(subs = subs_dict)}, n = 5, q = 3')"
   ]
  }
 ],
 "metadata": {
  "kernelspec": {
   "display_name": "mathcode",
   "language": "python",
   "name": "mathcode"
  },
  "language_info": {
   "codemirror_mode": {
    "name": "ipython",
    "version": 3
   },
   "file_extension": ".py",
   "mimetype": "text/x-python",
   "name": "python",
   "nbconvert_exporter": "python",
   "pygments_lexer": "ipython3",
   "version": "3.9.7"
  }
 },
 "nbformat": 4,
 "nbformat_minor": 5
}
