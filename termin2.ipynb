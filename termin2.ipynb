{
 "cells": [
  {
   "cell_type": "markdown",
   "id": "32039bb6-4a9a-485e-a44f-c39a73b954a2",
   "metadata": {},
   "source": [
    "# Taylor series comparison\n",
    "a) Finden Sie heraus ab welcher Ordnung der Approximationsfehler der Taylorreihe von `exp(x)` um `x0 = 0` an der Stelle `x = 3` kleiner als 10^−4 ist. Taylorreihenentwicklungen bekommen Sie in sympy via `f.series(x,x0,Ordnung)`; verwenden Sie `.removeO()` um das Landau Symbol aus den Entwicklungen zu entfernen und diese als Funktion auswerten zu können. Speichern Sie die Approximationsfehler verschiedener Ordnungen in eine Liste `ep` und wählen Sie eine geeignete Kontrollstruktur um die gesuchte Ordnung zu bestimmen. Geben Sie außerdem die Liste `ep` aus.\n",
    "b) Plotten Sie in einer Figur mit Wertebereich [−1,10]) die Ausgangsfunktion 𝑓 sowie die Taylorreihenentwicklungen der Ordnungen 5,10 und 15 mit verschiedenen Farben (zB line_color = 'r'). Die Ausgabe einzelner Plots kann mit `show = False` unterdrückt werden und mit `p1.extend(p2)` etc können Plots zusammengefügt werden. p1.show() gibt dann den Gesamtplot aus."
   ]
  },
  {
   "cell_type": "code",
   "execution_count": 1,
   "id": "7410390e-d020-4b5d-b1f1-1c617683d966",
   "metadata": {},
   "outputs": [
    {
     "name": "stdout",
     "output_type": "stream",
     "text": [
      "The order of a taylor expansion of exp(x) with a deviation from the true value smaller or equal to 10^-4 is: 14\n",
      "0: 20.0855369231877\n",
      "1: 19.0855369231877\n",
      "2: 16.0855369231877\n",
      "3: 11.5855369231877\n",
      "4: 7.08553692318767\n",
      "5: 3.71053692318767\n",
      "6: 1.68553692318767\n",
      "7: 0.673036923187667\n",
      "8: 0.239108351759096\n",
      "9: 0.0763851374733804\n",
      "10: 0.0221440660448096\n",
      "11: 0.00587174461623974\n",
      "12: 0.00143383877208336\n",
      "13: 0.000324362311044268\n",
      "14: 0.0000683292815750747\n",
      "15: 0.0000134650609737719\n",
      "16: 0.00000249221685422185\n",
      "17: 4.34808580251911E-7\n",
      "18: 7.17365331581732E-8\n",
      "19: 1.12245253092169E-8\n",
      "20: 1.66999569728432E-9\n",
      "21: 2.36816788401484E-10\n",
      "22: 3.20774518058897E-11\n",
      "23: 4.16022771787539E-12\n",
      "24: 5.18696197104873E-13\n"
     ]
    }
   ],
   "source": [
    "from sympy import Symbol\n",
    "from sympy.functions import exp\n",
    "\n",
    "def taylor_expansion(function, x, x0, order):\n",
    "    return function.series(x, x0, order).removeO()\n",
    "\n",
    "def taylor_approximation(point, x0, max_order = 25, epsilon = 1e-4):\n",
    "    ep = []\n",
    "    x = Symbol('x')\n",
    "    e_x = exp(x).evalf(subs = {'x': point})\n",
    "    limit_order = 0\n",
    "    for order in range(max_order):\n",
    "        expansion = taylor_expansion(exp(x), x, x0, order)\n",
    "        ep.append(\n",
    "            abs(expansion.evalf(subs = {'x': point}) - e_x)\n",
    "        )\n",
    "\n",
    "        if not limit_order and ep[-1] <= epsilon:\n",
    "            limit_order = order\n",
    "    \n",
    "    return ep, limit_order\n",
    "\n",
    "ep, order = taylor_approximation(3, 0)\n",
    "print(f'The order of a taylor expansion of exp(x) with a deviation from the true value smaller or equal to 10^-4 is: {order}')\n",
    "for i, deviation in enumerate(ep):\n",
    "    print(f'{i}: {deviation}')"
   ]
  },
  {
   "cell_type": "code",
   "execution_count": 2,
   "id": "a2b8da1e-9036-4403-b8f9-d3e4c4c9440f",
   "metadata": {},
   "outputs": [
    {
     "data": {
      "image/png": "[encoded data removed]",
      "text/plain": [
       "<Figure size 432x288 with 1 Axes>"
      ]
     },
     "metadata": {
      "needs_background": "light"
     },
     "output_type": "display_data"
    }
   ],
   "source": [
    "from sympy.plotting import plot\n",
    "p = plot(\n",
    "    xlim = (-1, 10), \n",
    "#    ylim = (-100, 5000),\n",
    "    legend = True,\n",
    "    loc = 'best',\n",
    "    show = False\n",
    ")\n",
    "for order in [5, 10, 15]:\n",
    "    x = Symbol('x')\n",
    "    expansion = taylor_expansion(exp(x), x, 0, order)\n",
    "    p.extend(\n",
    "        plot(\n",
    "            expansion, \n",
    "            label = f'order = {order}', \n",
    "            show = False)\n",
    "    )\n",
    "p.show()"
   ]
  },
  {
   "cell_type": "markdown",
   "id": "d7c7df3f-0dec-4212-9901-761e92e55b1f",
   "metadata": {},
   "source": [
    "# System of equations\n",
    "Seien \n",
    "$$f(x, y) = x^3 + 3x^2y - x^2 + 3xy^2 - 2xy + y^3 - y^2$$\n",
    "\n",
    "$$g(x, y) = x^2 + y^2$$\n",
    "\n",
    "Geben Sie zuerst $f$ vereinfacht (faktorisiert) aus. Lösen Sie dann das Gleichungssystem $f(x, y) = 0, g(x, y) = 0$ und geben Sie die Lösungsmenge aus. Stellen Sie weiters die zweiten partiellen Ableitungen in der Hesse-Matrix von $f$ dar und geben Sie diese aus. Die Hesse-Matrix H ist gegeben durch\n",
    "\n",
    "$$\n",
    "  H = \n",
    "  \\begin{pmatrix}\n",
    "    f_{xx} & f_{xy}\\\\\n",
    "    f_{yx} & f_{yy}\\\\\n",
    "  \\end{pmatrix}\n",
    "$$\n",
    "\n",
    "wobei $f_{xx}$ einfach bedeutet, dass die Ableitung von $f$ nach $x$ nochmals nach $x$ abgeleitet wird (also die 2. Ableitung nach 𝑥 gebildet wird), $f_{xy}$ dass die 1.Ableitung von $f$ nach $x$ danach nach $y$ abgeleitet wird, etc. "
   ]
  },
  {
   "cell_type": "code",
   "execution_count": 3,
   "id": "19553746-ce88-4144-a6f7-48f88885a7da",
   "metadata": {},
   "outputs": [
    {
     "data": {
      "text/latex": [
       "$\\displaystyle \\left(x + y\\right)^{2} \\left(x + y - 1\\right)$"
      ],
      "text/plain": [
       "(x + y)**2*(x + y - 1)"
      ]
     },
     "execution_count": 3,
     "metadata": {},
     "output_type": "execute_result"
    }
   ],
   "source": [
    "from sympy.abc import x, y\n",
    "f = x*x*x + 3*x*x*y - x*x + 3*x*y*y - 2*x*y + y*y*y - y*y\n",
    "g = x*x + y*y\n",
    "f.factor()"
   ]
  },
  {
   "cell_type": "code",
   "execution_count": 4,
   "id": "fb3e8942-a5fe-44f7-8326-7b59bc4e3023",
   "metadata": {},
   "outputs": [
    {
     "data": {
      "text/plain": [
       "[(0, 0), (1/2 - I/2, 1/2 + I/2), (1/2 + I/2, 1/2 - I/2)]"
      ]
     },
     "execution_count": 4,
     "metadata": {},
     "output_type": "execute_result"
    }
   ],
   "source": [
    "from sympy import solve\n",
    "solve([f, g], [x, y])"
   ]
  },
  {
   "cell_type": "code",
   "execution_count": 5,
   "id": "17510f46-7230-4559-b791-84a696a71d9a",
   "metadata": {},
   "outputs": [
    {
     "data": {
      "text/latex": [
       "$\\displaystyle \\left[\\begin{matrix}6 x + 6 y - 2 & 6 x + 6 y - 2\\\\6 x + 6 y - 2 & 6 x + 6 y - 2\\end{matrix}\\right]$"
      ],
      "text/plain": [
       "Matrix([\n",
       "[6*x + 6*y - 2, 6*x + 6*y - 2],\n",
       "[6*x + 6*y - 2, 6*x + 6*y - 2]])"
      ]
     },
     "execution_count": 5,
     "metadata": {},
     "output_type": "execute_result"
    }
   ],
   "source": [
    "from sympy import Matrix\n",
    "H = Matrix(\n",
    "    [\n",
    "        [f.diff(x).diff(x), f.diff(x).diff(y)],\n",
    "        [f.diff(y).diff(x), f.diff(y).diff(y)]\n",
    "    ]\n",
    ")\n",
    "H"
   ]
  },
  {
   "cell_type": "markdown",
   "id": "e0036a8b-2e22-4dd5-960f-c756854ccfa1",
   "metadata": {},
   "source": [
    "# Toeplitz matrix\n",
    "a) Eine $n \\times n$ tridiagonale Toeplitz-Matrix hat die Form\n",
    "$$\n",
    "  m =\n",
    "  \\begin{pmatrix}\n",
    "    a & c & 0 & \\cdots & 0 \\\\\n",
    "    b & a & c & \\ddots & \\vdots \\\\\n",
    "    0 & b & \\ddots & \\ddots & 0 \\\\\n",
    "    \\vdots & \\ddots & \\ddots & \\ddots & c \\\\\n",
    "    0 & \\cdots & 0 & b & a \\\\\n",
    "  \\end{pmatrix}\n",
    "$$\n",
    "\n",
    "Schreiben Sie eine Funktion, die eine solche $n \\times n$ Matrix für eine beliebige Größe $n$ und Variablen $a, b, c$ zurückgibt. Geben Sie die Matrix für verschiedene $n$ aus und vergleichen Sie die Standardausgabe mit jener Ausgabe, die Sie erhalten, wenn Sie display() aus dem Modul IPython.display verwenden."
   ]
  },
  {
   "cell_type": "code",
   "execution_count": 6,
   "id": "763215b7-172a-498e-997a-3b75535bc504",
   "metadata": {},
   "outputs": [
    {
     "name": "stdout",
     "output_type": "stream",
     "text": [
      "4 x 4 Toeplitz matrix\n",
      "Matrix([[a, c, 0, 0], [b, a, c, 0], [0, b, a, c], [0, 0, b, a]])\n"
     ]
    },
    {
     "data": {
      "text/latex": [
       "$\\displaystyle \\left[\\begin{matrix}a & c & 0 & 0\\\\b & a & c & 0\\\\0 & b & a & c\\\\0 & 0 & b & a\\end{matrix}\\right]$"
      ],
      "text/plain": [
       "Matrix([\n",
       "[a, c, 0, 0],\n",
       "[b, a, c, 0],\n",
       "[0, b, a, c],\n",
       "[0, 0, b, a]])"
      ]
     },
     "metadata": {},
     "output_type": "display_data"
    },
    {
     "name": "stdout",
     "output_type": "stream",
     "text": [
      "\n",
      "6 x 6 Toeplitz matrix\n",
      "Matrix([[a, c, 0, 0, 0, 0], [b, a, c, 0, 0, 0], [0, b, a, c, 0, 0], [0, 0, b, a, c, 0], [0, 0, 0, b, a, c], [0, 0, 0, 0, b, a]])\n"
     ]
    },
    {
     "data": {
      "text/latex": [
       "$\\displaystyle \\left[\\begin{matrix}a & c & 0 & 0 & 0 & 0\\\\b & a & c & 0 & 0 & 0\\\\0 & b & a & c & 0 & 0\\\\0 & 0 & b & a & c & 0\\\\0 & 0 & 0 & b & a & c\\\\0 & 0 & 0 & 0 & b & a\\end{matrix}\\right]$"
      ],
      "text/plain": [
       "Matrix([\n",
       "[a, c, 0, 0, 0, 0],\n",
       "[b, a, c, 0, 0, 0],\n",
       "[0, b, a, c, 0, 0],\n",
       "[0, 0, b, a, c, 0],\n",
       "[0, 0, 0, b, a, c],\n",
       "[0, 0, 0, 0, b, a]])"
      ]
     },
     "metadata": {},
     "output_type": "display_data"
    },
    {
     "name": "stdout",
     "output_type": "stream",
     "text": [
      "\n",
      "8 x 8 Toeplitz matrix\n",
      "Matrix([[a, c, 0, 0, 0, 0, 0, 0], [b, a, c, 0, 0, 0, 0, 0], [0, b, a, c, 0, 0, 0, 0], [0, 0, b, a, c, 0, 0, 0], [0, 0, 0, b, a, c, 0, 0], [0, 0, 0, 0, b, a, c, 0], [0, 0, 0, 0, 0, b, a, c], [0, 0, 0, 0, 0, 0, b, a]])\n"
     ]
    },
    {
     "data": {
      "text/latex": [
       "$\\displaystyle \\left[\\begin{matrix}a & c & 0 & 0 & 0 & 0 & 0 & 0\\\\b & a & c & 0 & 0 & 0 & 0 & 0\\\\0 & b & a & c & 0 & 0 & 0 & 0\\\\0 & 0 & b & a & c & 0 & 0 & 0\\\\0 & 0 & 0 & b & a & c & 0 & 0\\\\0 & 0 & 0 & 0 & b & a & c & 0\\\\0 & 0 & 0 & 0 & 0 & b & a & c\\\\0 & 0 & 0 & 0 & 0 & 0 & b & a\\end{matrix}\\right]$"
      ],
      "text/plain": [
       "Matrix([\n",
       "[a, c, 0, 0, 0, 0, 0, 0],\n",
       "[b, a, c, 0, 0, 0, 0, 0],\n",
       "[0, b, a, c, 0, 0, 0, 0],\n",
       "[0, 0, b, a, c, 0, 0, 0],\n",
       "[0, 0, 0, b, a, c, 0, 0],\n",
       "[0, 0, 0, 0, b, a, c, 0],\n",
       "[0, 0, 0, 0, 0, b, a, c],\n",
       "[0, 0, 0, 0, 0, 0, b, a]])"
      ]
     },
     "metadata": {},
     "output_type": "display_data"
    },
    {
     "name": "stdout",
     "output_type": "stream",
     "text": [
      "\n"
     ]
    }
   ],
   "source": [
    "from sympy import Matrix\n",
    "from sympy.abc import a, b, c\n",
    "from IPython.display import display\n",
    "\n",
    "def toeplitz_matrix(n):\n",
    "    m = [\n",
    "        [a, c] + [0] * (n - 2)\n",
    "    ]\n",
    "    for i in range(n - 2):\n",
    "        m.append(\n",
    "            [0] * i + [b, a, c] + [0] * (n - i - 3)\n",
    "        )\n",
    "    \n",
    "    m.append(\n",
    "        [0] * (n - 2) + [b, a]\n",
    "    )\n",
    "    return Matrix(m)\n",
    "\n",
    "for n in range(4, 9, 2):\n",
    "    print(f'{n} x {n} Toeplitz matrix')\n",
    "    m = toeplitz_matrix(n)\n",
    "    print(m)\n",
    "    display(m)\n",
    "    print()"
   ]
  },
  {
   "cell_type": "markdown",
   "id": "21cc9201-42e9-4200-926d-9e1a7bc2635b",
   "metadata": {},
   "source": [
    "b) Geben Sie nun eine tridiagonale Toeplitz-Matrix der Größe $n = 5$ mit Zahlenwerten aus, indem Sie eine allgemeine Toeplitz-Matrix erstellen und konkrete Werte für die Symbole übergeben: $a, b, c$ sollen hier auf zwei Nachkommastellen gerundete Zufallszahlen aus [−1,1] sein. Erstellen Sie dann eine Funktion, die eine Liste mit den Eigenwerten ohne algebraische Vielfachheit zurückgibt. Geben Sie dann die Eigenwerte für unterschiedlichen Fälle von $b$ und $c$ aus, wobei letztendlich unterschieden werden soll, ob $b*c \\geq 0$ ist. Was fällt Ihnen auf?"
   ]
  },
  {
   "cell_type": "code",
   "execution_count": 7,
   "id": "d8ef6604-8955-4a0c-9ecb-d7f1bc9df1f1",
   "metadata": {},
   "outputs": [
    {
     "data": {
      "text/latex": [
       "$\\displaystyle \\left[\\begin{matrix}-0.22 & 0.44 & 0 & 0 & 0\\\\-0.59 & -0.22 & 0.44 & 0 & 0\\\\0 & -0.59 & -0.22 & 0.44 & 0\\\\0 & 0 & -0.59 & -0.22 & 0.44\\\\0 & 0 & 0 & -0.59 & -0.22\\end{matrix}\\right]$"
      ],
      "text/plain": [
       "Matrix([\n",
       "[-0.22,  0.44,     0,     0,     0],\n",
       "[-0.59, -0.22,  0.44,     0,     0],\n",
       "[    0, -0.59, -0.22,  0.44,     0],\n",
       "[    0,     0, -0.59, -0.22,  0.44],\n",
       "[    0,     0,     0, -0.59, -0.22]])"
      ]
     },
     "execution_count": 7,
     "metadata": {},
     "output_type": "execute_result"
    }
   ],
   "source": [
    "import random\n",
    "m = toeplitz_matrix(5)\n",
    "m.evalf(\n",
    "    subs = {\n",
    "        var: round(random.uniform(-1, 1), 2) for var in 'abc'\n",
    "    }\n",
    ")"
   ]
  },
  {
   "cell_type": "code",
   "execution_count": 8,
   "id": "483a0d52-851f-4d96-af44-643f718dbefe",
   "metadata": {},
   "outputs": [
    {
     "name": "stdout",
     "output_type": "stream",
     "text": [
      "geq0 [-0.249936706325260, 0.540000000000000, 1.32993670632526, 0.996070170039655, 0.0839298299603448]\n",
      "leq0 [0.54 + 0.78993670632526*I, 0.54 - 6.81490126339204e-65*I, 0.54 - 0.78993670632526*I, 0.54 - 0.456070170039655*I, 0.54 + 0.456070170039655*I]\n"
     ]
    }
   ],
   "source": [
    "def eigenvalues(m):\n",
    "    return [eigval for eigval, mult in m.eigenvals().items()]\n",
    "\n",
    "subs = {\n",
    "    key1: {key2: val for key2, val in zip('abc', vals)}\n",
    "    for key1, vals in zip(['geq0', 'leq0'], [[0.54, 0.26, 0.80], [0.54, -0.26, 0.80]])\n",
    "}\n",
    "\n",
    "for k, sub in subs.items():\n",
    "    print(\n",
    "        k,\n",
    "        eigenvalues(\n",
    "            m.evalf(subs = sub)\n",
    "        )\n",
    "    )"
   ]
  },
  {
   "cell_type": "markdown",
   "id": "a44a0ed7-33a2-4c1d-8abe-6741dbb8c904",
   "metadata": {},
   "source": [
    "c) Berechnen Sie die Determinante einer zufälligen $5 \\times 5$ Toeplitz-Matrix mit $a, b, c \\neq 0$. Was sagt dies über den Rang der Matrix aus? Überlegen und erklären Sie wann die Matrix nicht vollen Rang hat. Belegen Sie Ihre Überlegung durch die Berechnung der Determinante von einer allgemeinen tridiagonalen $5 \\times 5$ Toeplitz-Matrix aus (a). Wann ist die Determinante 0? Illustrieren Sie die verschiedenen Fälle mit geeignet gewählten Beispielen."
   ]
  },
  {
   "cell_type": "code",
   "execution_count": 9,
   "id": "9e245e47-6ffb-4b59-880a-38049c2951d4",
   "metadata": {},
   "outputs": [
    {
     "data": {
      "text/latex": [
       "$\\displaystyle \\left[\\begin{matrix}5.0 & 6.0 & 0 & 0 & 0\\\\7.0 & 5.0 & 6.0 & 0 & 0\\\\0 & 7.0 & 5.0 & 6.0 & 0\\\\0 & 0 & 7.0 & 5.0 & 6.0\\\\0 & 0 & 0 & 7.0 & 5.0\\end{matrix}\\right]$"
      ],
      "text/plain": [
       "Matrix([\n",
       "[5.0, 6.0,   0,   0,   0],\n",
       "[7.0, 5.0, 6.0,   0,   0],\n",
       "[  0, 7.0, 5.0, 6.0,   0],\n",
       "[  0,   0, 7.0, 5.0, 6.0],\n",
       "[  0,   0,   0, 7.0, 5.0]])"
      ]
     },
     "execution_count": 9,
     "metadata": {},
     "output_type": "execute_result"
    }
   ],
   "source": [
    "subs = {k: random.randint(1, 10) for k in 'abc'}\n",
    "m_sub = m.evalf(subs = subs)\n",
    "m_sub"
   ]
  },
  {
   "cell_type": "code",
   "execution_count": 10,
   "id": "3ed3604b-59b8-4948-8157-91a45f5fd667",
   "metadata": {},
   "outputs": [
    {
     "data": {
      "text/latex": [
       "$\\displaystyle 8585.0$"
      ],
      "text/plain": [
       "8585.00000000000"
      ]
     },
     "execution_count": 10,
     "metadata": {},
     "output_type": "execute_result"
    }
   ],
   "source": [
    "m_sub.det()"
   ]
  },
  {
   "cell_type": "markdown",
   "id": "d047af31-7ff2-496b-b227-5cfc17a4496f",
   "metadata": {},
   "source": [
    "Die Determinante einer quadratischen Matrix gibt Aufschluss darüber ob es sich bei der betrachteten Matrix um eine reguläre, also invertierbare oder eine singuläre, nicht invertierbare, Matrix handelt. Sei $A$ eine quadratische Matrix der Dimension $n \\times n$. Ist die Determinante $\\det(A) \\neq 0$, so ist $A$ invertierbar und $\\text{rang}(A) = n$. Ist $\\det(A) = 0$ ist $A$ nicht invertierbar und $\\text{rang}(A) < n$. Weiters lässt sich über den Rang einer quadratischen Matrix feststellen ob ihre Zeilen- bzw. Spaltenvektoren linear unabhängig voneinander sind. Ist dies der Fall so haben wir eine reguläre Matrix anderfalls ist die Matrix singulär. Daher ist die Determinante einer quadratischen Matrix genau dann 0 wenn nicht alle Zeilen- oder Spaltenvektoren linear unabhängig sind d.h. wenn keiner der Vektoren eine Linearkombination der anderen ist. Die Linearkombination zweier Vektoren $x = (x_1, \\ldots, x_n)^T$ und $y = (y_1, \\ldots, y_n)^T$ zu einem Vektor $z = (z_1, \\ldots, z_n)^T$ lässt sich schreiben als\n",
    "\n",
    "$$\n",
    "  z = \\lambda*x + \\mu*y = \n",
    "  \\begin{pmatrix} \n",
    "    \\lambda * x_1 + \\mu*y_1 \\\\\n",
    "    \\vdots \\\\\n",
    "    \\lambda * x_n + \\mu*y_n \\\\\n",
    "  \\end{pmatrix}\n",
    "$$\n",
    "\n",
    "Die Determinante einer $5 \\times 5$ Toeplitzmatrix \n",
    "\n",
    "$$\n",
    "  m =\n",
    "  \\begin{pmatrix}\n",
    "    a & c & 0 & 0 & 0 \\\\\n",
    "    b & a & c & 0 & 0 \\\\\n",
    "    0 & b & a & c & 0 \\\\\n",
    "    0 & 0 & b & a & c \\\\\n",
    "    0 & 0 & 0 & b & a \\\\\n",
    "  \\end{pmatrix}\n",
    "$$\n",
    "\n",
    "ist definiert als\n",
    "\n",
    "$$\n",
    "  \\det(m) = a^5 - 4a^3bc + 3ab^2c^2\n",
    "$$\n",
    "\n",
    "und daher \n",
    "\n",
    "$$\n",
    "  \\det(A) = 0 \\Longleftrightarrow a = 0 \\vee 4a^3bc = a^5 + 3ab^2c^2\n",
    "$$\n",
    "\n",
    "wobei \n",
    "\n",
    "$$\n",
    "  4a^3bc = a^5 + 3ab^2c^2 \\Longleftrightarrow a = b = c\n",
    "$$\n",
    "\n",
    "womit wir obige Aussage umschreiben können auf\n",
    "\n",
    "$$\n",
    "  \\det(A) = 0 \\Longleftrightarrow a = 0 \\vee a = b = c\n",
    "$$\n",
    "\n",
    "Nehmen wir unser Beispiel mit den Linearkombinationen von weiter oben her und setzen $a = b = c$ dann sehen wir sofort bei betrachten von $m$ dass sich z.B. der letzte Zeilenvektor als Linearkombination des erste, zweiten und vierten Zeilenvektors schreiben lässt mit\n",
    "\n",
    "$$\n",
    "  zv_5 = 1 * zv_1 + - 1 * zv_2 + zv_4 = \n",
    "  \\begin{pmatrix}\n",
    "    a - b + 0 \\\\\n",
    "    c - a + 0 \\\\\n",
    "    0 - c + b \\\\\n",
    "    0 - 0 + b \\\\\n",
    "    0 - 0 + a \\\\\n",
    "  \\end{pmatrix} =\n",
    "  \\begin{pmatrix}\n",
    "    0 \\\\\n",
    "    0 \\\\\n",
    "    0 \\\\\n",
    "    b \\\\\n",
    "    a \\\\\n",
    "  \\end{pmatrix}\n",
    "$$\n",
    "\n",
    "Ähnliches gilt für $a = 0$ wobei wir hier den dritten Zeilenvektor leicht durch den ersten und den letzten Zeilenvektor ausdrücken können mit\n",
    "\n",
    "$$\n",
    "  zv_3 = \\lambda * zv_1 + \\mu * zv_5 = \n",
    "    \\begin{pmatrix}\n",
    "    \\lambda * a + 0 \\\\\n",
    "    \\lambda * c + 0 \\\\\n",
    "    \\lambda * 0 + \\lambda * 0 \\\\\n",
    "    0 + \\mu * b \\\\\n",
    "    0 + \\mu * a \\\\\n",
    "  \\end{pmatrix} =\n",
    "  \\begin{pmatrix}\n",
    "    0 \\\\\n",
    "    \\lambda * c \\\\\n",
    "    0 \\\\\n",
    "    \\mu * b \\\\\n",
    "    0 \\\\\n",
    "  \\end{pmatrix}\n",
    "$$\n",
    "mit $\\lambda, \\mu \\in \\mathbb{R}$"
   ]
  },
  {
   "cell_type": "code",
   "execution_count": 19,
   "id": "5b4e2aea-2d40-4e0e-8e40-ea89dcadad17",
   "metadata": {},
   "outputs": [
    {
     "data": {
      "text/latex": [
       "$\\displaystyle \\left[\\begin{matrix}2.0 & 2.0 & 0 & 0 & 0\\\\2.0 & 2.0 & 2.0 & 0 & 0\\\\0 & 2.0 & 2.0 & 2.0 & 0\\\\0 & 0 & 2.0 & 2.0 & 2.0\\\\0 & 0 & 0 & 2.0 & 2.0\\end{matrix}\\right]$"
      ],
      "text/plain": [
       "Matrix([\n",
       "[2.0, 2.0,   0,   0,   0],\n",
       "[2.0, 2.0, 2.0,   0,   0],\n",
       "[  0, 2.0, 2.0, 2.0,   0],\n",
       "[  0,   0, 2.0, 2.0, 2.0],\n",
       "[  0,   0,   0, 2.0, 2.0]])"
      ]
     },
     "metadata": {},
     "output_type": "display_data"
    },
    {
     "name": "stdout",
     "output_type": "stream",
     "text": [
      "The determinat of the above matrix is:  0\n"
     ]
    },
    {
     "data": {
      "text/latex": [
       "$\\displaystyle \\left[\\begin{matrix}0 & 2.0 & 0 & 0 & 0\\\\2.0 & 0 & 2.0 & 0 & 0\\\\0 & 2.0 & 0 & 2.0 & 0\\\\0 & 0 & 2.0 & 0 & 2.0\\\\0 & 0 & 0 & 2.0 & 0\\end{matrix}\\right]$"
      ],
      "text/plain": [
       "Matrix([\n",
       "[  0, 2.0,   0,   0,   0],\n",
       "[2.0,   0, 2.0,   0,   0],\n",
       "[  0, 2.0,   0, 2.0,   0],\n",
       "[  0,   0, 2.0,   0, 2.0],\n",
       "[  0,   0,   0, 2.0,   0]])"
      ]
     },
     "metadata": {},
     "output_type": "display_data"
    },
    {
     "name": "stdout",
     "output_type": "stream",
     "text": [
      "The determinat of the above matrix is:  0\n"
     ]
    }
   ],
   "source": [
    "subs = [\n",
    "    {'a': 2, 'b': 2, 'c': 2},\n",
    "    {'a': 0, 'b': 2, 'c': 2}\n",
    "]\n",
    "for sub in subs:\n",
    "    m_sub = m.evalf(subs = sub)\n",
    "    display(m_sub)\n",
    "    print('The determinat of the above matrix is: ', m_sub.det())"
   ]
  },
  {
   "cell_type": "code",
   "execution_count": null,
   "id": "11bd6f2d-578d-49d9-bc59-995fe3777af7",
   "metadata": {},
   "outputs": [],
   "source": []
  }
 ],
 "metadata": {
  "kernelspec": {
   "display_name": "mathcode",
   "language": "python",
   "name": "mathcode"
  },
  "language_info": {
   "codemirror_mode": {
    "name": "ipython",
    "version": 3
   },
   "file_extension": ".py",
   "mimetype": "text/x-python",
   "name": "python",
   "nbconvert_exporter": "python",
   "pygments_lexer": "ipython3",
   "version": "3.9.7"
  }
 },
 "nbformat": 4,
 "nbformat_minor": 5
}
