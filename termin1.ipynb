{
 "cells": [
  {
   "cell_type": "markdown",
   "id": "04f85bc7-2f9a-42c7-b02b-b53a5e272ce1",
   "metadata": {},
   "source": [
    "# Quicktipps\n",
    "Schreiben Sie ein Programm, mit dem \"Lotto Quicktipps\" erstellt werden. Der/die User*in kann zu Beginn angeben, wie viele Quicktipps erzeugt werden sollen.\n",
    "a) Kern des Programms ist eine Funktion, die die einzelnen Tipps erstellt, indem jeweils 6 Zufallszahlen aus dem Intervall von 1 bis 45 gezogen werden. Dabei muss jeder Tipp aus 6 verschiedenen Zahlen bestehen. Wählen Sie dafür eine geeignete Datenstruktur und geben Sie die gesammelten Tipps als Liste zurück. Zusatzfrage: Wie müssen Sie den Code ändern damit auch alle Tipps nur einmal vorkommen? b) Am Ende des Programms erfolgt die Ausgabe der Tipps an den Benutzer in beliebiger Reihenfolge. Die einzelnen Tipps sollen dabei aufsteigend sortiert ausgegeben werden. Geben Sie zu jedem Tipp auch eine Zusatzzahl mit aus, die nicht bereits im Tipp vorkommt!"
   ]
  },
  {
   "cell_type": "code",
   "execution_count": 1,
   "id": "3c888e61-c746-4de2-9a0d-90912e9dea8f",
   "metadata": {},
   "outputs": [],
   "source": [
    "import random\n",
    "def quicktipp():\n",
    "    numbers = list(\n",
    "        range(1, 46)\n",
    "    )\n",
    "    tipp = []\n",
    "    while len(tipp) < 6:\n",
    "        tipp.append(\n",
    "            random.choice(numbers)\n",
    "        )\n",
    "        numbers.remove(\n",
    "            tipp[-1]\n",
    "        )\n",
    "    \n",
    "    additional = random.choice(numbers)\n",
    "    return sorted(tipp), additional\n",
    "\n",
    "def generate_quicktipps(n):\n",
    "    tipps = dict()\n",
    "    while len(tipps) < n:\n",
    "        tipp, additional = quicktipp()\n",
    "        key = tuple(tipp)\n",
    "        if not tipps.get(key):\n",
    "            tipps[key] = (tipp, additional)\n",
    "            \n",
    "    for i, (tipp, additional) in enumerate(tipps.values()):\n",
    "        tipp_string = ' '.join(\n",
    "            [' ' + str(i) if i < 10 else str(i) for i in tipp]\n",
    "        )\n",
    "        additional_string = ' ' + str(additional) if additional < 10 else str(additional)\n",
    "        print(\n",
    "            f'Tipp {i + 1}: {tipp_string} + zz: {additional}'\n",
    "        )   "
   ]
  },
  {
   "cell_type": "code",
   "execution_count": 2,
   "id": "35c77979-b371-4e2c-8845-fd51b652018a",
   "metadata": {},
   "outputs": [
    {
     "name": "stdout",
     "output_type": "stream",
     "text": [
      "Tipp 1: 15 19 22 26 35 44 + zz: 39\n",
      "Tipp 2:  8 15 16 22 30 31 + zz: 41\n",
      "Tipp 3:  2  6 11 37 39 41 + zz: 5\n",
      "Tipp 4:  1  6 25 34 35 43 + zz: 19\n",
      "Tipp 5:  4  6 13 35 36 38 + zz: 24\n",
      "Tipp 6: 22 29 40 41 42 45 + zz: 11\n"
     ]
    }
   ],
   "source": [
    "generate_quicktipps(6)"
   ]
  },
  {
   "cell_type": "markdown",
   "id": "3ba332b0-65a3-4a0d-b20d-8e17b780858d",
   "metadata": {},
   "source": [
    "# Eulersche e-Funktion\n",
    "Vergleichen Sie die Berechnungen für 𝑒𝑖𝑦 und y=1,...,30 aus\n",
    "den ersten 100 Gliedern der Taylorreihenentwicklung ($e^x = \\sum_{n = 0}^{\\infty}{\\frac{x^n}{n!}}$),\n",
    "der Eulerschen Formel $e^{iy} = \\cos(y) + i\\sin(y)$,\n",
    "Pythons exp-Funktion.\n",
    "Speichern Sie die drei Werte in einem Tupel, das Gesamtergebnis in eine Liste und geben Sie diese am Bildschirm aus. Benutzen Sie in diesem Beispiel so viele vorgefertigte Funktionen aus dem (c)math-Modul wie möglich. Was fällt Ihnen bei großen Werten von 𝑦 auf?"
   ]
  },
  {
   "cell_type": "code",
   "execution_count": 3,
   "id": "dfca7e80-5cc1-4bd2-a99b-4bc2de6abe9a",
   "metadata": {},
   "outputs": [
    {
     "name": "stdout",
     "output_type": "stream",
     "text": [
      "(2.7182818284590455, 2.718281828459045, 2.718281828459045)\n",
      "(7.389056098930649, 7.38905609893065, 7.38905609893065)\n",
      "(20.08553692318766, 20.085536923187668, 20.085536923187668)\n",
      "(54.598150033144265, 54.598150033144236, 54.598150033144236)\n",
      "(148.41315910257657, 148.4131591025766, 148.4131591025766)\n",
      "(403.4287934927351, 403.4287934927351, 403.4287934927351)\n",
      "(1096.6331584284578, 1096.6331584284585, 1096.6331584284585)\n",
      "(2980.957987041728, 2980.9579870417283, 2980.9579870417283)\n",
      "(8103.083927575384, 8103.083927575384, 8103.083927575384)\n",
      "(22026.46579480671, 22026.465794806718, 22026.465794806718)\n",
      "(59874.14171519782, 59874.141715197824, 59874.14171519782)\n",
      "(162754.79141900386, 162754.79141900392, 162754.79141900392)\n",
      "(442413.39200892043, 442413.3920089205, 442413.3920089205)\n",
      "(1202604.2841647773, 1202604.2841647768, 1202604.2841647768)\n",
      "(3269017.3724721107, 3269017.3724721107, 3269017.3724721107)\n",
      "(8886110.520507872, 8886110.520507872, 8886110.520507872)\n",
      "(24154952.753575306, 24154952.7535753, 24154952.7535753)\n",
      "(65659969.13733051, 65659969.13733051, 65659969.13733051)\n",
      "(178482300.96318725, 178482300.96318728, 178482300.96318725)\n",
      "(485165195.40979016, 485165195.4097903, 485165195.4097903)\n",
      "(1318815734.4832141, 1318815734.4832146, 1318815734.4832146)\n",
      "(3584912846.1315923, 3584912846.131592, 3584912846.131592)\n",
      "(9744803446.248905, 9744803446.248903, 9744803446.248903)\n",
      "(26489122129.84347, 26489122129.84347, 26489122129.84347)\n",
      "(72004899337.38588, 72004899337.38588, 72004899337.38588)\n",
      "(195729609428.83875, 195729609428.83878, 195729609428.83878)\n",
      "(532048240601.7988, 532048240601.79865, 532048240601.79865)\n",
      "(1446257064291.4739, 1446257064291.475, 1446257064291.475)\n",
      "(3931334297144.0425, 3931334297144.042, 3931334297144.042)\n",
      "(10686474581524.467, 10686474581524.463, 10686474581524.463)\n"
     ]
    }
   ],
   "source": [
    "import math\n",
    "import cmath\n",
    "def taylor_exp(x, n):\n",
    "    if n == 1:\n",
    "        return 1 + x\n",
    "    \n",
    "    else:\n",
    "        return math.pow(x, n) / math.factorial(n) + taylor_exp(x, n - 1)\n",
    "\n",
    "def identity_exp(x):\n",
    "    x_c = -complex(0, x)\n",
    "    e_x = cmath.cos(x_c) + complex(0, cmath.sin(x_c))\n",
    "    return abs(e_x)\n",
    "\n",
    "results = []\n",
    "for i in range(30):\n",
    "    results.append(\n",
    "        (\n",
    "            taylor_exp(i + 1, 100),\n",
    "            identity_exp(i + 1),\n",
    "            math.exp(i + 1)\n",
    "        )\n",
    "    )\n",
    "    print(results[-1])"
   ]
  },
  {
   "cell_type": "markdown",
   "id": "021500c7-3202-435f-9f70-7ffd8800b6f4",
   "metadata": {},
   "source": [
    "# Random Text\n",
    "a) Erstellen Sie einen zufälligen (bedeutungslosen) Text mit 5 Worten, indem Sie den Befehl random.sample(string.ascii_lowercase,n) adaptieren und verwenden (Achtung: Sie müssen hierfür die richtigen Module importieren). Die Wortlänge 𝑛 der einzelnen Worte soll zufällig gewählt und zwischen 2 und 9 Buchstaben sein. Geben Sie den Text mit Leerzeichen zwischen den einzelnen Worten aus. Beispiel eines Zufalltexts:  \"bhavzsj xqfte oqe yelf zxbco\"."
   ]
  },
  {
   "cell_type": "code",
   "execution_count": 4,
   "id": "c60c51b4-7fb6-4438-ac4f-405033fddfd4",
   "metadata": {},
   "outputs": [
    {
     "data": {
      "text/plain": [
       "'ftxuzqme oakwypeji toujklrv pnrxhwkso skpxeicdq'"
      ]
     },
     "execution_count": 4,
     "metadata": {},
     "output_type": "execute_result"
    }
   ],
   "source": [
    "import random, string\n",
    "from collections import defaultdict\n",
    "def random_text(nwords):\n",
    "    rnd_text = []\n",
    "    for i in range(nwords):\n",
    "        rnd_word = ''.join(\n",
    "            random.sample(\n",
    "                string.ascii_lowercase,\n",
    "                random.randint(2, 9)\n",
    "            )\n",
    "        )\n",
    "        rnd_text.append(rnd_word)\n",
    "    \n",
    "    return ' '.join(rnd_text)\n",
    "\n",
    "random_text(5)"
   ]
  },
  {
   "cell_type": "markdown",
   "id": "014961dd-ba3e-4d59-9bf1-d3f2dbb2f910",
   "metadata": {},
   "source": [
    "b) Legen Sie weiters eine Funktion an, die für einen gegebenen Text ein Dictionary zurückgibt, das für alle vorkommenden Buchstaben deren Anzahl enthält. Geben Sie solch ein Dictionary für einen Zufallstext aus. Speichern Sie nun 5 Zufallstexte und 5 beliebige (sinnvolle) Sätze in eine Liste. Berechnen Sie den durchschnittlichen prozentualen Anteil des Buchstabens 'e' in den 5 Zufallssätzen im Vergleich zu den 5 gewählten Sätzen.  Warum ist der Unterschied so groß? Beachten Sie, dass Leerzeichen und Punkte nicht als Buchstaben zählen."
   ]
  },
  {
   "cell_type": "code",
   "execution_count": 5,
   "id": "876ff27e-b205-44b1-927e-65dd8cb8ee53",
   "metadata": {},
   "outputs": [
    {
     "data": {
      "text/plain": [
       "defaultdict(int,\n",
       "            {'m': 1,\n",
       "             'x': 2,\n",
       "             'd': 1,\n",
       "             'z': 2,\n",
       "             'f': 1,\n",
       "             'g': 1,\n",
       "             'e': 1,\n",
       "             'b': 1,\n",
       "             'y': 1,\n",
       "             's': 1,\n",
       "             'j': 1,\n",
       "             'r': 1,\n",
       "             'h': 1,\n",
       "             'l': 1,\n",
       "             'p': 1,\n",
       "             'u': 1})"
      ]
     },
     "execution_count": 5,
     "metadata": {},
     "output_type": "execute_result"
    }
   ],
   "source": [
    "def count_chars(text):\n",
    "    counter = defaultdict(int)\n",
    "    for word in text.split():\n",
    "        for char in word:\n",
    "            counter[char] += 1\n",
    "    \n",
    "    return counter\n",
    "\n",
    "count_chars(\n",
    "    random_text(5)\n",
    ")"
   ]
  },
  {
   "cell_type": "code",
   "execution_count": 6,
   "id": "376e7c64-b130-4d5b-a3b3-9222edad78ea",
   "metadata": {},
   "outputs": [
    {
     "name": "stdout",
     "output_type": "stream",
     "text": [
      "Percent of character \"e\" in random words: 4.62%\n",
      "Percent of character \"e\" in real words: 20.10%\n"
     ]
    }
   ],
   "source": [
    "rnd_texts = [random_text(5) for i in range(5)]\n",
    "real_texts = [\n",
    "    'ich bin heute etwas faul',\n",
    "    'ich lasse texte lieber generieren',\n",
    "    'der computer ueberlegt fuer mich',\n",
    "    'macht eventuell manchmal keinen sinn',\n",
    "    'dafuer spar ich mir energie'\n",
    "]\n",
    "\n",
    "def compute_char_percentage(char, text):\n",
    "    counts = count_chars(\n",
    "        text\n",
    "    )\n",
    "    return counts[char] / sum(counts.values()) * 100\n",
    "\n",
    "percent_e_rnd, percent_e_real = 0, 0\n",
    "for rnd_text, real_text in zip(rnd_texts, real_texts):\n",
    "    percent_e_rnd += compute_char_percentage('e', rnd_text)\n",
    "    percent_e_real += compute_char_percentage('e', real_text)\n",
    "\n",
    "print('Percent of character \"e\" in random words: {:.2f}%'.format(percent_e_rnd / 5))\n",
    "print('Percent of character \"e\" in real words: {:.2f}%'.format(percent_e_real / 5))"
   ]
  },
  {
   "cell_type": "markdown",
   "id": "39faf0a9-751d-404a-8b1b-1cd8f3673ae1",
   "metadata": {},
   "source": [
    "c) Speichern Sie zwei der in b) gewählten Sätze als Mengen 𝑠1 und 𝑠2 ab, wobei alle Buchstaben als Kleinbuchstaben abgespeichert werden sollen. Welche Buchstaben kommen in beiden Sätzen gemeinsam vor und wie oft? Gibt es Buchstaben, die nur in einem Text vorkommen; wenn ja, welche? (Leerzeichen und Punkte sollen wieder ignoriert werden.)"
   ]
  },
  {
   "cell_type": "code",
   "execution_count": 7,
   "id": "d0938305-1d91-452c-bcf3-16dc3161b32b",
   "metadata": {},
   "outputs": [
    {
     "name": "stdout",
     "output_type": "stream",
     "text": [
      "The following characters occur in both texts\n",
      "s1:   c: 1, s: 1, b: 1, t: 2, l: 1, a: 2, i: 2, h: 2, n: 1, e: 3\n",
      "s2:   c: 1, s: 2, b: 1, t: 2, l: 2, a: 1, i: 3, h: 1, n: 2, e: 9\n",
      "both: c: 2, s: 3, b: 2, t: 4, l: 3, a: 3, i: 5, h: 3, n: 3, e: 12\n",
      "\n",
      "The following characters only occur in one of the two texts\n",
      "{'f', 'g', 'w', 'u', 'r', 'x'}\n"
     ]
    }
   ],
   "source": [
    "s1 = set(real_texts[0].replace(' ', ''))\n",
    "s2 = set(real_texts[1].replace(' ', ''))\n",
    "s1_counts = count_chars(real_texts[0])\n",
    "s2_counts = count_chars(real_texts[1])\n",
    "print('The following characters occur in both texts')\n",
    "count_common_s1, count_common_s2, count_common_both = [], [], []\n",
    "for char in s1.intersection(s2):\n",
    "    char_count_s1 = s1_counts[char]\n",
    "    char_count_s2 = s2_counts[char]\n",
    "    count_common_s1.append(\n",
    "        f'{char}: {char_count_s1}'\n",
    "    )\n",
    "    count_common_s2.append(\n",
    "        f'{char}: {char_count_s2}'\n",
    "    )\n",
    "    count_common_both.append(\n",
    "        f'{char}: {char_count_s1 + char_count_s2}'\n",
    "    )\n",
    "    \n",
    "print('s1:   ' + ', '.join(count_common_s1))\n",
    "print('s2:   ' + ', '.join(count_common_s2))\n",
    "print('both: ' + ', '.join(count_common_both)) \n",
    "\n",
    "print('\\nThe following characters only occur in one of the two texts')\n",
    "print(s1.symmetric_difference(s2))"
   ]
  }
 ],
 "metadata": {
  "kernelspec": {
   "display_name": "mathcode",
   "language": "python",
   "name": "mathcode"
  },
  "language_info": {
   "codemirror_mode": {
    "name": "ipython",
    "version": 3
   },
   "file_extension": ".py",
   "mimetype": "text/x-python",
   "name": "python",
   "nbconvert_exporter": "python",
   "pygments_lexer": "ipython3",
   "version": "3.9.7"
  }
 },
 "nbformat": 4,
 "nbformat_minor": 5
}
