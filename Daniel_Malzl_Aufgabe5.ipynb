{
 "cells": [
  {
   "cell_type": "markdown",
   "id": "bdc9a4c5-3d6e-4cb9-a965-8b20335589a0",
   "metadata": {},
   "source": [
    "Die internationale Standardbuchnummer (ISBN) ist eine Nummer zur eindeutigen Kennzeichnung von Buchern. Sie besteht aus 13 Ziffern $z_{1}, \\ldots, z_{13}$ (d.h. ganze Zahlen zwischen 0 und 9). Die letzte Ziffer ist eine Prüfziffer, anhand derer man die Korrektheit der restlichen Ziffern feststellen kann (z.B. Schutz gegen Falscheingaben). Diese Prüfziffer wird folgendermaßen berechnet:\n",
    "\n",
    "$$\n",
    "z_{13} = p\\pmod{10}\n",
    "$$\n",
    "\n",
    "mit\n",
    "\n",
    "$$\n",
    "p = 10 - \\left(z_{1} + z_{3} + z_{5} + z_{7} + z_{9} + z_{11} + 3 * \\left(z_{2} + z_{4} + z_{6} + z_{8} + z_{10} + z_{12}\\right)\\right)\\pmod{10}\n",
    "$$\n",
    "\n",
    "Dies ist aquivalent dazu, dass\n",
    "\n",
    "$$\n",
    "z_{1} + z_{3} + z_{5} + z_{7} + z_{9} + z_{11} + z_{13} + 3 * (z_{2} + z_{4} + z_{6} + z_{8} + z_{10} + z_{12})\\pmod{10} = 0\n",
    "$$\n",
    "\n",
    "gilt. Schreiben Sie eine Funktion `check_isbn`, die eine ISBN vom Nutzer übernimmt (nur die Zahl ohne Präfix und Sonderzeichen), deren Korrektheit prüft und anhand eines Boolean-Wertes zurückgibt. Zuerst soll geprüft werden, ob die übergebene Ziffernfolge die richtige Anzahl an Elementen hat und ggf. eine Fehlermeldung ausgegeben werden. Summieren Sie im Algorithmus die benotigten Werte ohne alle Elemente explizit hinzuschreiben (dafur müssen Sie eine geeignete Datenstruktur wählen). Zum Testen des Algorithmus können Sie z.B. die gültige ISBN 9783423348478 verwenden. Wenden Sie das Programm nun mehrfach an, indem Sie über eine Liste selbst gewählter ISBN iterieren (suchen Sie sich zB einige beliebige Bücher aus einem Online-Buchhandel aus), und geben Sie je nach Rückgabe der Funktion einen verständlichen String aus, ob die Nummer gültig ist oder nicht"
   ]
  },
  {
   "cell_type": "code",
   "execution_count": 13,
   "id": "a9c660f7-54f0-410a-9ff3-d0f445b588ec",
   "metadata": {},
   "outputs": [
    {
     "name": "stdout",
     "output_type": "stream",
     "text": [
      "9783423348478 is a valid ISBN: True\n"
     ]
    }
   ],
   "source": [
    "import numpy as np\n",
    "def check_isbn(isbn):\n",
    "    '''\n",
    "    überprüft die Korrektheit der übergebenen isbn\n",
    "    \n",
    "    :param isbn:   internationale standardbuchnummer als string\n",
    "    \n",
    "    :return:       True wenn die ISBN valide ist andernfalls False\n",
    "    '''\n",
    "    isbn = np.array([int(i) for i in isbn])\n",
    "    even_idx = np.arange(1, 13, 2)\n",
    "    odd_idx = np.arange(0, 14, 2)\n",
    "    return (isbn[odd_idx].sum() + 3 * isbn[even_idx].sum()) % 10 == 0\n",
    "\n",
    "test_isbn = '9783423348478'\n",
    "print(\n",
    "    f'9783423348478 is a valid ISBN: {check_isbn(test_isbn)}'\n",
    ")"
   ]
  },
  {
   "cell_type": "code",
   "execution_count": 14,
   "id": "343b99d1-15da-4e56-b3d8-c8aa8d1c10ce",
   "metadata": {},
   "outputs": [
    {
     "name": "stdout",
     "output_type": "stream",
     "text": [
      "9783658039455 is a valid ISBN: True\n",
      "9783662628584 is a valid ISBN: True\n",
      "9783834893772 is a valid ISBN: True\n",
      "9783834883360 is a valid ISBN: True\n",
      "9783658039457 is a valid ISBN: False\n",
      "9783662628583 is a valid ISBN: False\n",
      "9783834893775 is a valid ISBN: False\n",
      "9783834883366 is a valid ISBN: False\n"
     ]
    }
   ],
   "source": [
    "# die ersten 4 sind valide die anderen invalide\n",
    "isbns = [\n",
    "    '9783658039455',\n",
    "    '9783662628584',\n",
    "    '9783834893772',\n",
    "    '9783834883360',\n",
    "    '9783658039457',\n",
    "    '9783662628583',\n",
    "    '9783834893775',\n",
    "    '9783834883366'\n",
    "]\n",
    "\n",
    "for isbn in isbns:\n",
    "    print(\n",
    "        f'{isbn} is a valid ISBN: {check_isbn(isbn)}'\n",
    "    )"
   ]
  }
 ],
 "metadata": {
  "kernelspec": {
   "display_name": "mathcode",
   "language": "python",
   "name": "mathcode"
  },
  "language_info": {
   "codemirror_mode": {
    "name": "ipython",
    "version": 3
   },
   "file_extension": ".py",
   "mimetype": "text/x-python",
   "name": "python",
   "nbconvert_exporter": "python",
   "pygments_lexer": "ipython3",
   "version": "3.9.7"
  }
 },
 "nbformat": 4,
 "nbformat_minor": 5
}
